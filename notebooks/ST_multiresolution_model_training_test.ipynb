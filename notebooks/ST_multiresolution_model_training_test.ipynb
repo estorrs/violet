{
 "cells": [
  {
   "cell_type": "code",
   "execution_count": 1,
   "id": "3fdab24c",
   "metadata": {},
   "outputs": [],
   "source": [
    "import os\n",
    "import re\n",
    "\n",
    "import anndata\n",
    "import numpy as np\n",
    "import pandas as pd\n",
    "import seaborn as sns\n",
    "import scanpy as sc\n",
    "from umap import UMAP\n",
    "from sklearn.preprocessing import StandardScaler"
   ]
  },
  {
   "cell_type": "code",
   "execution_count": 2,
   "id": "5e7ba0eb",
   "metadata": {},
   "outputs": [],
   "source": [
    "import torch\n",
    "import torch.nn as nn\n",
    "from torchvision import datasets, transforms"
   ]
  },
  {
   "cell_type": "code",
   "execution_count": 3,
   "id": "d04d0344",
   "metadata": {},
   "outputs": [],
   "source": [
    "%load_ext autoreload"
   ]
  },
  {
   "cell_type": "code",
   "execution_count": 4,
   "id": "0cea39f7",
   "metadata": {},
   "outputs": [],
   "source": [
    "%autoreload 2"
   ]
  },
  {
   "cell_type": "code",
   "execution_count": 5,
   "id": "cbd3af7b",
   "metadata": {},
   "outputs": [],
   "source": [
    "from violet.utils.model import load_pretrained_model\n",
    "from violet.utils.dataloaders import listfiles, image_regression_dataloaders\n",
    "from violet.models.st import STRegressor, STLearner\n",
    "from violet.utils.st import load_st_learner, run_st_learner, load_imagenet_st_learner"
   ]
  },
  {
   "cell_type": "code",
   "execution_count": 6,
   "id": "56b6dfe8",
   "metadata": {},
   "outputs": [
    {
     "data": {
      "text/plain": [
       "3"
      ]
     },
     "execution_count": 6,
     "metadata": {},
     "output_type": "execute_result"
    }
   ],
   "source": [
    "torch.cuda.set_device(3)\n",
    "torch.cuda.current_device()"
   ]
  },
  {
   "cell_type": "code",
   "execution_count": null,
   "id": "ae6b7ade",
   "metadata": {},
   "outputs": [],
   "source": [
    "st_img_dir = '/data/violet/st/pdac_ffpe_raw'\n",
    "weights = '/home/estorrs/violet/sandbox/dino_runs/pdac_ffpe_tcia_raw_augmented_20samples/checkpoint0060.pth'\n",
    "run_dir = '/home/estorrs/violet/sandbox/runs/pdac_ffpe_tcia_raw_augmented_20samples'"
   ]
  }
 ],
 "metadata": {
  "kernelspec": {
   "display_name": "Python 3",
   "language": "python",
   "name": "python3"
  },
  "language_info": {
   "codemirror_mode": {
    "name": "ipython",
    "version": 3
   },
   "file_extension": ".py",
   "mimetype": "text/x-python",
   "name": "python",
   "nbconvert_exporter": "python",
   "pygments_lexer": "ipython3",
   "version": "3.8.10"
  }
 },
 "nbformat": 4,
 "nbformat_minor": 5
}
