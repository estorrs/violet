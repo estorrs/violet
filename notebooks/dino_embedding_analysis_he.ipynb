{
 "cells": [
  {
   "cell_type": "code",
   "execution_count": null,
   "id": "95fd687e",
   "metadata": {},
   "outputs": [],
   "source": [
    "import os\n",
    "import re\n",
    "\n",
    "import anndata\n",
    "import numpy as np\n",
    "import pandas as pd\n",
    "import seaborn as sns\n",
    "import scanpy as sc\n",
    "from umap import UMAP\n",
    "from sklearn.preprocessing import StandardScaler\n"
   ]
  },
  {
   "cell_type": "code",
   "execution_count": null,
   "id": "110a1109",
   "metadata": {},
   "outputs": [],
   "source": [
    "import torch\n",
    "from torchvision import datasets, transforms"
   ]
  },
  {
   "cell_type": "code",
   "execution_count": null,
   "id": "690291d3",
   "metadata": {},
   "outputs": [],
   "source": [
    "%load_ext autoreload"
   ]
  },
  {
   "cell_type": "code",
   "execution_count": null,
   "id": "ecb66ac4",
   "metadata": {},
   "outputs": [],
   "source": [
    "%autoreload 2"
   ]
  },
  {
   "cell_type": "code",
   "execution_count": null,
   "id": "11b1f65e",
   "metadata": {},
   "outputs": [],
   "source": [
    "import violet\n",
    "from violet.utils.attention import plot_image_attention, get_image_attention\n",
    "from violet.utils.model import predict, load_pretrained_model\n",
    "from violet.utils.dataloaders import get_dataloader, listfiles, image_classification_dataloaders\n",
    "from violet.utils.analysis import plot_image_umap"
   ]
  },
  {
   "cell_type": "code",
   "execution_count": null,
   "id": "edc4e5b8",
   "metadata": {},
   "outputs": [],
   "source": [
    "img_dir = '/home/estorrs/violet/data/st/human_he_06252021'\n",
    "weights = '/home/estorrs/violet/sandbox/dino_runs/he_st_xcit_p16/checkpoint0400.pth'"
   ]
  },
  {
   "cell_type": "code",
   "execution_count": null,
   "id": "86a4fa81",
   "metadata": {},
   "outputs": [],
   "source": [
    "train_dataloader, val_dataloader = image_classification_dataloaders(img_dir)"
   ]
  },
  {
   "cell_type": "code",
   "execution_count": null,
   "id": "38eada47",
   "metadata": {},
   "outputs": [],
   "source": [
    "model = load_pretrained_model(weights, model_name='xcit_small')\n",
    "model = model.cuda()"
   ]
  },
  {
   "cell_type": "code",
   "execution_count": null,
   "id": "838c3ea8",
   "metadata": {},
   "outputs": [],
   "source": [
    "fps = sorted(listfiles(img_dir, regex='.jpeg$'))\n",
    "len(fps)"
   ]
  },
  {
   "cell_type": "code",
   "execution_count": null,
   "id": "72b598ec",
   "metadata": {},
   "outputs": [],
   "source": [
    "attn = get_image_attention(fps[0], model)\n",
    "attn.shape"
   ]
  },
  {
   "cell_type": "code",
   "execution_count": null,
   "id": "a9676976",
   "metadata": {},
   "outputs": [],
   "source": [
    "plot_image_attention(fps[2], model)"
   ]
  },
  {
   "cell_type": "code",
   "execution_count": null,
   "id": "66ad2b79",
   "metadata": {},
   "outputs": [],
   "source": [
    "plot_image_attention(fps[0], model, display='mean')"
   ]
  },
  {
   "cell_type": "code",
   "execution_count": null,
   "id": "22b67857",
   "metadata": {},
   "outputs": [],
   "source": [
    "dataloader = get_dataloader(img_dir, batch_size=1024, shuffle=False)\n",
    "embs = predict(dataloader, model)\n",
    "embs.shape"
   ]
  },
  {
   "cell_type": "code",
   "execution_count": null,
   "id": "809325d8",
   "metadata": {},
   "outputs": [],
   "source": [
    "x = UMAP(n_components=2).fit_transform(embs)"
   ]
  },
  {
   "cell_type": "code",
   "execution_count": null,
   "id": "2be44b8b",
   "metadata": {},
   "outputs": [],
   "source": [
    "adata = anndata.AnnData(X=embs)\n",
    "adata.obs.index = [s.split('/')[-1].split('.')[0] for s, _ in dataloader.dataset.samples]\n",
    "adata.obs['sample'] = ['_'.join(s.split('_')[:-1]) for s in adata.obs.index]\n",
    "adata.obsm['X_umap_emb'] = x\n",
    "adata"
   ]
  },
  {
   "cell_type": "code",
   "execution_count": null,
   "id": "810e2c12",
   "metadata": {},
   "outputs": [],
   "source": [
    "sc.pl.embedding(adata, basis='X_umap_emb', color=['sample'])"
   ]
  },
  {
   "cell_type": "code",
   "execution_count": null,
   "id": "de47cb79",
   "metadata": {},
   "outputs": [],
   "source": [
    "fmap = pd.read_csv('/home/estorrs/spatial-analysis/data/sample_map.txt', sep='\\t', index_col=0)\n",
    "fmap"
   ]
  },
  {
   "cell_type": "code",
   "execution_count": null,
   "id": "dda0d793",
   "metadata": {},
   "outputs": [],
   "source": [
    "from collections import Counter\n",
    "counts = Counter([d for d in fmap['disease'] if 'mouse' not in d if 'pdx' not in d])\n",
    "xs, ys = zip(*counts.items())\n",
    "pd.DataFrame.from_dict({'disease': xs, 'sample count': ys}).set_index('disease')"
   ]
  },
  {
   "cell_type": "code",
   "execution_count": null,
   "id": "89b739c3",
   "metadata": {},
   "outputs": [],
   "source": [
    "len([d for d in fmap['disease'] if 'mouse' not in d if 'pdx' not in d])"
   ]
  },
  {
   "cell_type": "code",
   "execution_count": null,
   "id": "58ac52f7",
   "metadata": {},
   "outputs": [],
   "source": [
    "adata.obs['disease'] = [fmap.loc[x, 'disease'] for x in adata.obs['sample']]\n",
    "sc.pl.embedding(adata, basis='X_umap_emb', color=['disease'])"
   ]
  },
  {
   "cell_type": "code",
   "execution_count": null,
   "id": "c613786d",
   "metadata": {},
   "outputs": [],
   "source": []
  },
  {
   "cell_type": "code",
   "execution_count": null,
   "id": "b4dc0e73",
   "metadata": {},
   "outputs": [],
   "source": [
    "# lets do co_met\n",
    "keep = ['co', 'co_met']\n",
    "co = adata[[True if x in keep else False for x in adata.obs['disease']]].copy()\n",
    "co"
   ]
  },
  {
   "cell_type": "code",
   "execution_count": null,
   "id": "7cc6a0a6",
   "metadata": {},
   "outputs": [],
   "source": [
    "var = sc.read_visium(fmap.iloc[0]['spaceranger_output']).var\n",
    "var"
   ]
  },
  {
   "cell_type": "code",
   "execution_count": null,
   "id": "b562e5ef",
   "metadata": {
    "scrolled": true
   },
   "outputs": [],
   "source": [
    "obs = None\n",
    "var = None\n",
    "data = None\n",
    "for i, row in fmap.iterrows():\n",
    "    if row['disease'] in keep:\n",
    "        a = sc.read_visium(row['spaceranger_output'])\n",
    "        a.var_names_make_unique()\n",
    "        a.var[\"mt\"] = a.var_names.str.startswith(\"MT-\")\n",
    "        sc.pp.calculate_qc_metrics(a, qc_vars=[\"mt\"], inplace=True)\n",
    "        \n",
    "        a.obs.index = [f'{i}_{x}' for x in a.obs.index]\n",
    "        a.obs['sample'] = i\n",
    "        \n",
    "        if obs is None:\n",
    "            obs = a.obs\n",
    "        else:\n",
    "            obs = pd.concat((obs, a.obs), axis=0)\n",
    "            \n",
    "        if var is None:\n",
    "            var = a.var\n",
    "\n",
    "        if data is None:\n",
    "            data = a.X.toarray()\n",
    "        else:\n",
    "            data = np.concatenate((data, a.X.toarray()), axis=0)\n",
    "obs.shape, var.shape, data.shape"
   ]
  },
  {
   "cell_type": "code",
   "execution_count": null,
   "id": "7addc044",
   "metadata": {},
   "outputs": [],
   "source": [
    "adata_exp = anndata.AnnData(X=data)\n",
    "adata_exp.var = var\n",
    "adata_exp.obs = obs\n",
    "adata_exp"
   ]
  },
  {
   "cell_type": "code",
   "execution_count": null,
   "id": "82f43dca",
   "metadata": {
    "scrolled": true
   },
   "outputs": [],
   "source": [
    "sns.histplot(adata_exp.obs, x='total_counts', kde=False, hue='sample')"
   ]
  },
  {
   "cell_type": "code",
   "execution_count": null,
   "id": "26a438eb",
   "metadata": {},
   "outputs": [],
   "source": [
    "exclude_samples = ['HT213C1A4_U1', 'HT165C1A3', 'HT250C1', 'HT253C1T1']\n",
    "adata_exp = adata_exp[[True if s not in exclude_samples else False\n",
    "                      for s in adata_exp.obs['sample']]]"
   ]
  },
  {
   "cell_type": "code",
   "execution_count": null,
   "id": "d693c38d",
   "metadata": {},
   "outputs": [],
   "source": [
    "sc.pp.filter_cells(adata_exp, min_counts=1000)\n",
    "\n",
    "sc.pp.normalize_total(adata_exp, inplace=True)\n",
    "sc.pp.log1p(adata_exp)\n",
    "sc.pp.highly_variable_genes(adata_exp, flavor=\"seurat\", n_top_genes=2000)"
   ]
  },
  {
   "cell_type": "code",
   "execution_count": null,
   "id": "db66a14c",
   "metadata": {},
   "outputs": [],
   "source": []
  },
  {
   "cell_type": "code",
   "execution_count": null,
   "id": "cdc9d0de",
   "metadata": {
    "scrolled": true
   },
   "outputs": [],
   "source": [
    "for i, row in fmap.iterrows():\n",
    "    if row['disease'] in keep:\n",
    "        print(i)\n",
    "        a = sc.read_visium(row['spaceranger_output'])\n",
    "        a.var_names_make_unique()\n",
    "        sc.pl.spatial(a)"
   ]
  },
  {
   "cell_type": "code",
   "execution_count": null,
   "id": "fc6818a4",
   "metadata": {},
   "outputs": [],
   "source": [
    "s_id = 'HT112C1_U2'\n",
    "ref = co[co.obs['sample']==s_id].copy()\n",
    "sc.pp.pca(ref)\n",
    "sc.pp.neighbors(ref)\n",
    "sc.tl.umap(ref)\n",
    "sc.tl.leiden(ref)\n",
    "new = []\n",
    "for s in sorted(set(co.obs['sample'])):\n",
    "    small = co[co.obs['sample']==s].copy()\n",
    "    if s!=s_id:\n",
    "        sc.tl.ingest(small, ref, obs=['leiden'])\n",
    "        new.append(small)\n",
    "new.append(ref)\n",
    "corrected = anndata.concat(new)\n",
    "corrected"
   ]
  },
  {
   "cell_type": "code",
   "execution_count": null,
   "id": "14962f00",
   "metadata": {},
   "outputs": [],
   "source": [
    "sc.pl.umap(corrected, color='leiden')"
   ]
  },
  {
   "cell_type": "code",
   "execution_count": null,
   "id": "e01837fa",
   "metadata": {},
   "outputs": [],
   "source": [
    "overlap = sorted(set(corrected.obs.index).intersection(set(adata_exp.obs.index)))\n",
    "corrected_exp = adata_exp[overlap]"
   ]
  },
  {
   "cell_type": "code",
   "execution_count": null,
   "id": "bd084e07",
   "metadata": {},
   "outputs": [],
   "source": [
    "corrected_exp.obs['disease'] = [corrected.obs.loc[x, 'disease'] for x in corrected_exp.obs.index]\n",
    "corrected_exp.obs['leiden'] = [corrected.obs.loc[x, 'leiden'] for x in corrected_exp.obs.index]\n",
    "corrected_exp.obsm['X_umap'] = corrected[overlap].obsm['X_umap']\n",
    "corrected_exp"
   ]
  },
  {
   "cell_type": "code",
   "execution_count": null,
   "id": "96925c35",
   "metadata": {},
   "outputs": [],
   "source": [
    "import matplotlib.pyplot as plt\n",
    "plt.rcParams[\"figure.figsize\"] = (5, 5)\n",
    "plt.rcParams['figure.dpi'] = 180"
   ]
  },
  {
   "cell_type": "code",
   "execution_count": null,
   "id": "52d1cd07",
   "metadata": {
    "scrolled": true
   },
   "outputs": [],
   "source": [
    "sc.pl.umap(corrected, color=['sample', 'disease', 'leiden'], ncols=1, size=10)"
   ]
  },
  {
   "cell_type": "code",
   "execution_count": null,
   "id": "5cd85a0b",
   "metadata": {},
   "outputs": [],
   "source": [
    "fps = listfiles(img_dir, regex='.jpeg$')\n",
    "sample_to_fp = {fp.split('/')[-1].split('.')[0]:fp for fp in fps}"
   ]
  },
  {
   "cell_type": "code",
   "execution_count": null,
   "id": "8784d44e",
   "metadata": {
    "scrolled": true
   },
   "outputs": [],
   "source": [
    "n = 500\n",
    "idxs = np.random.permutation(corrected_exp.obs.index.to_list())[:n]\n",
    "filtered = corrected_exp[idxs]\n",
    "plot_image_umap(\n",
    "    filtered.obsm['X_umap'][:, 0].flatten(),\n",
    "    filtered.obsm['X_umap'][:, 1].flatten(),\n",
    "    [sample_to_fp[s] for s in filtered.obs.index]\n",
    ")"
   ]
  },
  {
   "cell_type": "code",
   "execution_count": null,
   "id": "bd736ed6",
   "metadata": {},
   "outputs": [],
   "source": [
    "genes = ['leiden', 'CD3G', 'IL7R', 'CD8A']\n",
    "sc.pl.umap(corrected_exp, color=genes, size=10)"
   ]
  },
  {
   "cell_type": "code",
   "execution_count": null,
   "id": "03e0be2b",
   "metadata": {},
   "outputs": [],
   "source": [
    "genes = ['leiden', 'EPCAM', 'CDH1']\n",
    "sc.pl.umap(corrected_exp, color=genes, size=10)"
   ]
  },
  {
   "cell_type": "code",
   "execution_count": null,
   "id": "353dac0b",
   "metadata": {},
   "outputs": [],
   "source": [
    "# visualize\n",
    "s_id = 'HT112C1_U2'\n",
    "a = sc.read_visium(fmap.loc[s_id, 'spaceranger_output'])\n",
    "a.var_names_make_unique()\n",
    "a.obs.index = [f'{s_id}_{x}' for x in a.obs.index]\n",
    "sc.pp.normalize_total(a, inplace=True)\n",
    "sc.pp.log1p(a)\n",
    "sc.pp.highly_variable_genes(a, flavor=\"seurat\", n_top_genes=2000)\n",
    "a"
   ]
  },
  {
   "cell_type": "code",
   "execution_count": null,
   "id": "2436cc6d",
   "metadata": {},
   "outputs": [],
   "source": [
    "a.obs['leiden'] = [corrected.obs.loc[x, 'leiden'] for x in a.obs.index]\n",
    "a.obsm['X_umap'] = corrected[a.obs.index].obsm['X_umap'].copy()"
   ]
  },
  {
   "cell_type": "code",
   "execution_count": null,
   "id": "dc55f270",
   "metadata": {
    "scrolled": true
   },
   "outputs": [],
   "source": [
    "sc.pl.spatial(a, color='leiden')"
   ]
  },
  {
   "cell_type": "code",
   "execution_count": null,
   "id": "cdb4b52d",
   "metadata": {
    "scrolled": true
   },
   "outputs": [],
   "source": [
    "sc.pl.spatial(a)"
   ]
  },
  {
   "cell_type": "code",
   "execution_count": null,
   "id": "4e19384e",
   "metadata": {},
   "outputs": [],
   "source": [
    "genes = ['leiden', 'CD3G', 'IL7R', 'CD8A']\n",
    "sc.pl.spatial(a, color=genes)"
   ]
  },
  {
   "cell_type": "code",
   "execution_count": null,
   "id": "9b0207bc",
   "metadata": {},
   "outputs": [],
   "source": [
    "genes = ['leiden', 'EPCAM', 'CDH1']\n",
    "sc.pl.spatial(a, color=genes)"
   ]
  },
  {
   "cell_type": "code",
   "execution_count": null,
   "id": "b98d5603",
   "metadata": {},
   "outputs": [],
   "source": [
    "genes = ['leiden', 'CD3G', 'IL7R', 'CD8A']\n",
    "sc.pl.umap(a, color=genes)"
   ]
  },
  {
   "cell_type": "code",
   "execution_count": null,
   "id": "3c730910",
   "metadata": {},
   "outputs": [],
   "source": [
    "genes = ['leiden', 'EPCAM', 'CDH1']\n",
    "sc.pl.umap(a, color=genes)"
   ]
  },
  {
   "cell_type": "code",
   "execution_count": null,
   "id": "c4aff01b",
   "metadata": {},
   "outputs": [],
   "source": [
    "genes = ['leiden', 'AFP']\n",
    "sc.pl.umap(a, color=genes)"
   ]
  },
  {
   "cell_type": "code",
   "execution_count": null,
   "id": "06b93382",
   "metadata": {},
   "outputs": [],
   "source": [
    "# grab some tumor cells and plot attention\n",
    "ts1 = np.random.permutation(a[a.obs['leiden']=='0'].obs.index)[:5]\n",
    "for s in ts1:\n",
    "    print(s)\n",
    "    plot_image_attention(sample_to_fp[s], model)\n",
    "    plt.show()"
   ]
  },
  {
   "cell_type": "code",
   "execution_count": null,
   "id": "a4c4f11c",
   "metadata": {
    "scrolled": true
   },
   "outputs": [],
   "source": [
    "for s in ts1:\n",
    "    print(s)\n",
    "    plot_image_attention(sample_to_fp[s], model, overlay_only=True)\n",
    "    plt.show()"
   ]
  },
  {
   "cell_type": "code",
   "execution_count": null,
   "id": "90939878",
   "metadata": {
    "scrolled": true
   },
   "outputs": [],
   "source": [
    "ts2 = np.random.permutation(a[a.obs['leiden']=='1'].obs.index)[:5]\n",
    "\n",
    "for s in ts2:\n",
    "    print(s)\n",
    "    plot_image_attention(sample_to_fp[s], model, overlay_only=True)\n",
    "    plt.show()"
   ]
  },
  {
   "cell_type": "code",
   "execution_count": null,
   "id": "64059593",
   "metadata": {
    "scrolled": true
   },
   "outputs": [],
   "source": [
    "ts2 = np.random.permutation(a[a.obs['leiden']=='9'].obs.index)[:5]\n",
    "\n",
    "for s in ts2:\n",
    "    print(s)\n",
    "    plot_image_attention(sample_to_fp[s], model, overlay_only=True)\n",
    "    plt.show()"
   ]
  },
  {
   "cell_type": "code",
   "execution_count": null,
   "id": "10c6b293",
   "metadata": {
    "scrolled": true
   },
   "outputs": [],
   "source": [
    "ts2 = np.random.permutation(a[a.obs['leiden']=='2'].obs.index)[:5]\n",
    "\n",
    "for s in ts2:\n",
    "    print(s)\n",
    "    plot_image_attention(sample_to_fp[s], model, overlay_only=True)\n",
    "    plt.show()"
   ]
  },
  {
   "cell_type": "code",
   "execution_count": null,
   "id": "e09e8f4d",
   "metadata": {
    "scrolled": true
   },
   "outputs": [],
   "source": [
    "roi_fp = '/home/estorrs/sandbox/co_immune_tumor_roi.png'\n",
    "plot_image_attention(roi_fp, model, overlay_only=False)"
   ]
  },
  {
   "cell_type": "code",
   "execution_count": null,
   "id": "049bc3dd",
   "metadata": {},
   "outputs": [],
   "source": [
    "roi_fp = '/home/estorrs/sandbox/co_immune_tumor_roi2.png'\n",
    "plot_image_attention(roi_fp, model, overlay_only=False)"
   ]
  },
  {
   "cell_type": "code",
   "execution_count": null,
   "id": "766d7645",
   "metadata": {},
   "outputs": [],
   "source": [
    "roi_fp = '/home/estorrs/sandbox/co_immune_tumor_roi3.png'\n",
    "plot_image_attention(roi_fp, model, overlay_only=False)"
   ]
  },
  {
   "cell_type": "code",
   "execution_count": null,
   "id": "9a73d55b",
   "metadata": {},
   "outputs": [],
   "source": [
    "roi_fp = '/home/estorrs/sandbox/co_immune_tumor_roi4.png'\n",
    "plot_image_attention(roi_fp, model, overlay_only=False)"
   ]
  },
  {
   "cell_type": "code",
   "execution_count": null,
   "id": "66938bbc",
   "metadata": {},
   "outputs": [],
   "source": [
    "p = [[x*255 for x in pal] for pal in sns.color_palette()]"
   ]
  },
  {
   "cell_type": "code",
   "execution_count": null,
   "id": "a06c2a38",
   "metadata": {},
   "outputs": [],
   "source": [
    "p"
   ]
  },
  {
   "cell_type": "code",
   "execution_count": null,
   "id": "47cc1407",
   "metadata": {},
   "outputs": [],
   "source": [
    "p"
   ]
  },
  {
   "cell_type": "code",
   "execution_count": null,
   "id": "11c582fb",
   "metadata": {},
   "outputs": [],
   "source": []
  }
 ],
 "metadata": {
  "kernelspec": {
   "display_name": "Python 3",
   "language": "python",
   "name": "python3"
  },
  "language_info": {
   "codemirror_mode": {
    "name": "ipython",
    "version": 3
   },
   "file_extension": ".py",
   "mimetype": "text/x-python",
   "name": "python",
   "nbconvert_exporter": "python",
   "pygments_lexer": "ipython3",
   "version": "3.8.10"
  }
 },
 "nbformat": 4,
 "nbformat_minor": 5
}
