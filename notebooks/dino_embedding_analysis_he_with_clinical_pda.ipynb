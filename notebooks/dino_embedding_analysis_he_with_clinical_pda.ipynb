{
 "cells": [
  {
   "cell_type": "code",
   "execution_count": null,
   "id": "95fd687e",
   "metadata": {},
   "outputs": [],
   "source": [
    "import os\n",
    "import re\n",
    "\n",
    "import anndata\n",
    "import numpy as np\n",
    "import pandas as pd\n",
    "import seaborn as sns\n",
    "import scanpy as sc\n",
    "from umap import UMAP\n",
    "from sklearn.preprocessing import StandardScaler\n"
   ]
  },
  {
   "cell_type": "code",
   "execution_count": null,
   "id": "110a1109",
   "metadata": {},
   "outputs": [],
   "source": [
    "import torch\n",
    "from torchvision import datasets, transforms"
   ]
  },
  {
   "cell_type": "code",
   "execution_count": null,
   "id": "690291d3",
   "metadata": {},
   "outputs": [],
   "source": [
    "%load_ext autoreload"
   ]
  },
  {
   "cell_type": "code",
   "execution_count": null,
   "id": "ecb66ac4",
   "metadata": {},
   "outputs": [],
   "source": [
    "%autoreload 2"
   ]
  },
  {
   "cell_type": "code",
   "execution_count": null,
   "id": "11b1f65e",
   "metadata": {},
   "outputs": [],
   "source": [
    "import violet\n",
    "from violet.utils.attention import plot_image_attention, get_image_attention\n",
    "from violet.utils.model import predict, load_pretrained_model\n",
    "from violet.utils.dataloaders import get_dataloader, listfiles, image_classification_dataloaders\n",
    "from violet.utils.analysis import plot_image_umap"
   ]
  },
  {
   "cell_type": "code",
   "execution_count": null,
   "id": "edc4e5b8",
   "metadata": {},
   "outputs": [],
   "source": [
    "img_dir = '/home/estorrs/violet/data/he/ffpe/tcia_ccrcc_normalized/'\n",
    "weights = '/home/estorrs/violet/sandbox/dino_runs/he_ffpe_pda_xcit_p16/checkpoint.pth'"
   ]
  },
  {
   "cell_type": "code",
   "execution_count": null,
   "id": "86a4fa81",
   "metadata": {},
   "outputs": [],
   "source": [
    "train_dataloader, val_dataloader = image_classification_dataloaders(img_dir)"
   ]
  },
  {
   "cell_type": "code",
   "execution_count": null,
   "id": "243f4aea",
   "metadata": {},
   "outputs": [],
   "source": [
    "torch.cuda.set_device(3)\n",
    "torch.cuda.current_device()"
   ]
  },
  {
   "cell_type": "code",
   "execution_count": null,
   "id": "38eada47",
   "metadata": {},
   "outputs": [],
   "source": [
    "model = load_pretrained_model(weights, model_name='xcit_small')\n",
    "model = model.cuda()"
   ]
  },
  {
   "cell_type": "code",
   "execution_count": null,
   "id": "838c3ea8",
   "metadata": {},
   "outputs": [],
   "source": [
    "fps = sorted(listfiles(img_dir, regex='.jpeg$'))\n",
    "len(fps)"
   ]
  },
  {
   "cell_type": "code",
   "execution_count": null,
   "id": "72b598ec",
   "metadata": {},
   "outputs": [],
   "source": [
    "attn = get_image_attention(fps[0], model)\n",
    "attn.shape"
   ]
  },
  {
   "cell_type": "code",
   "execution_count": null,
   "id": "a9676976",
   "metadata": {
    "scrolled": true
   },
   "outputs": [],
   "source": [
    "plot_image_attention(fps[50], model)"
   ]
  },
  {
   "cell_type": "code",
   "execution_count": null,
   "id": "66ad2b79",
   "metadata": {},
   "outputs": [],
   "source": [
    "plot_image_attention(fps[50], model, display='mean')"
   ]
  },
  {
   "cell_type": "code",
   "execution_count": null,
   "id": "412d9615",
   "metadata": {},
   "outputs": [],
   "source": [
    "plot_image_attention('/home/estorrs/violet/sandbox/tmp/tumor_boundary_4.png', model)"
   ]
  },
  {
   "cell_type": "code",
   "execution_count": null,
   "id": "a1880451",
   "metadata": {},
   "outputs": [],
   "source": [
    "plot_image_attention('/home/estorrs/violet/sandbox/tmp/tumor_boundary_4.png', model, display='mean')"
   ]
  },
  {
   "cell_type": "code",
   "execution_count": null,
   "id": "57ba4cee",
   "metadata": {},
   "outputs": [],
   "source": []
  },
  {
   "cell_type": "code",
   "execution_count": null,
   "id": "08ca7e6e",
   "metadata": {},
   "outputs": [],
   "source": []
  },
  {
   "cell_type": "code",
   "execution_count": null,
   "id": "65437fc4",
   "metadata": {},
   "outputs": [],
   "source": [
    "len(fps)"
   ]
  },
  {
   "cell_type": "code",
   "execution_count": null,
   "id": "22b67857",
   "metadata": {
    "scrolled": true
   },
   "outputs": [],
   "source": [
    "dataloader = get_dataloader(img_dir, batch_size=1024, shuffle=False)\n",
    "embs = predict(dataloader, model)\n",
    "embs.shape"
   ]
  },
  {
   "cell_type": "code",
   "execution_count": null,
   "id": "e3a2777b",
   "metadata": {},
   "outputs": [],
   "source": [
    "np.save('/home/estorrs/violet/sandbox/results/xcit_dino_tcia_pda/embs.npy', embs)"
   ]
  },
  {
   "cell_type": "code",
   "execution_count": null,
   "id": "8ae1d99b",
   "metadata": {},
   "outputs": [],
   "source": [
    "embs = np.load('/home/estorrs/violet/sandbox/results/xcit_dino_tcia_pda/embs.npy')"
   ]
  },
  {
   "cell_type": "code",
   "execution_count": null,
   "id": "809325d8",
   "metadata": {},
   "outputs": [],
   "source": [
    "# x = UMAP(n_components=2).fit_transform(embs)"
   ]
  },
  {
   "cell_type": "code",
   "execution_count": null,
   "id": "2be44b8b",
   "metadata": {},
   "outputs": [],
   "source": [
    "adata = anndata.AnnData(X=embs)\n",
    "adata.obs.index = [s.split('/')[-1].split('.')[0] for s, _ in dataloader.dataset.samples]\n",
    "adata.obs['sample'] = ['_'.join(s.split('_')[:-1]) for s in adata.obs.index]\n",
    "# adata.obsm['X_umap_emb'] = x\n",
    "adata"
   ]
  },
  {
   "cell_type": "code",
   "execution_count": null,
   "id": "c70b4645",
   "metadata": {},
   "outputs": [],
   "source": [
    "adata.write_h5ad('/home/estorrs/violet/sandbox/results/xcit_dino_tcia_pda/emb_adata.h5ad')"
   ]
  },
  {
   "cell_type": "code",
   "execution_count": null,
   "id": "f551716d",
   "metadata": {},
   "outputs": [],
   "source": [
    "adata = sc.read_h5adad('/home/estorrs/violet/sandbox/results/xcit_dino_tcia_pda/emb_adata.h5ad')"
   ]
  },
  {
   "cell_type": "code",
   "execution_count": null,
   "id": "074d0093",
   "metadata": {},
   "outputs": [],
   "source": [
    "idxs = np.random.permutation(np.arange(adata.shape[0]))[:10000]\n",
    "x_train = adata.X[idxs]\n",
    "x_train.shape"
   ]
  },
  {
   "cell_type": "code",
   "execution_count": null,
   "id": "4d2d15f5",
   "metadata": {},
   "outputs": [],
   "source": [
    "u = UMAP(n_components=2)\n",
    "u.fit(x_train)\n",
    "adata.obsm['X_umap_emb'] = u.transform(adata.X)"
   ]
  },
  {
   "cell_type": "code",
   "execution_count": null,
   "id": "9610d535",
   "metadata": {},
   "outputs": [],
   "source": [
    "np.random.choice(adata.obs.index, replace=False, size=10000)"
   ]
  },
  {
   "cell_type": "code",
   "execution_count": null,
   "id": "810e2c12",
   "metadata": {},
   "outputs": [],
   "source": [
    "sc.pl.embedding(adata[np.random.choice(np.arange(adata.shape[0]), replace=False, size=10000)], basis='X_umap_emb')"
   ]
  },
  {
   "cell_type": "code",
   "execution_count": null,
   "id": "1b3ee55c",
   "metadata": {},
   "outputs": [],
   "source": [
    "adata.obs['slide'] = [x.split('_')[0] for x in adata.obs.index]"
   ]
  },
  {
   "cell_type": "code",
   "execution_count": null,
   "id": "5486fb2e",
   "metadata": {},
   "outputs": [],
   "source": [
    "len(sorted(set(adata.obs['slide'])))"
   ]
  },
  {
   "cell_type": "code",
   "execution_count": null,
   "id": "c77c513a",
   "metadata": {},
   "outputs": [],
   "source": [
    "samples = sorted(set(adata.obs['slide']))\n",
    "samples = np.random.choice(samples, replace=False, size=20)\n",
    "f = adata[[True if s in samples else False for s in adata.obs['slide']]]\n",
    "samples"
   ]
  },
  {
   "cell_type": "code",
   "execution_count": null,
   "id": "fa6968cb",
   "metadata": {},
   "outputs": [],
   "source": []
  },
  {
   "cell_type": "code",
   "execution_count": null,
   "id": "a496e89c",
   "metadata": {},
   "outputs": [],
   "source": [
    "\n",
    "sc.pl.embedding(f, basis='X_umap_emb', color=['slide'])"
   ]
  },
  {
   "cell_type": "code",
   "execution_count": null,
   "id": "87fc00fd",
   "metadata": {},
   "outputs": [],
   "source": [
    "fps = listfiles(img_dir, regex='.jpeg$')\n",
    "sample_to_fp = {fp.split('/')[-1].split('.')[0]:fp for fp in fps}"
   ]
  },
  {
   "cell_type": "code",
   "execution_count": null,
   "id": "7c5c7788",
   "metadata": {},
   "outputs": [],
   "source": [
    "n = 2000\n",
    "idxs = np.random.permutation(f.obs.index.to_list())[:n]\n",
    "filtered = f[idxs]\n",
    "plot_image_umap(\n",
    "    filtered.obsm['X_umap_emb'][:, 0].flatten(),\n",
    "    filtered.obsm['X_umap_emb'][:, 1].flatten(),\n",
    "    [sample_to_fp[s] for s in filtered.obs.index]\n",
    ")"
   ]
  },
  {
   "cell_type": "code",
   "execution_count": null,
   "id": "dbb8980b",
   "metadata": {},
   "outputs": [],
   "source": [
    "import matplotlib as mpl\n",
    "import matplotlib.pyplot as plt\n",
    "mpl.rcParams['figure.dpi'] = 300"
   ]
  },
  {
   "cell_type": "code",
   "execution_count": null,
   "id": "6b2f45a9",
   "metadata": {},
   "outputs": [],
   "source": [
    "from violet.utils.preprocessing import normalize_counts, get_svs_tile_shape, get_svs_array\n",
    "scale = .1"
   ]
  },
  {
   "cell_type": "code",
   "execution_count": null,
   "id": "122ed593",
   "metadata": {},
   "outputs": [],
   "source": [
    "s = 'C3N-00303-22'\n",
    "img = get_svs_array(f'/data/tcia/PDA/{s}.svs', scale=scale)\n",
    "plt.imshow(img)"
   ]
  },
  {
   "cell_type": "code",
   "execution_count": null,
   "id": "e48b6e1c",
   "metadata": {},
   "outputs": [],
   "source": [
    "s = 'C3L-03628-26'\n",
    "img = get_svs_array(f'/data/tcia/PDA/{s}.svs', scale=scale)\n",
    "plt.imshow(img)"
   ]
  },
  {
   "cell_type": "code",
   "execution_count": null,
   "id": "a91123d9",
   "metadata": {},
   "outputs": [],
   "source": [
    "s = 'C3L-01662-23'\n",
    "img = get_svs_array(f'/data/tcia/PDA/{s}.svs', scale=scale)\n",
    "plt.imshow(img)"
   ]
  },
  {
   "cell_type": "code",
   "execution_count": null,
   "id": "b59e55c4",
   "metadata": {},
   "outputs": [],
   "source": [
    "adata"
   ]
  },
  {
   "cell_type": "code",
   "execution_count": null,
   "id": "501a45da",
   "metadata": {},
   "outputs": [],
   "source": [
    "import hdbscan\n",
    "from collections import Counter\n",
    "from hdbscan import approximate_predict\n",
    "# idxs = np.random.permutation(np.arange(adata.shape[0]))[:10000]\n",
    "\n",
    "# clf = hdbscan.HDBSCAN(\n",
    "#     min_samples=1,\n",
    "#     min_cluster_size=100,\n",
    "#     prediction_data=True,\n",
    "# #     cluster_selection_epsilon=.1,\n",
    "# )\n",
    "# clf.fit(adata.obsm['X_umap_emb'][idxs])\n",
    "# labels = approximate_predict(clf, adata.obsm['X_umap_emb'][idxs])\n",
    "# sorted(set(labels[0])), Counter(labels[0])[-1]\n",
    "# labels = clf.predict(adata.obsm['X_umap_emb'])"
   ]
  },
  {
   "cell_type": "code",
   "execution_count": null,
   "id": "1dada073",
   "metadata": {
    "scrolled": true
   },
   "outputs": [],
   "source": [
    "from sklearn.cluster import KMeans\n",
    "idxs = np.random.permutation(np.arange(adata.shape[0]))[:10000]\n",
    "n_clusters = 100\n",
    "clf = KMeans(n_clusters=n_clusters)\n",
    "# clf.fit(adata.obsm['X_umap_emb'][idxs])\n",
    "# labels = clf.predict(adata.obsm['X_umap_emb'])\n",
    "clf.fit(adata.X[idxs])\n",
    "labels = clf.predict(adata.X)\n",
    "Counter(labels).most_common()"
   ]
  },
  {
   "cell_type": "code",
   "execution_count": null,
   "id": "0d2d9cbe",
   "metadata": {},
   "outputs": [],
   "source": [
    "adata.obs['cluster'] = [str(x) for x in labels]"
   ]
  },
  {
   "cell_type": "code",
   "execution_count": null,
   "id": "1d526253",
   "metadata": {},
   "outputs": [],
   "source": [
    "f = adata[[True if s in samples else False for s in adata.obs['slide']]]\n",
    "f.shape"
   ]
  },
  {
   "cell_type": "code",
   "execution_count": null,
   "id": "a4f89e68",
   "metadata": {},
   "outputs": [],
   "source": [
    "\n",
    "sc.pl.embedding(f, basis='X_umap_emb', color=['slide'])"
   ]
  },
  {
   "cell_type": "code",
   "execution_count": null,
   "id": "7e133c48",
   "metadata": {},
   "outputs": [],
   "source": [
    "\n",
    "sc.pl.embedding(f, basis='X_umap_emb', color=['cluster'])"
   ]
  },
  {
   "cell_type": "code",
   "execution_count": null,
   "id": "10e0ea22",
   "metadata": {},
   "outputs": [],
   "source": [
    "adata.obs['case_id'] = ['-'.join(x.split('-')[:2]) for x in adata.obs['slide']]\n",
    "adata.obs"
   ]
  },
  {
   "cell_type": "code",
   "execution_count": null,
   "id": "755bae08",
   "metadata": {},
   "outputs": [],
   "source": [
    "case_to_proportions = {}\n",
    "clusters = sorted(set(adata.obs['cluster']))\n",
    "for case in sorted(set(adata.obs['case_id'])):\n",
    "    case_to_proportions[case] = {}\n",
    "    filtered = adata[adata.obs['case_id']==case]\n",
    "    counts = Counter(filtered.obs['cluster'])\n",
    "    for c in clusters:\n",
    "        case_to_proportions[case][c] = counts[c] / filtered.shape[0]\n",
    "        "
   ]
  },
  {
   "cell_type": "code",
   "execution_count": null,
   "id": "2e0e0a3d",
   "metadata": {},
   "outputs": [],
   "source": []
  },
  {
   "cell_type": "code",
   "execution_count": null,
   "id": "9bcdcd54",
   "metadata": {},
   "outputs": [],
   "source": []
  },
  {
   "cell_type": "code",
   "execution_count": null,
   "id": "5dc7fc3a",
   "metadata": {},
   "outputs": [],
   "source": []
  },
  {
   "cell_type": "code",
   "execution_count": null,
   "id": "bbfcbed7",
   "metadata": {},
   "outputs": [],
   "source": []
  },
  {
   "cell_type": "code",
   "execution_count": null,
   "id": "a46f5df3",
   "metadata": {},
   "outputs": [],
   "source": [
    "clinical = pd.read_csv('/data/tcia/clinical/PDA_cleaned.txt', sep='\\t')\n",
    "clinical"
   ]
  },
  {
   "cell_type": "code",
   "execution_count": null,
   "id": "83c142eb",
   "metadata": {},
   "outputs": [],
   "source": [
    "\n",
    "for c in clusters:\n",
    "    clinical[c] = [case_to_proportions[x][c] for x in clinical['case_id']]"
   ]
  },
  {
   "cell_type": "code",
   "execution_count": null,
   "id": "1be97d87",
   "metadata": {},
   "outputs": [],
   "source": [
    "clinical"
   ]
  },
  {
   "cell_type": "code",
   "execution_count": null,
   "id": "823c95ee",
   "metadata": {},
   "outputs": [],
   "source": [
    "from lifelines import CoxPHFitter"
   ]
  },
  {
   "cell_type": "code",
   "execution_count": null,
   "id": "bc0ada23",
   "metadata": {},
   "outputs": [],
   "source": []
  },
  {
   "cell_type": "code",
   "execution_count": null,
   "id": "51977dcc",
   "metadata": {},
   "outputs": [],
   "source": [
    "source = clinical\n",
    "source"
   ]
  },
  {
   "cell_type": "code",
   "execution_count": null,
   "id": "98fa46f7",
   "metadata": {},
   "outputs": [],
   "source": []
  },
  {
   "cell_type": "code",
   "execution_count": null,
   "id": "c315444a",
   "metadata": {},
   "outputs": [],
   "source": [
    "umap_X = UMAP().fit_transform(source.iloc[:, 4:])\n",
    "source['UMAP1'], source['UMAP2'] = umap_X[:, 0], umap_X[:, 1]\n",
    "plt.scatter(umap_X[:, 0], umap_X[:, 1])"
   ]
  },
  {
   "cell_type": "code",
   "execution_count": null,
   "id": "3d85ca40",
   "metadata": {},
   "outputs": [],
   "source": [
    "labels = KMeans(n_clusters=5).fit_predict(source[['UMAP1', 'UMAP2']])\n",
    "source['classification'] = [str(x) for x in labels]\n",
    "source"
   ]
  },
  {
   "cell_type": "code",
   "execution_count": null,
   "id": "4f600e3e",
   "metadata": {},
   "outputs": [],
   "source": [
    "source[source['classification']=='4']"
   ]
  },
  {
   "cell_type": "code",
   "execution_count": null,
   "id": "2f2ff9da",
   "metadata": {},
   "outputs": [],
   "source": [
    "sns.scatterplot(data=source, x='UMAP1', y='UMAP2', hue='classification', hue_order=['0', '1', '2', '3', '4'])"
   ]
  },
  {
   "cell_type": "code",
   "execution_count": null,
   "id": "a7a51e02",
   "metadata": {},
   "outputs": [],
   "source": [
    "sns.scatterplot(data=source, x='UMAP1', y='UMAP2', hue='9', hue_order=['0', '1', '2', '3', '4'])"
   ]
  },
  {
   "cell_type": "code",
   "execution_count": null,
   "id": "f3285824",
   "metadata": {},
   "outputs": [],
   "source": [
    "from lifelines import KaplanMeierFitter\n",
    "kmf = KaplanMeierFitter()\n",
    "# ft = integrated.obs.copy()\n",
    "ft = source\n",
    "ft = ft[~pd.isnull(ft['classification'])]\n",
    "T = ft['survival_time']\n",
    "E = ft['status']\n",
    "groups = ft[f'classification']\n",
    "\n",
    "for cluster in sorted(set(ft['classification'])): \n",
    "    kmf.fit(T[groups==cluster], E[groups==cluster], label=cluster)\n",
    "    ax = kmf.plot(show_censors=True, ci_show=False, )"
   ]
  },
  {
   "cell_type": "code",
   "execution_count": null,
   "id": "667a73c3",
   "metadata": {},
   "outputs": [],
   "source": [
    "cols = [str(x) for x in range(15)]\n",
    "cols += ['classification']\n",
    "source[cols]"
   ]
  },
  {
   "cell_type": "code",
   "execution_count": null,
   "id": "ec04b717",
   "metadata": {},
   "outputs": [],
   "source": [
    "source[cols].groupby('classification').mean()"
   ]
  },
  {
   "cell_type": "code",
   "execution_count": null,
   "id": "9ec8a5e3",
   "metadata": {},
   "outputs": [],
   "source": [
    "adata.obs"
   ]
  },
  {
   "cell_type": "code",
   "execution_count": null,
   "id": "63d145c8",
   "metadata": {},
   "outputs": [],
   "source": [
    "s2i = {}\n",
    "for i, (fp, _) in enumerate(dataloader.dataset.imgs):\n",
    "    s = fp.split('/')[-1].split('.')[0]\n",
    "    s2i[s] = fp\n",
    "    \n",
    "# dataloader.dataset.imgs"
   ]
  },
  {
   "cell_type": "code",
   "execution_count": null,
   "id": "a66a6750",
   "metadata": {},
   "outputs": [],
   "source": [
    "from einops import rearrange"
   ]
  },
  {
   "cell_type": "code",
   "execution_count": null,
   "id": "5c741618",
   "metadata": {},
   "outputs": [],
   "source": [
    "idxs = np.random.choice(adata[adata.obs['cluster']=='9'].obs.index, size=10)\n",
    "for i in idxs:\n",
    "    img = default_loader(s2i[i])\n",
    "    plt.imshow(img)\n",
    "    plt.show()"
   ]
  },
  {
   "cell_type": "code",
   "execution_count": null,
   "id": "81257ff2",
   "metadata": {},
   "outputs": [],
   "source": [
    "from torchvision.datasets.folder import default_loader"
   ]
  },
  {
   "cell_type": "code",
   "execution_count": null,
   "id": "ed97ffc5",
   "metadata": {},
   "outputs": [],
   "source": [
    "len(set(adata.obs.index))"
   ]
  },
  {
   "cell_type": "code",
   "execution_count": null,
   "id": "f686aee7",
   "metadata": {},
   "outputs": [],
   "source": [
    "adata.obs.shape"
   ]
  },
  {
   "cell_type": "code",
   "execution_count": null,
   "id": "2a55ea2b",
   "metadata": {},
   "outputs": [],
   "source": []
  },
  {
   "cell_type": "code",
   "execution_count": null,
   "id": "f858f1b4",
   "metadata": {},
   "outputs": [],
   "source": [
    "n = 1000\n",
    "idxs = np.random.permutation(adata[adata.obs['cluster']=='9'].obs.index.to_list())[:n]\n",
    "pool = set(idxs)\n",
    "idxs = [i for i, x in enumerate(adata.obs.index) if x in pool]\n",
    "filtered = adata.obs.iloc[idxs]\n",
    "# filtered\n",
    "plot_image_umap(\n",
    "    adata.obsm['X_umap_emb'][idxs, 0].flatten(),\n",
    "    adata.obsm['X_umap_emb'][idxs, 1].flatten(),\n",
    "    [s2i[s] for s in filtered.index]\n",
    ")"
   ]
  },
  {
   "cell_type": "code",
   "execution_count": null,
   "id": "2d381675",
   "metadata": {},
   "outputs": [],
   "source": []
  },
  {
   "cell_type": "code",
   "execution_count": null,
   "id": "a3298184",
   "metadata": {},
   "outputs": [],
   "source": []
  },
  {
   "cell_type": "code",
   "execution_count": null,
   "id": "5060c7ad",
   "metadata": {},
   "outputs": [],
   "source": []
  },
  {
   "cell_type": "code",
   "execution_count": null,
   "id": "8a367f11",
   "metadata": {},
   "outputs": [],
   "source": []
  },
  {
   "cell_type": "code",
   "execution_count": null,
   "id": "432b61b9",
   "metadata": {},
   "outputs": [],
   "source": []
  },
  {
   "cell_type": "code",
   "execution_count": null,
   "id": "179866b5",
   "metadata": {},
   "outputs": [],
   "source": [
    "# merge\n"
   ]
  },
  {
   "cell_type": "code",
   "execution_count": null,
   "id": "432576e3",
   "metadata": {},
   "outputs": [],
   "source": []
  },
  {
   "cell_type": "code",
   "execution_count": null,
   "id": "dda48459",
   "metadata": {},
   "outputs": [],
   "source": []
  },
  {
   "cell_type": "code",
   "execution_count": null,
   "id": "d9006523",
   "metadata": {},
   "outputs": [],
   "source": []
  },
  {
   "cell_type": "code",
   "execution_count": null,
   "id": "354acde7",
   "metadata": {},
   "outputs": [],
   "source": [
    "kmf = KaplanMeierFitter()\n",
    "# ft = integrated.obs.copy()\n",
    "ft = p\n",
    "ft = ft[~pd.isnull(ft['classification'])]\n",
    "T = ft['survival_time']\n",
    "E = ft['status']\n",
    "groups = ft[f'classification']\n",
    "\n",
    "for cluster in sorted(set(ft['classification'])): \n",
    "    kmf.fit(T[groups==cluster], E[groups==cluster], label=cluster)\n",
    "    ax = kmf.plot(show_censors=True, ci_show=False, )"
   ]
  },
  {
   "cell_type": "code",
   "execution_count": null,
   "id": "c4521635",
   "metadata": {},
   "outputs": [],
   "source": []
  },
  {
   "cell_type": "code",
   "execution_count": null,
   "id": "9b740503",
   "metadata": {},
   "outputs": [],
   "source": []
  },
  {
   "cell_type": "code",
   "execution_count": null,
   "id": "5e39b6c3",
   "metadata": {},
   "outputs": [],
   "source": []
  },
  {
   "cell_type": "code",
   "execution_count": null,
   "id": "08c049fd",
   "metadata": {},
   "outputs": [],
   "source": []
  },
  {
   "cell_type": "code",
   "execution_count": null,
   "id": "09ba50d1",
   "metadata": {},
   "outputs": [],
   "source": []
  },
  {
   "cell_type": "code",
   "execution_count": null,
   "id": "75aacdbc",
   "metadata": {},
   "outputs": [],
   "source": []
  },
  {
   "cell_type": "code",
   "execution_count": null,
   "id": "ae0b57f6",
   "metadata": {},
   "outputs": [],
   "source": []
  },
  {
   "cell_type": "code",
   "execution_count": null,
   "id": "55063533",
   "metadata": {},
   "outputs": [],
   "source": []
  },
  {
   "cell_type": "code",
   "execution_count": null,
   "id": "aad64900",
   "metadata": {},
   "outputs": [],
   "source": []
  },
  {
   "cell_type": "code",
   "execution_count": null,
   "id": "55b72881",
   "metadata": {},
   "outputs": [],
   "source": [
    "s = 'C3L-00017-21'\n",
    "a = adata[adata.obs['slide']==s].copy()\n",
    "# sc.pp.neighbors(a)\n",
    "# sc.tl.umap(a)\n",
    "# sc.tl.leiden(a)\n",
    "# a"
   ]
  },
  {
   "cell_type": "code",
   "execution_count": null,
   "id": "aaabfaaa",
   "metadata": {},
   "outputs": [],
   "source": [
    "adata.obs"
   ]
  },
  {
   "cell_type": "code",
   "execution_count": null,
   "id": "47053e40",
   "metadata": {},
   "outputs": [],
   "source": [
    "a"
   ]
  },
  {
   "cell_type": "code",
   "execution_count": null,
   "id": "fc525a92",
   "metadata": {},
   "outputs": [],
   "source": [
    "from violet.utils.analysis import display_2d_scatter\n",
    "import matplotlib.pyplot as plt\n",
    "display_2d_scatter(a.obs, 'cluster', hue_order=sorted(set(a.obs['cluster'])))\n",
    "plt.tight_layout()"
   ]
  },
  {
   "cell_type": "code",
   "execution_count": null,
   "id": "58140a8e",
   "metadata": {},
   "outputs": [],
   "source": [
    "from violet.utils.preprocessing import normalize_counts, get_svs_tile_shape, get_svs_array\n",
    "scale = .1\n",
    "res = 55.\n",
    "img = get_svs_array(f'/data/tcia/PDA/{s}.svs', scale=scale)\n",
    "img.shape"
   ]
  },
  {
   "cell_type": "code",
   "execution_count": null,
   "id": "6fb2f684",
   "metadata": {},
   "outputs": [],
   "source": [
    "import matplotlib as mpl\n",
    "mpl.rcParams['figure.dpi'] = 300\n",
    "plt.imshow(img)"
   ]
  },
  {
   "cell_type": "code",
   "execution_count": null,
   "id": "0a60f720",
   "metadata": {},
   "outputs": [],
   "source": []
  },
  {
   "cell_type": "code",
   "execution_count": null,
   "id": "ea82d769",
   "metadata": {},
   "outputs": [],
   "source": []
  },
  {
   "cell_type": "code",
   "execution_count": null,
   "id": "366ebaad",
   "metadata": {},
   "outputs": [],
   "source": []
  },
  {
   "cell_type": "code",
   "execution_count": null,
   "id": "13a3a21c",
   "metadata": {},
   "outputs": [],
   "source": []
  },
  {
   "cell_type": "code",
   "execution_count": null,
   "id": "fa679757",
   "metadata": {},
   "outputs": [],
   "source": []
  },
  {
   "cell_type": "code",
   "execution_count": null,
   "id": "1d490465",
   "metadata": {},
   "outputs": [],
   "source": []
  },
  {
   "cell_type": "code",
   "execution_count": null,
   "id": "a2c1719b",
   "metadata": {},
   "outputs": [],
   "source": []
  },
  {
   "cell_type": "code",
   "execution_count": null,
   "id": "18aac379",
   "metadata": {},
   "outputs": [],
   "source": []
  },
  {
   "cell_type": "code",
   "execution_count": null,
   "id": "089f2485",
   "metadata": {},
   "outputs": [],
   "source": []
  },
  {
   "cell_type": "code",
   "execution_count": null,
   "id": "abf5bae9",
   "metadata": {},
   "outputs": [],
   "source": []
  },
  {
   "cell_type": "code",
   "execution_count": null,
   "id": "827c754c",
   "metadata": {},
   "outputs": [],
   "source": []
  },
  {
   "cell_type": "code",
   "execution_count": null,
   "id": "de47cb79",
   "metadata": {},
   "outputs": [],
   "source": [
    "fmap = pd.read_csv('/home/estorrs/spatial-analysis/data/sample_map.txt', sep='\\t', index_col=0)\n",
    "fmap"
   ]
  },
  {
   "cell_type": "code",
   "execution_count": null,
   "id": "9135cc77",
   "metadata": {},
   "outputs": [],
   "source": [
    "fmap = fmap[fmap['tissue_type']=='ffpe']"
   ]
  },
  {
   "cell_type": "code",
   "execution_count": null,
   "id": "dda0d793",
   "metadata": {},
   "outputs": [],
   "source": [
    "from collections import Counter\n",
    "counts = Counter(fmap['disease'])\n",
    "xs, ys = zip(*counts.items())\n",
    "pd.DataFrame.from_dict({'disease': xs, 'sample count': ys}).set_index('disease')"
   ]
  },
  {
   "cell_type": "code",
   "execution_count": null,
   "id": "58ac52f7",
   "metadata": {},
   "outputs": [],
   "source": [
    "adata.obs['disease'] = [fmap.loc[x, 'disease'] for x in adata.obs['sample']]\n",
    "sc.pl.embedding(adata, basis='X_umap_emb', color=['disease'])"
   ]
  },
  {
   "cell_type": "code",
   "execution_count": null,
   "id": "c613786d",
   "metadata": {},
   "outputs": [],
   "source": []
  },
  {
   "cell_type": "code",
   "execution_count": null,
   "id": "b4dc0e73",
   "metadata": {},
   "outputs": [],
   "source": [
    "# lets do co_met\n",
    "keep = ['pdac']\n",
    "co = adata[[True if x in keep else False for x in adata.obs['disease']]].copy()\n",
    "co"
   ]
  },
  {
   "cell_type": "code",
   "execution_count": null,
   "id": "7cc6a0a6",
   "metadata": {},
   "outputs": [],
   "source": [
    "var = sc.read_visium(fmap.iloc[0]['spaceranger_output']).var\n",
    "var"
   ]
  },
  {
   "cell_type": "code",
   "execution_count": null,
   "id": "b562e5ef",
   "metadata": {
    "scrolled": true
   },
   "outputs": [],
   "source": [
    "obs = None\n",
    "var = None\n",
    "data = None\n",
    "for i, row in fmap.iterrows():\n",
    "    if row['disease'] in keep:\n",
    "        a = sc.read_visium(row['spaceranger_output'])\n",
    "        a.var_names_make_unique()\n",
    "        a.var[\"mt\"] = a.var_names.str.startswith(\"MT-\")\n",
    "        sc.pp.calculate_qc_metrics(a, qc_vars=[\"mt\"], inplace=True)\n",
    "        \n",
    "        a.obs.index = [f'{i}_{x}' for x in a.obs.index]\n",
    "        a.obs['sample'] = i\n",
    "        \n",
    "        if obs is None:\n",
    "            obs = a.obs\n",
    "        else:\n",
    "            obs = pd.concat((obs, a.obs), axis=0)\n",
    "            \n",
    "        if var is None:\n",
    "            var = a.var\n",
    "\n",
    "        if data is None:\n",
    "            data = a.X.toarray()\n",
    "        else:\n",
    "            data = np.concatenate((data, a.X.toarray()), axis=0)\n",
    "obs.shape, var.shape, data.shape"
   ]
  },
  {
   "cell_type": "code",
   "execution_count": null,
   "id": "7addc044",
   "metadata": {},
   "outputs": [],
   "source": [
    "adata_exp = anndata.AnnData(X=data)\n",
    "adata_exp.var = var\n",
    "adata_exp.obs = obs\n",
    "adata_exp"
   ]
  },
  {
   "cell_type": "code",
   "execution_count": null,
   "id": "82f43dca",
   "metadata": {
    "scrolled": true
   },
   "outputs": [],
   "source": [
    "sns.histplot(adata_exp.obs, x='total_counts', kde=False, hue='sample')"
   ]
  },
  {
   "cell_type": "code",
   "execution_count": null,
   "id": "26a438eb",
   "metadata": {},
   "outputs": [],
   "source": [
    "exclude_samples = ['HT213C1A4_U1', 'HT165C1A3', 'HT250C1', 'HT253C1T1']\n",
    "adata_exp = adata_exp[[True if s not in exclude_samples else False\n",
    "                      for s in adata_exp.obs['sample']]]"
   ]
  },
  {
   "cell_type": "code",
   "execution_count": null,
   "id": "d693c38d",
   "metadata": {},
   "outputs": [],
   "source": [
    "sc.pp.filter_cells(adata_exp, min_counts=1000)\n",
    "\n",
    "sc.pp.normalize_total(adata_exp, inplace=True)\n",
    "sc.pp.log1p(adata_exp)\n",
    "sc.pp.highly_variable_genes(adata_exp, flavor=\"seurat\", n_top_genes=2000)"
   ]
  },
  {
   "cell_type": "code",
   "execution_count": null,
   "id": "db66a14c",
   "metadata": {},
   "outputs": [],
   "source": []
  },
  {
   "cell_type": "code",
   "execution_count": null,
   "id": "cdc9d0de",
   "metadata": {
    "scrolled": true
   },
   "outputs": [],
   "source": [
    "for i, row in fmap.iterrows():\n",
    "    if row['disease'] in keep:\n",
    "        print(i)\n",
    "        a = sc.read_visium(row['spaceranger_output'])\n",
    "        a.var_names_make_unique()\n",
    "        sc.pl.spatial(a)"
   ]
  },
  {
   "cell_type": "code",
   "execution_count": null,
   "id": "fc6818a4",
   "metadata": {},
   "outputs": [],
   "source": [
    "s_id = 'HT112C1_U2'\n",
    "ref = co[co.obs['sample']==s_id].copy()\n",
    "sc.pp.pca(ref)\n",
    "sc.pp.neighbors(ref)\n",
    "sc.tl.umap(ref)\n",
    "sc.tl.leiden(ref)\n",
    "new = []\n",
    "for s in sorted(set(co.obs['sample'])):\n",
    "    small = co[co.obs['sample']==s].copy()\n",
    "    if s!=s_id:\n",
    "        sc.tl.ingest(small, ref, obs=['leiden'])\n",
    "        new.append(small)\n",
    "new.append(ref)\n",
    "corrected = anndata.concat(new)\n",
    "corrected"
   ]
  },
  {
   "cell_type": "code",
   "execution_count": null,
   "id": "14962f00",
   "metadata": {},
   "outputs": [],
   "source": [
    "sc.pl.umap(corrected, color='leiden')"
   ]
  },
  {
   "cell_type": "code",
   "execution_count": null,
   "id": "e01837fa",
   "metadata": {},
   "outputs": [],
   "source": [
    "overlap = sorted(set(corrected.obs.index).intersection(set(adata_exp.obs.index)))\n",
    "corrected_exp = adata_exp[overlap]"
   ]
  },
  {
   "cell_type": "code",
   "execution_count": null,
   "id": "bd084e07",
   "metadata": {},
   "outputs": [],
   "source": [
    "corrected_exp.obs['disease'] = [corrected.obs.loc[x, 'disease'] for x in corrected_exp.obs.index]\n",
    "corrected_exp.obs['leiden'] = [corrected.obs.loc[x, 'leiden'] for x in corrected_exp.obs.index]\n",
    "corrected_exp.obsm['X_umap'] = corrected[overlap].obsm['X_umap']\n",
    "corrected_exp"
   ]
  },
  {
   "cell_type": "code",
   "execution_count": null,
   "id": "96925c35",
   "metadata": {},
   "outputs": [],
   "source": [
    "import matplotlib.pyplot as plt\n",
    "plt.rcParams[\"figure.figsize\"] = (5, 5)\n",
    "plt.rcParams['figure.dpi'] = 180"
   ]
  },
  {
   "cell_type": "code",
   "execution_count": null,
   "id": "52d1cd07",
   "metadata": {
    "scrolled": true
   },
   "outputs": [],
   "source": [
    "sc.pl.umap(corrected, color=['sample', 'disease', 'leiden'], ncols=1, size=10)"
   ]
  },
  {
   "cell_type": "code",
   "execution_count": null,
   "id": "5cd85a0b",
   "metadata": {},
   "outputs": [],
   "source": [
    "fps = listfiles(img_dir, regex='.jpeg$')\n",
    "sample_to_fp = {fp.split('/')[-1].split('.')[0]:fp for fp in fps}"
   ]
  },
  {
   "cell_type": "code",
   "execution_count": null,
   "id": "8784d44e",
   "metadata": {
    "scrolled": true
   },
   "outputs": [],
   "source": [
    "n = 500\n",
    "idxs = np.random.permutation(corrected_exp.obs.index.to_list())[:n]\n",
    "filtered = corrected_exp[idxs]\n",
    "plot_image_umap(\n",
    "    filtered.obsm['X_umap'][:, 0].flatten(),\n",
    "    filtered.obsm['X_umap'][:, 1].flatten(),\n",
    "    [sample_to_fp[s] for s in filtered.obs.index]\n",
    ")"
   ]
  },
  {
   "cell_type": "code",
   "execution_count": null,
   "id": "bd736ed6",
   "metadata": {},
   "outputs": [],
   "source": [
    "genes = ['leiden', 'CD3G', 'IL7R', 'CD8A']\n",
    "sc.pl.umap(corrected_exp, color=genes, size=10)"
   ]
  },
  {
   "cell_type": "code",
   "execution_count": null,
   "id": "03e0be2b",
   "metadata": {},
   "outputs": [],
   "source": [
    "genes = ['leiden', 'EPCAM', 'CDH1']\n",
    "sc.pl.umap(corrected_exp, color=genes, size=10)"
   ]
  },
  {
   "cell_type": "code",
   "execution_count": null,
   "id": "353dac0b",
   "metadata": {},
   "outputs": [],
   "source": [
    "# visualize\n",
    "s_id = 'HT112C1_U2'\n",
    "a = sc.read_visium(fmap.loc[s_id, 'spaceranger_output'])\n",
    "a.var_names_make_unique()\n",
    "a.obs.index = [f'{s_id}_{x}' for x in a.obs.index]\n",
    "sc.pp.normalize_total(a, inplace=True)\n",
    "sc.pp.log1p(a)\n",
    "sc.pp.highly_variable_genes(a, flavor=\"seurat\", n_top_genes=2000)\n",
    "a"
   ]
  },
  {
   "cell_type": "code",
   "execution_count": null,
   "id": "2436cc6d",
   "metadata": {},
   "outputs": [],
   "source": [
    "a.obs['leiden'] = [corrected.obs.loc[x, 'leiden'] for x in a.obs.index]\n",
    "a.obsm['X_umap'] = corrected[a.obs.index].obsm['X_umap'].copy()"
   ]
  },
  {
   "cell_type": "code",
   "execution_count": null,
   "id": "dc55f270",
   "metadata": {
    "scrolled": true
   },
   "outputs": [],
   "source": [
    "sc.pl.spatial(a, color='leiden')"
   ]
  },
  {
   "cell_type": "code",
   "execution_count": null,
   "id": "cdb4b52d",
   "metadata": {
    "scrolled": true
   },
   "outputs": [],
   "source": [
    "sc.pl.spatial(a)"
   ]
  },
  {
   "cell_type": "code",
   "execution_count": null,
   "id": "4e19384e",
   "metadata": {},
   "outputs": [],
   "source": [
    "genes = ['leiden', 'CD3G', 'IL7R', 'CD8A']\n",
    "sc.pl.spatial(a, color=genes)"
   ]
  },
  {
   "cell_type": "code",
   "execution_count": null,
   "id": "9b0207bc",
   "metadata": {},
   "outputs": [],
   "source": [
    "genes = ['leiden', 'EPCAM', 'CDH1']\n",
    "sc.pl.spatial(a, color=genes)"
   ]
  },
  {
   "cell_type": "code",
   "execution_count": null,
   "id": "b98d5603",
   "metadata": {},
   "outputs": [],
   "source": [
    "genes = ['leiden', 'CD3G', 'IL7R', 'CD8A']\n",
    "sc.pl.umap(a, color=genes)"
   ]
  },
  {
   "cell_type": "code",
   "execution_count": null,
   "id": "3c730910",
   "metadata": {},
   "outputs": [],
   "source": [
    "genes = ['leiden', 'EPCAM', 'CDH1']\n",
    "sc.pl.umap(a, color=genes)"
   ]
  },
  {
   "cell_type": "code",
   "execution_count": null,
   "id": "c4aff01b",
   "metadata": {},
   "outputs": [],
   "source": [
    "genes = ['leiden', 'AFP']\n",
    "sc.pl.umap(a, color=genes)"
   ]
  },
  {
   "cell_type": "code",
   "execution_count": null,
   "id": "06b93382",
   "metadata": {},
   "outputs": [],
   "source": [
    "# grab some tumor cells and plot attention\n",
    "ts1 = np.random.permutation(a[a.obs['leiden']=='0'].obs.index)[:5]\n",
    "for s in ts1:\n",
    "    print(s)\n",
    "    plot_image_attention(sample_to_fp[s], model)\n",
    "    plt.show()"
   ]
  },
  {
   "cell_type": "code",
   "execution_count": null,
   "id": "a4c4f11c",
   "metadata": {
    "scrolled": true
   },
   "outputs": [],
   "source": [
    "for s in ts1:\n",
    "    print(s)\n",
    "    plot_image_attention(sample_to_fp[s], model, overlay_only=True)\n",
    "    plt.show()"
   ]
  },
  {
   "cell_type": "code",
   "execution_count": null,
   "id": "90939878",
   "metadata": {
    "scrolled": true
   },
   "outputs": [],
   "source": [
    "ts2 = np.random.permutation(a[a.obs['leiden']=='1'].obs.index)[:5]\n",
    "\n",
    "for s in ts2:\n",
    "    print(s)\n",
    "    plot_image_attention(sample_to_fp[s], model, overlay_only=True)\n",
    "    plt.show()"
   ]
  },
  {
   "cell_type": "code",
   "execution_count": null,
   "id": "64059593",
   "metadata": {
    "scrolled": true
   },
   "outputs": [],
   "source": [
    "ts2 = np.random.permutation(a[a.obs['leiden']=='9'].obs.index)[:5]\n",
    "\n",
    "for s in ts2:\n",
    "    print(s)\n",
    "    plot_image_attention(sample_to_fp[s], model, overlay_only=True)\n",
    "    plt.show()"
   ]
  },
  {
   "cell_type": "code",
   "execution_count": null,
   "id": "10c6b293",
   "metadata": {
    "scrolled": true
   },
   "outputs": [],
   "source": [
    "ts2 = np.random.permutation(a[a.obs['leiden']=='2'].obs.index)[:5]\n",
    "\n",
    "for s in ts2:\n",
    "    print(s)\n",
    "    plot_image_attention(sample_to_fp[s], model, overlay_only=True)\n",
    "    plt.show()"
   ]
  },
  {
   "cell_type": "code",
   "execution_count": null,
   "id": "e09e8f4d",
   "metadata": {
    "scrolled": true
   },
   "outputs": [],
   "source": [
    "roi_fp = '/home/estorrs/sandbox/co_immune_tumor_roi.png'\n",
    "plot_image_attention(roi_fp, model, overlay_only=False)"
   ]
  },
  {
   "cell_type": "code",
   "execution_count": null,
   "id": "049bc3dd",
   "metadata": {},
   "outputs": [],
   "source": [
    "roi_fp = '/home/estorrs/sandbox/co_immune_tumor_roi2.png'\n",
    "plot_image_attention(roi_fp, model, overlay_only=False)"
   ]
  },
  {
   "cell_type": "code",
   "execution_count": null,
   "id": "766d7645",
   "metadata": {},
   "outputs": [],
   "source": [
    "roi_fp = '/home/estorrs/sandbox/co_immune_tumor_roi3.png'\n",
    "plot_image_attention(roi_fp, model, overlay_only=False)"
   ]
  },
  {
   "cell_type": "code",
   "execution_count": null,
   "id": "9a73d55b",
   "metadata": {},
   "outputs": [],
   "source": [
    "roi_fp = '/home/estorrs/sandbox/co_immune_tumor_roi4.png'\n",
    "plot_image_attention(roi_fp, model, overlay_only=False)"
   ]
  },
  {
   "cell_type": "code",
   "execution_count": null,
   "id": "66938bbc",
   "metadata": {},
   "outputs": [],
   "source": [
    "p = [[x*255 for x in pal] for pal in sns.color_palette()]"
   ]
  },
  {
   "cell_type": "code",
   "execution_count": null,
   "id": "a06c2a38",
   "metadata": {},
   "outputs": [],
   "source": [
    "p"
   ]
  },
  {
   "cell_type": "code",
   "execution_count": null,
   "id": "47cc1407",
   "metadata": {},
   "outputs": [],
   "source": [
    "p"
   ]
  },
  {
   "cell_type": "code",
   "execution_count": null,
   "id": "11c582fb",
   "metadata": {},
   "outputs": [],
   "source": []
  }
 ],
 "metadata": {
  "kernelspec": {
   "display_name": "Python 3",
   "language": "python",
   "name": "python3"
  },
  "language_info": {
   "codemirror_mode": {
    "name": "ipython",
    "version": 3
   },
   "file_extension": ".py",
   "mimetype": "text/x-python",
   "name": "python",
   "nbconvert_exporter": "python",
   "pygments_lexer": "ipython3",
   "version": "3.8.10"
  }
 },
 "nbformat": 4,
 "nbformat_minor": 5
}
