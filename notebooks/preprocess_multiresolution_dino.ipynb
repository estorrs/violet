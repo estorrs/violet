{
 "cells": [
  {
   "cell_type": "code",
   "execution_count": null,
   "id": "6978b86f",
   "metadata": {},
   "outputs": [],
   "source": [
    "import os\n",
    "import time\n",
    "import re\n",
    "import uuid\n",
    "from collections import Counter\n",
    "from pathlib import Path\n",
    "\n",
    "import numpy as np\n",
    "import pandas as pd\n",
    "import scanpy as sc\n",
    "import tifffile\n",
    "from PIL import Image, ImageOps"
   ]
  },
  {
   "cell_type": "code",
   "execution_count": null,
   "id": "2566d5d7",
   "metadata": {},
   "outputs": [],
   "source": [
    "%load_ext autoreload"
   ]
  },
  {
   "cell_type": "code",
   "execution_count": null,
   "id": "2d3d5170",
   "metadata": {},
   "outputs": [],
   "source": [
    "%autoreload 2"
   ]
  },
  {
   "cell_type": "code",
   "execution_count": null,
   "id": "0d4512bc",
   "metadata": {},
   "outputs": [],
   "source": [
    "from violet.utils.preprocessing import get_svs_array, is_background, extract_st_tiles, extract_svs_tiles\n",
    "from violet.utils.dataloaders import listfiles"
   ]
  },
  {
   "cell_type": "code",
   "execution_count": null,
   "id": "b33ca436",
   "metadata": {},
   "outputs": [],
   "source": [
    "out_dir = '/data/violet/sandbox/multiresolution_dino_tcia'\n",
    "raw_dir = os.path.join(out_dir, 'raw_input', 'test_A')\n",
    "norm_dir = os.path.join(out_dir, 'normalized_input')\n",
    "\n",
    "Path(raw_dir).mkdir(parents=True, exist_ok=True)\n",
    "Path(norm_dir).mkdir(parents=True, exist_ok=True)"
   ]
  },
  {
   "cell_type": "code",
   "execution_count": null,
   "id": "b924b576",
   "metadata": {},
   "outputs": [],
   "source": [
    "from torchvision.transforms import RandomResizedCrop\n",
    "\n",
    "def extract_multiresolution_tiles(fp, out_dir, s=(64, 2048), target=512, n=1000, coverage=.5, delta=15*60):\n",
    "    if fp.split('.')[-1] in ['tif', 'tiff']:\n",
    "        img = tifffile.imread(fp)\n",
    "    elif fp.split('.')[-1] == 'svs':\n",
    "        img = get_svs_array(fp, scale=1.)\n",
    "    else:\n",
    "        raise RuntimeError('invalid extension')\n",
    "        \n",
    "    sample = fp.split('/')[-1].split('.')[0].replace(' ', '_')\n",
    "    \n",
    "    print(img.shape)\n",
    "    t = RandomResizedCrop(target, scale=(float(s[0]) / s[1], 1.), ratio=(1., 1.))\n",
    "    if min(img.shape[0], img.shape[1]) < s[1]:\n",
    "        raise RuntimeError('crop size must be smaller than image size')\n",
    "    # scale factors\n",
    "    valid_r, valid_c = np.arange(img.shape[0] - s[1]), np.arange(img.shape[1] - s[1])\n",
    "    \n",
    "    count = 0\n",
    "    start = time.time()\n",
    "    while count < n:\n",
    "        r, c = np.random.choice(valid_r), np.random.choice(valid_c)\n",
    "        patch = img[r:r + s[1], c:c + s[1]]\n",
    "        \n",
    "        if not is_background(patch, coverage=coverage):\n",
    "            patch = Image.fromarray(patch)\n",
    "            tile = t(patch)\n",
    "            tile.save(os.path.join(raw_dir, f'{sample}_{count}.jpeg'))\n",
    "            count += 1\n",
    "        if time.time() - start > delta:\n",
    "            break"
   ]
  },
  {
   "cell_type": "code",
   "execution_count": null,
   "id": "185fcac1",
   "metadata": {},
   "outputs": [],
   "source": [
    "# # do st\n",
    "# filemap = pd.read_csv('/home/estorrs/spatial-analysis/data/sample_map.txt', sep='\\t')\n",
    "# filemap = filemap[~pd.isnull(filemap['highres_image'])]\n",
    "# keep = [d for d in set(filemap['disease'])\n",
    "#         if d=='pdac']\n",
    "# filemap = filemap[[True if d in keep and t == 'ffpe' else False\n",
    "#                   for d, t in zip(filemap['disease'], filemap['tissue_type'])]]\n",
    "# filemap"
   ]
  },
  {
   "cell_type": "code",
   "execution_count": null,
   "id": "ae4708fd",
   "metadata": {},
   "outputs": [],
   "source": [
    "# data_map = {row['sample_id']: {'spatial': row['spaceranger_output'], 'tif': row['highres_image']}\n",
    "#             for i, row in filemap.iterrows()}\n",
    "# regions = [4, 8]\n",
    "# imgs, img_ids = extract_st_tiles(data_map, normalize=False, regions=regions)"
   ]
  },
  {
   "cell_type": "code",
   "execution_count": null,
   "id": "edb57688",
   "metadata": {},
   "outputs": [],
   "source": [
    "# import matplotlib.pyplot as plt\n",
    "# for i in imgs[0]:\n",
    "#     print(i.shape)\n",
    "#     plt.imshow(i)\n",
    "#     plt.show()"
   ]
  },
  {
   "cell_type": "code",
   "execution_count": null,
   "id": "f94ffab6",
   "metadata": {},
   "outputs": [],
   "source": [
    "# for tiles, img_id in zip(imgs, img_ids):\n",
    "#     w = 8\n",
    "#     fname = os.path.join(in_dir, f'{img_id}_{w}.jpeg')\n",
    "#     im = Image.fromarray(tiles[2]).resize((512, 512))\n",
    "#     im.save(fname)\n"
   ]
  },
  {
   "cell_type": "code",
   "execution_count": null,
   "id": "badbdbe1",
   "metadata": {},
   "outputs": [],
   "source": []
  },
  {
   "cell_type": "code",
   "execution_count": null,
   "id": "79be129f",
   "metadata": {},
   "outputs": [],
   "source": [
    "\n",
    "fps = sorted(listfiles('/data/tcia/PDA/', regex=r'.svs$'))\n",
    "fps = np.random.choice(fps, size=10, replace=False)\n",
    "data_map = {fp.split('/')[-1].split('.')[0]:fp for fp in fps}\n",
    "data_map"
   ]
  },
  {
   "cell_type": "code",
   "execution_count": null,
   "id": "3b5c3011",
   "metadata": {},
   "outputs": [],
   "source": [
    "for s, fp in data_map.items():\n",
    "    print(s)\n",
    "    extract_multiresolution_tiles(fp, out_dir, n=5000, delta=60 * 5)"
   ]
  },
  {
   "cell_type": "markdown",
   "id": "85b5ad54",
   "metadata": {},
   "source": [
    "run normalization"
   ]
  },
  {
   "cell_type": "code",
   "execution_count": null,
   "id": "816b26e7",
   "metadata": {},
   "outputs": [],
   "source": [
    "fps = sorted(listfiles(norm_dir))\n",
    "len(fps)"
   ]
  },
  {
   "cell_type": "code",
   "execution_count": null,
   "id": "9e60143c",
   "metadata": {},
   "outputs": [],
   "source": [
    "for fp in fps[:20]:\n",
    "    im = Image.open(fp)\n",
    "    im.show()\n",
    "    "
   ]
  },
  {
   "cell_type": "markdown",
   "id": "57b51af1",
   "metadata": {},
   "source": [
    "calculate mean and std of dataset"
   ]
  },
  {
   "cell_type": "code",
   "execution_count": null,
   "id": "8527320f",
   "metadata": {},
   "outputs": [],
   "source": [
    "from einops import rearrange\n",
    "sum_means, sum_stds = np.asarray([0., 0., 0.]), np.asarray([0., 0., 0.])\n",
    "n = 1000\n",
    "for fp in np.random.choice(fps, size=n):\n",
    "    img = np.asarray(Image.open(fp))\n",
    "    sum_means += np.mean(rearrange(img, 'h w c -> (h w) c'), axis=0)\n",
    "    sum_stds += np.std(rearrange(img, 'h w c -> (h w) c'), axis=0)\n",
    "sum_means / n / 255., sum_stds / n / 255."
   ]
  },
  {
   "cell_type": "markdown",
   "id": "fb5c76d6",
   "metadata": {},
   "source": [
    "run dino"
   ]
  },
  {
   "cell_type": "code",
   "execution_count": null,
   "id": "1e2a5fa8",
   "metadata": {},
   "outputs": [],
   "source": []
  },
  {
   "cell_type": "code",
   "execution_count": null,
   "id": "6bf4df0c",
   "metadata": {},
   "outputs": [],
   "source": []
  }
 ],
 "metadata": {
  "kernelspec": {
   "display_name": "Python 3",
   "language": "python",
   "name": "python3"
  },
  "language_info": {
   "codemirror_mode": {
    "name": "ipython",
    "version": 3
   },
   "file_extension": ".py",
   "mimetype": "text/x-python",
   "name": "python",
   "nbconvert_exporter": "python",
   "pygments_lexer": "ipython3",
   "version": "3.8.10"
  }
 },
 "nbformat": 4,
 "nbformat_minor": 5
}
