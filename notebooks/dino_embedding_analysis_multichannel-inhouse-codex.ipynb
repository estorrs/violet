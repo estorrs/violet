{
 "cells": [
  {
   "cell_type": "code",
   "execution_count": null,
   "id": "ec0a966a",
   "metadata": {},
   "outputs": [],
   "source": [
    "import os\n",
    "import re\n",
    "\n",
    "import anndata\n",
    "import numpy as np\n",
    "import pandas as pd\n",
    "import seaborn as sns\n",
    "import scanpy as sc\n",
    "from umap import UMAP\n",
    "from sklearn.preprocessing import StandardScaler\n"
   ]
  },
  {
   "cell_type": "code",
   "execution_count": null,
   "id": "b6eb7869",
   "metadata": {},
   "outputs": [],
   "source": [
    "import torch"
   ]
  },
  {
   "cell_type": "code",
   "execution_count": null,
   "id": "7473c5fc",
   "metadata": {},
   "outputs": [],
   "source": [
    "%load_ext autoreload"
   ]
  },
  {
   "cell_type": "code",
   "execution_count": null,
   "id": "918e4e59",
   "metadata": {},
   "outputs": [],
   "source": [
    "%autoreload 2"
   ]
  },
  {
   "cell_type": "code",
   "execution_count": null,
   "id": "cc43c680",
   "metadata": {},
   "outputs": [],
   "source": [
    "import violet\n",
    "from violet.utils.attention import plot_image_attention, plot_multichannel_attention, get_multichannel_images_attentions\n",
    "from violet.utils.model import predict\n",
    "from violet.utils.dataloaders import multichannel_image_dataloader, listfiles, dino_he_transform\n",
    "from violet.utils.analysis import plot_image_umap, display_2d_scatter\n",
    "from violet.utils.model import load_pretrained_model\n",
    "from violet.utils.multichannel import create_pseudocolor_image, retile_multichannel_image"
   ]
  },
  {
   "cell_type": "code",
   "execution_count": null,
   "id": "7113df67",
   "metadata": {},
   "outputs": [],
   "source": [
    "torch.cuda.set_device(3)\n",
    "torch.cuda.current_device()"
   ]
  },
  {
   "cell_type": "code",
   "execution_count": null,
   "id": "60ec48bf",
   "metadata": {},
   "outputs": [],
   "source": [
    "img_dir = '/home/estorrs/violet/data/codex/pdac_codex_256res/'\n",
    "weights = '/home/estorrs/violet/sandbox/dino_runs/codex_multiplex_pdac_xcit_p8_256res/checkpoint.pth'"
   ]
  },
  {
   "cell_type": "code",
   "execution_count": null,
   "id": "e2b874a5",
   "metadata": {},
   "outputs": [],
   "source": [
    "dataloader = multichannel_image_dataloader(img_dir, shuffle=False, pad=True)"
   ]
  },
  {
   "cell_type": "code",
   "execution_count": null,
   "id": "2f544e49",
   "metadata": {},
   "outputs": [],
   "source": [
    "model = load_pretrained_model(weights, in_chans=len(dataloader.dataset.channels), model_name='xcit_small',\n",
    "                             patch_size=8)"
   ]
  },
  {
   "cell_type": "code",
   "execution_count": null,
   "id": "88f58757",
   "metadata": {},
   "outputs": [],
   "source": [
    "dataloader.dataset.channels"
   ]
  },
  {
   "cell_type": "code",
   "execution_count": null,
   "id": "9ca2f825",
   "metadata": {},
   "outputs": [],
   "source": [
    "len(dataloader.dataset.samples)"
   ]
  },
  {
   "cell_type": "code",
   "execution_count": null,
   "id": "371d73ba",
   "metadata": {},
   "outputs": [],
   "source": [
    "b = next(iter(dataloader))\n",
    "b.shape"
   ]
  },
  {
   "cell_type": "code",
   "execution_count": null,
   "id": "dfcae87b",
   "metadata": {},
   "outputs": [],
   "source": [
    "sns.color_palette()"
   ]
  },
  {
   "cell_type": "code",
   "execution_count": null,
   "id": "b2f1195d",
   "metadata": {},
   "outputs": [],
   "source": [
    "import matplotlib.pyplot as plt\n",
    "pseudos = []\n",
    "for i, x in enumerate(b):\n",
    "    print(i)\n",
    "    pseudo = create_pseudocolor_image(x, dataloader.dataset, ['DAPI', 'CD20', 'CD8', 'pancytok', 'CD31'])\n",
    "    plt.imshow(pseudo)\n",
    "    plt.show()\n",
    "    pseudos.append(pseudo)"
   ]
  },
  {
   "cell_type": "code",
   "execution_count": null,
   "id": "01f9612d",
   "metadata": {},
   "outputs": [],
   "source": [
    "model = model.cuda()"
   ]
  },
  {
   "cell_type": "code",
   "execution_count": null,
   "id": "41a51234",
   "metadata": {},
   "outputs": [],
   "source": [
    "test, pseudo = b[7], pseudos[7]\n",
    "# test, pseudo = dataloader.dataset[14216], create_pseudocolor_image(dataloader.dataset[14216], dataloader.dataset, ['Histone H3', 'CD20', 'CD3', 'pan Cytokeratin'])"
   ]
  },
  {
   "cell_type": "code",
   "execution_count": null,
   "id": "d88d9cd1",
   "metadata": {},
   "outputs": [],
   "source": [
    "plot_multichannel_attention(test, pseudo, model)"
   ]
  },
  {
   "cell_type": "code",
   "execution_count": null,
   "id": "1a1624ba",
   "metadata": {},
   "outputs": [],
   "source": [
    "plot_multichannel_attention(test, pseudo, model, display='mean')"
   ]
  },
  {
   "cell_type": "code",
   "execution_count": null,
   "id": "86400082",
   "metadata": {},
   "outputs": [],
   "source": [
    "embs = predict(dataloader, model)"
   ]
  },
  {
   "cell_type": "code",
   "execution_count": null,
   "id": "3825a560",
   "metadata": {},
   "outputs": [],
   "source": [
    "embs.shape"
   ]
  },
  {
   "cell_type": "code",
   "execution_count": null,
   "id": "d8d1b241",
   "metadata": {},
   "outputs": [],
   "source": [
    "x = UMAP(n_components=2).fit_transform(embs)"
   ]
  },
  {
   "cell_type": "code",
   "execution_count": null,
   "id": "1c2336fb",
   "metadata": {},
   "outputs": [],
   "source": [
    "adata = anndata.AnnData(X=embs)\n",
    "adata.obs.index = [s for s in dataloader.dataset.samples]\n",
    "adata.obs['sample'] = ['_'.join(s.split('_')[:-2]) for s in adata.obs.index]\n",
    "adata.obsm['X_umap_emb'] = x\n",
    "adata"
   ]
  },
  {
   "cell_type": "code",
   "execution_count": null,
   "id": "fed6c3b2",
   "metadata": {},
   "outputs": [],
   "source": [
    "adata.write_h5ad('../sandbox/results/xcit_dino_multichannel_codex_inhouse/emb_adata.h5ad')"
   ]
  },
  {
   "cell_type": "code",
   "execution_count": null,
   "id": "6208d475",
   "metadata": {},
   "outputs": [],
   "source": [
    "adata.obs.index"
   ]
  },
  {
   "cell_type": "code",
   "execution_count": null,
   "id": "c6ea182c",
   "metadata": {},
   "outputs": [],
   "source": [
    "n = 200\n",
    "idxs = np.random.permutation(adata.obs.index.to_list())[:n]\n",
    "filtered = adata[idxs]\n",
    "imgs = [dataloader.dataset[np.where(dataloader.dataset.samples==s)[0][0]] for s in filtered.obs.index]\n",
    "pseudos = [create_pseudocolor_image(x, dataloader.dataset, ['DAPI', 'CD20', 'CD3e', 'pancytok'])\n",
    "          for x in imgs]\n",
    "plot_image_umap(\n",
    "    filtered.obsm['X_umap_emb'][:, 0].flatten(),\n",
    "    filtered.obsm['X_umap_emb'][:, 1].flatten(),\n",
    "    pseudos\n",
    ")"
   ]
  },
  {
   "cell_type": "code",
   "execution_count": null,
   "id": "c5137564",
   "metadata": {},
   "outputs": [],
   "source": [
    "attns = get_multichannel_images_attentions(dataloader, model)\n",
    "attns.shape"
   ]
  },
  {
   "cell_type": "code",
   "execution_count": null,
   "id": "9e5b89f0",
   "metadata": {},
   "outputs": [],
   "source": [
    "np.save('../sandbox/results/xcit_dino_multichannel_codex_inhouse/cls_attns.npy', attns)"
   ]
  },
  {
   "cell_type": "code",
   "execution_count": null,
   "id": "71e06249",
   "metadata": {},
   "outputs": [],
   "source": []
  },
  {
   "cell_type": "code",
   "execution_count": null,
   "id": "5c0a0a64",
   "metadata": {},
   "outputs": [],
   "source": [
    "np.sqrt(784)"
   ]
  },
  {
   "cell_type": "code",
   "execution_count": null,
   "id": "e383235d",
   "metadata": {},
   "outputs": [],
   "source": [
    "# 28 x 28 to 224 x 224\n",
    "from skimage.transform import resize\n",
    "from scipy.stats import pearsonr, spearmanr"
   ]
  },
  {
   "cell_type": "code",
   "execution_count": null,
   "id": "e47fd4e1",
   "metadata": {},
   "outputs": [],
   "source": [
    "# head_to_channel = {}\n",
    "head_to_channel = {}\n",
    "for i in range(len(dataloader)):\n",
    "    img = dataloader.dataset[i].numpy()\n",
    "    for h in range(attns.shape[1]):\n",
    "        attn = attns[i, h, 1:].reshape(int(np.sqrt(attns.shape[2] - 1)), int(np.sqrt(attns.shape[2] - 1)))\n",
    "        attn = resize(attn, img.shape[1:])\n",
    "        head_to_channel[h] = {}\n",
    "        for j, c in enumerate(dataloader.dataset.channels):\n",
    "            \n",
    "            if c not in head_to_channel[h]:\n",
    "                head_to_channel[h][c] = {'image': img[j, :, :].flatten(), 'attention': attn.flatten()}\n",
    "            else:\n",
    "                head_to_channel[h][c]['image'] = np.concatenate((head_to_channel[h][c]['image'], img[j, :, :].flatten()))\n",
    "                head_to_channel[h][c]['attention'] = np.concatenate((head_to_channel[h][c]['attention'], attn.flatten()))\n",
    "        \n",
    "#             corr, p = pearsonr(img[j, :, :].flatten(), attn.flatten())\n",
    "#             head_to_channel[h][c] = {\n",
    "#                 'r2': corr,\n",
    "#                 'p-value': p,\n",
    "#                 'image': img[j, :, :],\n",
    "#                 'attention': attn\n",
    "#             }\n",
    "        \n",
    "        \n",
    "    \n",
    "    "
   ]
  },
  {
   "cell_type": "code",
   "execution_count": null,
   "id": "52c28821",
   "metadata": {},
   "outputs": [],
   "source": [
    "for h, v in head_to_channel.items():\n",
    "    for c, d in v.items():\n",
    "        corr, p = spearmanr(d['image'],d['attention'])\n",
    "        d['r'] = corr\n",
    "        d['p-value'] = p"
   ]
  },
  {
   "cell_type": "code",
   "execution_count": null,
   "id": "d3c1919c",
   "metadata": {},
   "outputs": [],
   "source": [
    "for h, v in head_to_channel.items():\n",
    "    for c, d in v.items():\n",
    "        print(c, d['r'])"
   ]
  },
  {
   "cell_type": "code",
   "execution_count": null,
   "id": "be4150f5",
   "metadata": {},
   "outputs": [],
   "source": [
    "channel = 'pancytok'\n",
    "for h, v in head_to_channel.items():\n",
    "    print(h, v[channel]['r'])"
   ]
  },
  {
   "cell_type": "code",
   "execution_count": null,
   "id": "7e112250",
   "metadata": {},
   "outputs": [],
   "source": [
    "channel = 'pancytok'\n",
    "for h, v in head_to_channel.items():\n",
    "    print(h, v[channel]['r'])\n",
    "    plt.scatter(v[channel]['image'], v[channel]['attention'])\n",
    "    plt.show()\n",
    "    sns.displot(v[channel]['image'])\n",
    "    plt.show()"
   ]
  },
  {
   "cell_type": "code",
   "execution_count": null,
   "id": "d0d21370",
   "metadata": {},
   "outputs": [],
   "source": [
    "channel = 'Ki67'\n",
    "for h, v in head_to_channel.items():\n",
    "    print(h, v[channel]['r'])\n",
    "    print(np.argmax(v[channel]['image']))\n",
    "    plt.scatter(v[channel]['image'], v[channel]['attention'])\n",
    "    plt.show()"
   ]
  },
  {
   "cell_type": "code",
   "execution_count": null,
   "id": "c072e3ed",
   "metadata": {},
   "outputs": [],
   "source": []
  },
  {
   "cell_type": "code",
   "execution_count": null,
   "id": "5016dd86",
   "metadata": {},
   "outputs": [],
   "source": []
  },
  {
   "cell_type": "code",
   "execution_count": null,
   "id": "9efc4b83",
   "metadata": {},
   "outputs": [],
   "source": []
  },
  {
   "cell_type": "code",
   "execution_count": null,
   "id": "a6ba5c6f",
   "metadata": {},
   "outputs": [],
   "source": []
  },
  {
   "cell_type": "code",
   "execution_count": null,
   "id": "f7739afc",
   "metadata": {},
   "outputs": [],
   "source": []
  },
  {
   "cell_type": "code",
   "execution_count": null,
   "id": "fe01b54e",
   "metadata": {},
   "outputs": [],
   "source": []
  },
  {
   "cell_type": "code",
   "execution_count": null,
   "id": "2f2a7840",
   "metadata": {},
   "outputs": [],
   "source": []
  },
  {
   "cell_type": "code",
   "execution_count": null,
   "id": "76d5dba6",
   "metadata": {},
   "outputs": [],
   "source": []
  },
  {
   "cell_type": "code",
   "execution_count": null,
   "id": "a058f0fb",
   "metadata": {},
   "outputs": [],
   "source": []
  },
  {
   "cell_type": "code",
   "execution_count": null,
   "id": "bac08d36",
   "metadata": {},
   "outputs": [],
   "source": []
  },
  {
   "cell_type": "code",
   "execution_count": null,
   "id": "72fee120",
   "metadata": {},
   "outputs": [],
   "source": []
  },
  {
   "cell_type": "code",
   "execution_count": null,
   "id": "5b7d1201",
   "metadata": {},
   "outputs": [],
   "source": []
  },
  {
   "cell_type": "code",
   "execution_count": null,
   "id": "5a35bf54",
   "metadata": {},
   "outputs": [],
   "source": [
    "import umap\n",
    "import hdbscan"
   ]
  },
  {
   "cell_type": "code",
   "execution_count": null,
   "id": "bace265c",
   "metadata": {},
   "outputs": [],
   "source": [
    "# (n, h, p)"
   ]
  },
  {
   "cell_type": "code",
   "execution_count": null,
   "id": "dea9962a",
   "metadata": {},
   "outputs": [],
   "source": [
    "# cluster based on attn feature maps\n",
    "head_to_results = []\n",
    "for h in range(attns.shape[1]):\n",
    "    print(h)\n",
    "    \n",
    "    m = attns[:, h, 1:]\n",
    "    \n",
    "    clusterable_embedding = umap.UMAP(\n",
    "        n_neighbors=30,\n",
    "        min_dist=0.0,\n",
    "        n_components=2,\n",
    "        random_state=42,\n",
    "    ).fit_transform(m)\n",
    "    \n",
    "    labels = hdbscan.HDBSCAN(\n",
    "        min_samples=10,\n",
    "        min_cluster_size=100,\n",
    "    ).fit_predict(clusterable_embedding)\n",
    "    \n",
    "    a = anndata.AnnData(X=m)\n",
    "    a.obs.index = list(dataloader.dataset.samples)\n",
    "    a.obsm['X_umap_emb'] = clusterable_embedding\n",
    "    a.obs['hdbscan_cluster'] = labels\n",
    "    \n",
    "    sc.pp.neighbors(a)\n",
    "    sc.tl.umap(a)\n",
    "    sc.tl.leiden(a)\n",
    "    \n",
    "    head_to_results.append(a)"
   ]
  },
  {
   "cell_type": "code",
   "execution_count": null,
   "id": "7f2ebeab",
   "metadata": {},
   "outputs": [],
   "source": [
    "for h in range(len(head_to_results)):\n",
    "    print(h)\n",
    "    a = head_to_results[h]\n",
    "\n",
    "    a.obs['sample'] = [re.sub(r'^(BaselTMA_SP[0-9]+).*(X[0-9]+Y[0-9]+).*$', r'\\1_\\2', x) for x in a.obs.index]\n",
    "    combined = pd.merge(basel, a.obs, left_index=True, right_on='sample')"
   ]
  },
  {
   "cell_type": "code",
   "execution_count": null,
   "id": "413b9ab8",
   "metadata": {},
   "outputs": [],
   "source": [
    "basel"
   ]
  },
  {
   "cell_type": "code",
   "execution_count": null,
   "id": "adcae646",
   "metadata": {},
   "outputs": [],
   "source": [
    "from lifelines import KaplanMeierFitter, CoxPHFitter\n",
    "for h in range(len(head_to_results)):\n",
    "    print(h)\n",
    "    a = head_to_results[h]\n",
    "\n",
    "    a.obs['sample'] = [re.sub(r'^(BaselTMA_SP[0-9]+).*(X[0-9]+Y[0-9]+).*$', r'\\1_\\2', x) for x in a.obs.index]\n",
    "    combined = pd.merge(basel, a.obs, left_index=True, right_on='sample')\n",
    "    \n",
    "    \n",
    "    kmf = KaplanMeierFitter()\n",
    "    ft = combined\n",
    "    ft = ft[~pd.isnull(ft['leiden'])]\n",
    "    T = ft['survival_time']\n",
    "    E = ft['status']\n",
    "    groups = ft[f'leiden']\n",
    "\n",
    "    for cluster in sorted(set(ft['leiden'])): \n",
    "        kmf.fit(T[groups==cluster], E[groups==cluster], label=cluster)\n",
    "        ax = kmf.plot(show_censors=True, ci_show=False, )\n",
    "    plt.show()"
   ]
  },
  {
   "cell_type": "code",
   "execution_count": null,
   "id": "7cd12720",
   "metadata": {},
   "outputs": [],
   "source": [
    "from lifelines import KaplanMeierFitter, CoxPHFitter\n",
    "for h in range(len(head_to_results)):\n",
    "    print(h)\n",
    "    a = head_to_results[h]\n",
    "\n",
    "    a.obs['sample'] = [re.sub(r'^(BaselTMA_SP[0-9]+).*(X[0-9]+Y[0-9]+).*$', r'\\1_\\2', x) for x in a.obs.index]\n",
    "    combined = pd.merge(basel, a.obs, left_index=True, right_on='sample')\n",
    "    \n",
    "    \n",
    "    kmf = KaplanMeierFitter()\n",
    "    ft = combined\n",
    "    ft = ft[~pd.isnull(ft['hdbscan_cluster'])]\n",
    "    T = ft['survival_time']\n",
    "    E = ft['status']\n",
    "    groups = ft[f'hdbscan_cluster']\n",
    "\n",
    "    for cluster in sorted(set(ft['hdbscan_cluster'])): \n",
    "        kmf.fit(T[groups==cluster], E[groups==cluster], label=cluster)\n",
    "        ax = kmf.plot(show_censors=True, ci_show=False, )\n",
    "    plt.show()"
   ]
  },
  {
   "cell_type": "code",
   "execution_count": null,
   "id": "ff790a2c",
   "metadata": {},
   "outputs": [],
   "source": [
    "for h in range(len(head_to_results)):\n",
    "    print(h)\n",
    "    a = head_to_results[h]\n",
    "\n",
    "    a.obs['sample'] = [re.sub(r'^(BaselTMA_SP[0-9]+).*(X[0-9]+Y[0-9]+).*$', r'\\1_\\2', x) for x in a.obs.index]\n",
    "#     a.obs.index = a.obs['sample'].to_list()\n",
    "#     combined = pd.merge(basel, a.obs, left_index=True, right_index=True)\n",
    "#     print(combined.shape)\n",
    "    b = basel.drop_duplicates()\n",
    "    a.obs['survival_time'] = [b.loc[x, 'survival_time'] if x in b.index else np.nan\n",
    "                              for x in a.obs['sample']]\n",
    "    \n",
    "    sc.pl.embedding(a[~pd.isnull(a.obs['survival_time'])], basis='X_umap_emb', color=['hdbscan_cluster', 'survival_time'])\n",
    "    plt.show()"
   ]
  },
  {
   "cell_type": "code",
   "execution_count": null,
   "id": "5bc43c91",
   "metadata": {},
   "outputs": [],
   "source": [
    "for h in range(len(head_to_results)):\n",
    "    print(h)\n",
    "    a = head_to_results[h]\n",
    "\n",
    "    a.obs['sample'] = [re.sub(r'^(BaselTMA_SP[0-9]+).*(X[0-9]+Y[0-9]+).*$', r'\\1_\\2', x) for x in a.obs.index]\n",
    "#     a.obs.index = a.obs['sample'].to_list()\n",
    "#     combined = pd.merge(basel, a.obs, left_index=True, right_index=True)\n",
    "#     print(combined.shape)\n",
    "    b = basel.drop_duplicates()\n",
    "    a.obs['survival_time'] = [b.loc[x, 'survival_time'] if x in b.index else np.nan\n",
    "                              for x in a.obs['sample']]\n",
    "    \n",
    "    sc.pl.umap(a[~pd.isnull(a.obs['survival_time'])], color=['leiden', 'survival_time'])\n",
    "    plt.show()"
   ]
  },
  {
   "cell_type": "code",
   "execution_count": null,
   "id": "1459d44f",
   "metadata": {},
   "outputs": [],
   "source": [
    "idxs = [i for s, c in zip(head_to_results[12].obs.index, head_to_results[0].obs['leiden']) if c==7]\n",
    "idxs"
   ]
  },
  {
   "cell_type": "code",
   "execution_count": null,
   "id": "caffb933",
   "metadata": {},
   "outputs": [],
   "source": [
    "\n",
    "test, pseudo = b[36], pseudos[36]\n",
    "test, pseudo = dataloader.dataset[14216], create_pseudocolor_image(dataloader.dataset[14216], dataloader.dataset, ['Histone H3', 'CD20', 'CD3', 'pan Cytokeratin'])"
   ]
  },
  {
   "cell_type": "code",
   "execution_count": null,
   "id": "052f8bde",
   "metadata": {},
   "outputs": [],
   "source": [
    "plot_multichannel_attention(test, pseudo, model)"
   ]
  },
  {
   "cell_type": "code",
   "execution_count": null,
   "id": "e08044f6",
   "metadata": {},
   "outputs": [],
   "source": []
  },
  {
   "cell_type": "code",
   "execution_count": null,
   "id": "d908ae6c",
   "metadata": {},
   "outputs": [],
   "source": []
  },
  {
   "cell_type": "code",
   "execution_count": null,
   "id": "6c9b1013",
   "metadata": {},
   "outputs": [],
   "source": []
  },
  {
   "cell_type": "code",
   "execution_count": null,
   "id": "46bd2c2f",
   "metadata": {},
   "outputs": [],
   "source": []
  },
  {
   "cell_type": "code",
   "execution_count": null,
   "id": "b46dfa04",
   "metadata": {},
   "outputs": [],
   "source": []
  },
  {
   "cell_type": "code",
   "execution_count": null,
   "id": "ea22e306",
   "metadata": {},
   "outputs": [],
   "source": []
  },
  {
   "cell_type": "code",
   "execution_count": null,
   "id": "adf50535",
   "metadata": {},
   "outputs": [],
   "source": []
  },
  {
   "cell_type": "code",
   "execution_count": null,
   "id": "2de1232c",
   "metadata": {},
   "outputs": [],
   "source": []
  },
  {
   "cell_type": "code",
   "execution_count": null,
   "id": "413c76ce",
   "metadata": {},
   "outputs": [],
   "source": []
  },
  {
   "cell_type": "code",
   "execution_count": null,
   "id": "dbf43f2a",
   "metadata": {},
   "outputs": [],
   "source": []
  },
  {
   "cell_type": "code",
   "execution_count": null,
   "id": "7c60bcfe",
   "metadata": {},
   "outputs": [],
   "source": []
  },
  {
   "cell_type": "code",
   "execution_count": null,
   "id": "0705be12",
   "metadata": {},
   "outputs": [],
   "source": []
  },
  {
   "cell_type": "code",
   "execution_count": null,
   "id": "10dee1be",
   "metadata": {},
   "outputs": [],
   "source": []
  },
  {
   "cell_type": "code",
   "execution_count": null,
   "id": "025f7365",
   "metadata": {},
   "outputs": [],
   "source": []
  },
  {
   "cell_type": "code",
   "execution_count": null,
   "id": "a39f5a0b",
   "metadata": {},
   "outputs": [],
   "source": [
    "dl = multichannel_image_dataloader(img_dir, shuffle=True, pad=False)"
   ]
  },
  {
   "cell_type": "code",
   "execution_count": null,
   "id": "51d550ac",
   "metadata": {},
   "outputs": [],
   "source": [
    "import matplotlib.pyplot as plt\n",
    "idxs = np.random.permutation(np.arange(len(dl.dataset.samples)))\n",
    "for i in idxs:\n",
    "    x = dl.dataset[i]\n",
    "    print(i, dl.dataset.samples[i])\n",
    "    pseudo = create_pseudocolor_image(x, dl.dataset, ['Histone H3', 'CD20', 'CD3', 'pan Cytokeratin'])\n",
    "    plt.imshow(pseudo)\n",
    "    plt.show()"
   ]
  },
  {
   "cell_type": "code",
   "execution_count": null,
   "id": "a2cc62c5",
   "metadata": {},
   "outputs": [],
   "source": [
    "1408, 14216, 10347"
   ]
  },
  {
   "cell_type": "code",
   "execution_count": null,
   "id": "888c7075",
   "metadata": {},
   "outputs": [],
   "source": [
    "dl.dataset.samples[14216]"
   ]
  },
  {
   "cell_type": "code",
   "execution_count": null,
   "id": "29a32652",
   "metadata": {},
   "outputs": [],
   "source": []
  },
  {
   "cell_type": "code",
   "execution_count": null,
   "id": "62a330b8",
   "metadata": {},
   "outputs": [],
   "source": [
    "## clustring feature heads"
   ]
  },
  {
   "cell_type": "code",
   "execution_count": null,
   "id": "22047163",
   "metadata": {},
   "outputs": [],
   "source": []
  },
  {
   "cell_type": "code",
   "execution_count": null,
   "id": "39044aaa",
   "metadata": {},
   "outputs": [],
   "source": []
  },
  {
   "cell_type": "code",
   "execution_count": null,
   "id": "b43ad914",
   "metadata": {},
   "outputs": [],
   "source": []
  },
  {
   "cell_type": "code",
   "execution_count": null,
   "id": "980ed15c",
   "metadata": {},
   "outputs": [],
   "source": []
  },
  {
   "cell_type": "code",
   "execution_count": null,
   "id": "ba494811",
   "metadata": {},
   "outputs": [],
   "source": []
  },
  {
   "cell_type": "code",
   "execution_count": null,
   "id": "e550f871",
   "metadata": {},
   "outputs": [],
   "source": []
  },
  {
   "cell_type": "code",
   "execution_count": null,
   "id": "702fc91d",
   "metadata": {},
   "outputs": [],
   "source": []
  },
  {
   "cell_type": "code",
   "execution_count": null,
   "id": "8bf89cd0",
   "metadata": {},
   "outputs": [],
   "source": []
  },
  {
   "cell_type": "code",
   "execution_count": null,
   "id": "ceac6835",
   "metadata": {},
   "outputs": [],
   "source": []
  },
  {
   "cell_type": "code",
   "execution_count": null,
   "id": "43b04220",
   "metadata": {},
   "outputs": [],
   "source": []
  },
  {
   "cell_type": "code",
   "execution_count": null,
   "id": "2d7313d7",
   "metadata": {},
   "outputs": [],
   "source": []
  },
  {
   "cell_type": "code",
   "execution_count": null,
   "id": "00b5aac8",
   "metadata": {},
   "outputs": [],
   "source": []
  },
  {
   "cell_type": "code",
   "execution_count": null,
   "id": "cebfa065",
   "metadata": {},
   "outputs": [],
   "source": []
  },
  {
   "cell_type": "code",
   "execution_count": null,
   "id": "6922decb",
   "metadata": {},
   "outputs": [],
   "source": []
  },
  {
   "cell_type": "code",
   "execution_count": null,
   "id": "8524b8f3",
   "metadata": {},
   "outputs": [],
   "source": []
  },
  {
   "cell_type": "code",
   "execution_count": null,
   "id": "a5cf0036",
   "metadata": {},
   "outputs": [],
   "source": []
  },
  {
   "cell_type": "code",
   "execution_count": null,
   "id": "d4279c2f",
   "metadata": {},
   "outputs": [],
   "source": []
  },
  {
   "cell_type": "code",
   "execution_count": null,
   "id": "440ce3db",
   "metadata": {},
   "outputs": [],
   "source": []
  },
  {
   "cell_type": "code",
   "execution_count": null,
   "id": "0058c18b",
   "metadata": {},
   "outputs": [],
   "source": []
  },
  {
   "cell_type": "code",
   "execution_count": null,
   "id": "c5ec0705",
   "metadata": {},
   "outputs": [],
   "source": []
  },
  {
   "cell_type": "code",
   "execution_count": null,
   "id": "1f9d11d4",
   "metadata": {},
   "outputs": [],
   "source": []
  },
  {
   "cell_type": "code",
   "execution_count": null,
   "id": "6870b025",
   "metadata": {},
   "outputs": [],
   "source": []
  },
  {
   "cell_type": "code",
   "execution_count": null,
   "id": "c80c286c",
   "metadata": {},
   "outputs": [],
   "source": []
  },
  {
   "cell_type": "code",
   "execution_count": null,
   "id": "8bc51c59",
   "metadata": {},
   "outputs": [],
   "source": []
  },
  {
   "cell_type": "code",
   "execution_count": null,
   "id": "8d307660",
   "metadata": {},
   "outputs": [],
   "source": []
  },
  {
   "cell_type": "code",
   "execution_count": null,
   "id": "1a9f0f99",
   "metadata": {},
   "outputs": [],
   "source": [
    "sns.color_palette()"
   ]
  },
  {
   "cell_type": "code",
   "execution_count": null,
   "id": "f8d369d0",
   "metadata": {},
   "outputs": [],
   "source": [
    "sc.pp.neighbors(adata, use_rep='X')\n",
    "sc.tl.leiden(adata, resolution=.1)\n",
    "sc.tl.umap(adata, )"
   ]
  },
  {
   "cell_type": "code",
   "execution_count": null,
   "id": "389e56c7",
   "metadata": {},
   "outputs": [],
   "source": [
    "# adata.uns.pop('leiden_colors')"
   ]
  },
  {
   "cell_type": "code",
   "execution_count": null,
   "id": "8663644d",
   "metadata": {},
   "outputs": [],
   "source": [
    "sc.pl.embedding(adata, basis='X_umap_emb', color='leiden')"
   ]
  },
  {
   "cell_type": "code",
   "execution_count": null,
   "id": "ebf89c5f",
   "metadata": {},
   "outputs": [],
   "source": [
    "sc.pl.umap(adata)"
   ]
  },
  {
   "cell_type": "code",
   "execution_count": null,
   "id": "0568d276",
   "metadata": {},
   "outputs": [],
   "source": []
  },
  {
   "cell_type": "code",
   "execution_count": null,
   "id": "cc20966f",
   "metadata": {},
   "outputs": [],
   "source": [
    "attns = get_multichannel_images_attentions(dataloader, model)\n",
    "attns.shape"
   ]
  },
  {
   "cell_type": "code",
   "execution_count": null,
   "id": "1553444b",
   "metadata": {},
   "outputs": [],
   "source": [
    "np.save('../sandbox/results/xcit_dino_multichannel_bodenmiller/cls_attns.npy', attns)"
   ]
  },
  {
   "cell_type": "code",
   "execution_count": null,
   "id": "844b8b0a",
   "metadata": {},
   "outputs": [],
   "source": [
    "# remove cls self attention\n",
    "attns = attns[:, :, 1:]"
   ]
  },
  {
   "cell_type": "code",
   "execution_count": null,
   "id": "c846bbeb",
   "metadata": {},
   "outputs": [],
   "source": [
    "sums = np.sum(attns, axis=-1)\n",
    "sums.shape"
   ]
  },
  {
   "cell_type": "code",
   "execution_count": null,
   "id": "c3e58e85",
   "metadata": {},
   "outputs": [],
   "source": [
    "basel = pd.read_csv('/data/multiplex/bodenmiller_2019/Data_publication/BaselTMA/Basel_PatientMetadata.csv')\n",
    "basel"
   ]
  },
  {
   "cell_type": "code",
   "execution_count": null,
   "id": "141f166f",
   "metadata": {},
   "outputs": [],
   "source": [
    "basel = basel[['core', 'Patientstatus', 'OSmonth', 'Subtype']]\n",
    "basel['status'] = [1 if 'alive' in x else 2 for x in basel['Patientstatus']]\n",
    "basel['survival_time'] = basel['OSmonth']\n",
    "basel = basel.set_index('core')\n",
    "basel"
   ]
  },
  {
   "cell_type": "code",
   "execution_count": null,
   "id": "926a3d02",
   "metadata": {},
   "outputs": [],
   "source": [
    "basel.index = [re.sub(r'^(Basel.*SP[0-9]+).*(X[0-9]+Y[0-9]+).*$', r'\\1_\\2', x) for x in basel.index]"
   ]
  },
  {
   "cell_type": "code",
   "execution_count": null,
   "id": "9bd341ec",
   "metadata": {},
   "outputs": [],
   "source": [
    "list(basel.index)"
   ]
  },
  {
   "cell_type": "code",
   "execution_count": null,
   "id": "7f1b7fb3",
   "metadata": {},
   "outputs": [],
   "source": [
    "{re.sub(r'^(Basel.*SP[0-9]+).*(X[0-9]+Y[0-9]+).*$', r'\\1_\\2', x) for x in basel.index}"
   ]
  },
  {
   "cell_type": "code",
   "execution_count": null,
   "id": "fc1191d3",
   "metadata": {},
   "outputs": [],
   "source": [
    "len({re.sub(r'^(Basel.*SP[0-9]+).*(X[0-9]+Y[0-9]+).*$', r'\\1_\\2', x) for x in basel.index})"
   ]
  },
  {
   "cell_type": "code",
   "execution_count": null,
   "id": "29dfccb6",
   "metadata": {},
   "outputs": [],
   "source": [
    "list(basel.index)"
   ]
  },
  {
   "cell_type": "code",
   "execution_count": null,
   "id": "4fa2c862",
   "metadata": {},
   "outputs": [],
   "source": [
    "set([x.split('.')[0] for x in df.index])"
   ]
  },
  {
   "cell_type": "code",
   "execution_count": null,
   "id": "6506119b",
   "metadata": {},
   "outputs": [],
   "source": [
    "df = pd.DataFrame(data=sums, index=adata.obs.index, columns=[f'embedding_{x}' for x in range(sums.shape[1])])\n",
    "df"
   ]
  },
  {
   "cell_type": "code",
   "execution_count": null,
   "id": "3d81f716",
   "metadata": {},
   "outputs": [],
   "source": [
    "df = pd.DataFrame(data=sums, index=adata.obs.index, columns=[f'embedding_{x}' for x in range(sums.shape[1])])\n",
    "df['sample'] = [re.sub(r'^(BaselTMA_SP[0-9]+).*(X[0-9]+Y[0-9]+).*$', r'\\1_\\2', x) for x in df.index]\n",
    "df = df.groupby('sample').mean()\n",
    "df"
   ]
  },
  {
   "cell_type": "code",
   "execution_count": null,
   "id": "bf1e4784",
   "metadata": {},
   "outputs": [],
   "source": [
    "combined = pd.merge(df, basel, left_index=True, right_index=True, )\n",
    "combined = combined[[c for c in combined.columns if c!='Patientstatus' if c!='OSmonth' if c!='Subtype']]\n",
    "combined"
   ]
  },
  {
   "cell_type": "code",
   "execution_count": null,
   "id": "b50b122f",
   "metadata": {},
   "outputs": [],
   "source": [
    "cph = CoxPHFitter()\n",
    "cph.fit(combined, duration_col='survival_time', event_col='status')\n",
    "\n",
    "cph.print_summary()  # access the individual results using cph.summary"
   ]
  },
  {
   "cell_type": "code",
   "execution_count": null,
   "id": "45a9de1c",
   "metadata": {},
   "outputs": [],
   "source": []
  },
  {
   "cell_type": "code",
   "execution_count": null,
   "id": "cd8b5537",
   "metadata": {},
   "outputs": [],
   "source": [
    "sns.regplot(data=combined, x='survival_time', y='embedding_0')"
   ]
  },
  {
   "cell_type": "code",
   "execution_count": null,
   "id": "420234d0",
   "metadata": {},
   "outputs": [],
   "source": [
    "sns.regplot(data=combined, x='survival_time', y='embedding_8')"
   ]
  },
  {
   "cell_type": "code",
   "execution_count": null,
   "id": "0b27c4e8",
   "metadata": {},
   "outputs": [],
   "source": []
  },
  {
   "cell_type": "code",
   "execution_count": null,
   "id": "e908909f",
   "metadata": {},
   "outputs": [],
   "source": []
  },
  {
   "cell_type": "code",
   "execution_count": null,
   "id": "a9c625c3",
   "metadata": {},
   "outputs": [],
   "source": []
  },
  {
   "cell_type": "code",
   "execution_count": null,
   "id": "1fed2ed9",
   "metadata": {},
   "outputs": [],
   "source": [
    "p = combined.copy()\n",
    "p['classification'] = ['1' if x < .9995 else '0' for x in p['embedding_8']]"
   ]
  },
  {
   "cell_type": "code",
   "execution_count": null,
   "id": "7655611e",
   "metadata": {},
   "outputs": [],
   "source": [
    "from lifelines import KaplanMeierFitter, CoxPHFitter"
   ]
  },
  {
   "cell_type": "code",
   "execution_count": null,
   "id": "dda1c4a2",
   "metadata": {},
   "outputs": [],
   "source": [
    "kmf = KaplanMeierFitter()\n",
    "# ft = integrated.obs.copy()\n",
    "ft = basel\n",
    "ft = ft[~pd.isnull(ft['Subtype'])]\n",
    "T = ft['survival_time']\n",
    "E = ft['status']\n",
    "groups = ft[f'Subtype']\n",
    "\n",
    "for cluster in sorted(set(ft['Subtype'])): \n",
    "    kmf.fit(T[groups==cluster], E[groups==cluster], label=cluster)\n",
    "    ax = kmf.plot(show_censors=True, ci_show=False, )"
   ]
  },
  {
   "cell_type": "code",
   "execution_count": null,
   "id": "6d19ace4",
   "metadata": {},
   "outputs": [],
   "source": [
    "kmf = KaplanMeierFitter()\n",
    "# ft = integrated.obs.copy()\n",
    "ft = p\n",
    "ft = ft[~pd.isnull(ft['classification'])]\n",
    "T = ft['survival_time']\n",
    "E = ft['status']\n",
    "groups = ft[f'classification']\n",
    "\n",
    "for cluster in sorted(set(ft['classification'])): \n",
    "    kmf.fit(T[groups==cluster], E[groups==cluster], label=cluster)\n",
    "    ax = kmf.plot(show_censors=True, ci_show=False, )"
   ]
  },
  {
   "cell_type": "code",
   "execution_count": null,
   "id": "a2bd3165",
   "metadata": {},
   "outputs": [],
   "source": []
  },
  {
   "cell_type": "code",
   "execution_count": null,
   "id": "8d7ad294",
   "metadata": {},
   "outputs": [],
   "source": []
  },
  {
   "cell_type": "code",
   "execution_count": null,
   "id": "85b16db0",
   "metadata": {},
   "outputs": [],
   "source": []
  },
  {
   "cell_type": "code",
   "execution_count": null,
   "id": "806100d6",
   "metadata": {},
   "outputs": [],
   "source": []
  },
  {
   "cell_type": "code",
   "execution_count": null,
   "id": "84832bc7",
   "metadata": {},
   "outputs": [],
   "source": []
  },
  {
   "cell_type": "code",
   "execution_count": null,
   "id": "8e28b54c",
   "metadata": {},
   "outputs": [],
   "source": []
  },
  {
   "cell_type": "code",
   "execution_count": null,
   "id": "89d3c208",
   "metadata": {},
   "outputs": [],
   "source": [
    "display_2d_scatter(adata.obs, 'leiden', hue_order=sorted(set(adata.obs['leiden'])))\n",
    "plt.tight_layout()"
   ]
  },
  {
   "cell_type": "code",
   "execution_count": null,
   "id": "56e4d218",
   "metadata": {},
   "outputs": [],
   "source": [
    "samples = [(i, x) for i, x in enumerate(dl.dataset.samples)\n",
    "          if 'ZTMA208_slide_28.23kx22.4ky_7000x7000_5_20171115_96_1_Ay12x8_283_a0_full' in x]\n",
    "samples"
   ]
  },
  {
   "cell_type": "code",
   "execution_count": null,
   "id": "c6887d07",
   "metadata": {},
   "outputs": [],
   "source": [
    "pseudos = [create_pseudocolor_image(dl.dataset[x], dl.dataset, ['Histone H3', 'CD20', 'CD3', 'pan Cytokeratin'])\n",
    "           for x, _ in samples]"
   ]
  },
  {
   "cell_type": "code",
   "execution_count": null,
   "id": "fdbb3c40",
   "metadata": {},
   "outputs": [],
   "source": [
    "retiled = retile_multichannel_image([x for _, x in samples], pseudos)"
   ]
  },
  {
   "cell_type": "code",
   "execution_count": null,
   "id": "675f7c11",
   "metadata": {},
   "outputs": [],
   "source": [
    "plt.imshow(retiled)"
   ]
  },
  {
   "cell_type": "code",
   "execution_count": null,
   "id": "bcad6ca3",
   "metadata": {},
   "outputs": [],
   "source": []
  },
  {
   "cell_type": "code",
   "execution_count": null,
   "id": "3f484397",
   "metadata": {},
   "outputs": [],
   "source": []
  },
  {
   "cell_type": "code",
   "execution_count": null,
   "id": "dc6f6eee",
   "metadata": {},
   "outputs": [],
   "source": []
  },
  {
   "cell_type": "code",
   "execution_count": null,
   "id": "dd276f01",
   "metadata": {},
   "outputs": [],
   "source": []
  },
  {
   "cell_type": "code",
   "execution_count": null,
   "id": "0b960c0f",
   "metadata": {},
   "outputs": [],
   "source": []
  },
  {
   "cell_type": "code",
   "execution_count": null,
   "id": "17f33ad2",
   "metadata": {},
   "outputs": [],
   "source": []
  },
  {
   "cell_type": "code",
   "execution_count": null,
   "id": "3ae352db",
   "metadata": {},
   "outputs": [],
   "source": []
  },
  {
   "cell_type": "code",
   "execution_count": null,
   "id": "ed1e22b5",
   "metadata": {},
   "outputs": [],
   "source": []
  },
  {
   "cell_type": "code",
   "execution_count": null,
   "id": "79eaeed9",
   "metadata": {},
   "outputs": [],
   "source": []
  },
  {
   "cell_type": "code",
   "execution_count": null,
   "id": "5404ec69",
   "metadata": {},
   "outputs": [],
   "source": [
    "dapis = [np.sum(dataloader.dataset[x][-7].numpy())\n",
    "         for x in range(len(dataloader.dataset.samples))]"
   ]
  },
  {
   "cell_type": "code",
   "execution_count": null,
   "id": "1f9eccb9",
   "metadata": {},
   "outputs": [],
   "source": [
    "adata.obs['dapi'] = dapis\n",
    "display_2d_scatter(adata.obs, 'dapi', legend=True)"
   ]
  },
  {
   "cell_type": "code",
   "execution_count": null,
   "id": "6456012e",
   "metadata": {},
   "outputs": [],
   "source": [
    "adata.obs['highlight'] = ['yes' if d>100 else 'no' for d in dapis]\n",
    "display_2d_scatter(adata.obs, 'highlight', legend=True)"
   ]
  },
  {
   "cell_type": "code",
   "execution_count": null,
   "id": "e584c6a0",
   "metadata": {},
   "outputs": [],
   "source": [
    "dataloader.dataset.channels"
   ]
  },
  {
   "cell_type": "code",
   "execution_count": null,
   "id": "3d438552",
   "metadata": {},
   "outputs": [],
   "source": []
  }
 ],
 "metadata": {
  "kernelspec": {
   "display_name": "Python 3",
   "language": "python",
   "name": "python3"
  },
  "language_info": {
   "codemirror_mode": {
    "name": "ipython",
    "version": 3
   },
   "file_extension": ".py",
   "mimetype": "text/x-python",
   "name": "python",
   "nbconvert_exporter": "python",
   "pygments_lexer": "ipython3",
   "version": "3.8.10"
  }
 },
 "nbformat": 4,
 "nbformat_minor": 5
}
