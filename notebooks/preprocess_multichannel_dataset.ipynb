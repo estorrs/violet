{
 "cells": [
  {
   "cell_type": "code",
   "execution_count": null,
   "id": "7a680520",
   "metadata": {},
   "outputs": [],
   "source": [
    "import os\n",
    "import re\n",
    "from pathlib import Path\n",
    "\n",
    "import numpy as np\n",
    "from PIL import Image"
   ]
  },
  {
   "cell_type": "code",
   "execution_count": null,
   "id": "f43cad0d",
   "metadata": {},
   "outputs": [],
   "source": [
    "%load_ext autoreload"
   ]
  },
  {
   "cell_type": "code",
   "execution_count": null,
   "id": "43acd1fe",
   "metadata": {},
   "outputs": [],
   "source": [
    "%autoreload 2"
   ]
  },
  {
   "cell_type": "code",
   "execution_count": null,
   "id": "56069884",
   "metadata": {},
   "outputs": [],
   "source": [
    "from violet.utils.preprocessing import extract_and_write_multichannel\n",
    "from violet.utils.dataloaders import listfiles\n",
    "from violet.utils.multichannel import create_pseudocolor_image, create_pseudocolor_image_from_dict"
   ]
  },
  {
   "cell_type": "code",
   "execution_count": null,
   "id": "377892cc",
   "metadata": {},
   "outputs": [],
   "source": [
    "from mgitools.os_helpers import listfiles"
   ]
  },
  {
   "cell_type": "markdown",
   "id": "33413bc3",
   "metadata": {
    "heading_collapsed": true
   },
   "source": [
    "###### linking"
   ]
  },
  {
   "cell_type": "code",
   "execution_count": null,
   "id": "eccfe5ea",
   "metadata": {
    "hidden": true
   },
   "outputs": [],
   "source": []
  },
  {
   "cell_type": "code",
   "execution_count": null,
   "id": "09e3398d",
   "metadata": {
    "hidden": true,
    "scrolled": true
   },
   "outputs": [],
   "source": [
    "fps = sorted(listfiles('/home/estorrs/imaging/data/codex/codex_processed_hu_pancreas_TrisEDTA/codex_processed/codex_processed_hu_pancreas_TrisEDTA_2020-10-08/stitched/', regex=r'.tif$'))\n",
    "fps"
   ]
  },
  {
   "cell_type": "code",
   "execution_count": null,
   "id": "cfa6b7ae",
   "metadata": {
    "hidden": true
   },
   "outputs": [],
   "source": [
    "d = '../data/codex/test/hu_pancreas_TrisEDTA/'"
   ]
  },
  {
   "cell_type": "code",
   "execution_count": null,
   "id": "70a89f28",
   "metadata": {
    "hidden": true
   },
   "outputs": [],
   "source": [
    "# temporarily remap\n",
    "import subprocess\n",
    "for fp in fps:\n",
    "    identifier = fp.split('/')[-1]\n",
    "    identifier = re.sub(r'^.*_.*_.*_(.*).tif$', r'\\1', identifier)\n",
    "    new = os.path.join(d, f'{identifier}.tif')\n",
    "    c = f'ln -s {fp} {new}'\n",
    "    subprocess.check_output(c, shell=True)"
   ]
  },
  {
   "cell_type": "code",
   "execution_count": null,
   "id": "684ffe30",
   "metadata": {
    "hidden": true
   },
   "outputs": [],
   "source": []
  },
  {
   "cell_type": "markdown",
   "id": "bf7db268",
   "metadata": {},
   "source": [
    "#### bodenmiller"
   ]
  },
  {
   "cell_type": "code",
   "execution_count": null,
   "id": "501ec303",
   "metadata": {},
   "outputs": [],
   "source": [
    "fps = sorted(listfiles('/data/multiplex/bodenmiller_2019/extracted/tifs/', regex=r'.tif$'))\n",
    "fps"
   ]
  },
  {
   "cell_type": "code",
   "execution_count": null,
   "id": "aec61726",
   "metadata": {
    "scrolled": true
   },
   "outputs": [],
   "source": [
    "channels = sorted(set([f.split('/')[-1].replace('.tif', '') for f in fps]))\n",
    "channels"
   ]
  },
  {
   "cell_type": "code",
   "execution_count": null,
   "id": "c8b880ec",
   "metadata": {},
   "outputs": [],
   "source": [
    "remove = ['NaN', 'nan', 'undefined']\n",
    "fps = [fp for fp in fps if fp.split('/')[-1].replace('.tif', '') not in remove]"
   ]
  },
  {
   "cell_type": "code",
   "execution_count": null,
   "id": "5297229e",
   "metadata": {},
   "outputs": [],
   "source": [
    "data_map = {}\n",
    "for fp in fps:\n",
    "    sample = fp.split('/')[-2]\n",
    "    if sample not in data_map:\n",
    "        data_map[sample] = {}\n",
    "\n",
    "    channel = fp.split('/')[-1].replace('.tif', '')\n",
    "    data_map[sample][channel] = fp\n",
    "len(data_map)"
   ]
  },
  {
   "cell_type": "code",
   "execution_count": null,
   "id": "f06b239c",
   "metadata": {
    "scrolled": true
   },
   "outputs": [],
   "source": [
    "Counter([c for s, d in data_map.items() for c in d.keys()]).most_common()"
   ]
  },
  {
   "cell_type": "code",
   "execution_count": null,
   "id": "31175a22",
   "metadata": {},
   "outputs": [],
   "source": [
    "data_map.keys()"
   ]
  },
  {
   "cell_type": "code",
   "execution_count": null,
   "id": "92c035ed",
   "metadata": {},
   "outputs": [],
   "source": []
  },
  {
   "cell_type": "code",
   "execution_count": null,
   "id": "bf715bc1",
   "metadata": {},
   "outputs": [],
   "source": [
    "for k, channel_dict in data_map.items():\n",
    "    print(k)\n",
    "    pseudo = create_pseudocolor_image_from_dict(channel_dict, ['Histone H3', 'CD20', 'Vimentin', 'pan Cytokeratin'])\n",
    "    plt.imshow(pseudo)\n",
    "    plt.show()"
   ]
  },
  {
   "cell_type": "code",
   "execution_count": null,
   "id": "6e91e65c",
   "metadata": {},
   "outputs": [],
   "source": []
  },
  {
   "cell_type": "code",
   "execution_count": null,
   "id": "781682ec",
   "metadata": {},
   "outputs": [],
   "source": []
  },
  {
   "cell_type": "code",
   "execution_count": null,
   "id": "98bffd40",
   "metadata": {},
   "outputs": [],
   "source": [
    "# !rm -rf /home/estorrs/violet/data/imc/bodenmiller_2019_128res"
   ]
  },
  {
   "cell_type": "code",
   "execution_count": null,
   "id": "3c60e5e6",
   "metadata": {},
   "outputs": [],
   "source": [
    "val_samples = ['BaselTMA_SP41_15.475kx12.665ky_10000x8500_5_20170905_115_114_X14Y4_225_a0_full',\n",
    "              'BaselTMA_SP41_33.475kx12.66ky_8500x8500_2_20170905_34_45_X4Y3_173_a0_full',\n",
    "              'ZTMA208_slide_13.25kx21.95ky_7000x7000_9_20171115_363_28_Cy14x3_376_a0_full']"
   ]
  },
  {
   "cell_type": "code",
   "execution_count": null,
   "id": "4b4426d5",
   "metadata": {},
   "outputs": [],
   "source": [
    "output_dir = '/home/estorrs/violet/data/imc/bodenmiller_2019_128res'\n",
    "extract_and_write_multichannel(data_map, output_dir, resolution=128., background_thres=None, background_channel=None,\n",
    "                              val_samples=val_samples)"
   ]
  },
  {
   "cell_type": "code",
   "execution_count": null,
   "id": "9ac966b2",
   "metadata": {},
   "outputs": [],
   "source": []
  },
  {
   "cell_type": "code",
   "execution_count": null,
   "id": "772d37e5",
   "metadata": {},
   "outputs": [],
   "source": []
  },
  {
   "cell_type": "code",
   "execution_count": null,
   "id": "5e3d62ad",
   "metadata": {},
   "outputs": [],
   "source": []
  },
  {
   "cell_type": "code",
   "execution_count": null,
   "id": "d2de5b01",
   "metadata": {},
   "outputs": [],
   "source": []
  },
  {
   "cell_type": "code",
   "execution_count": null,
   "id": "a5480813",
   "metadata": {},
   "outputs": [],
   "source": []
  },
  {
   "cell_type": "code",
   "execution_count": null,
   "id": "8d62545b",
   "metadata": {},
   "outputs": [],
   "source": [
    "import tifffile"
   ]
  },
  {
   "cell_type": "code",
   "execution_count": null,
   "id": "5bd2da32",
   "metadata": {},
   "outputs": [],
   "source": [
    "img = tifffile.imread('/data/multiplex/bodenmiller_2019/extracted/tifs/BaselTMA_SP41_15.475kx12.665ky_10000x8500_5_20170905_109_83_X13Y2_116_a0_full/Histone H3.tif')\n",
    "img"
   ]
  },
  {
   "cell_type": "code",
   "execution_count": null,
   "id": "c59dfbfe",
   "metadata": {},
   "outputs": [],
   "source": [
    "img.shape"
   ]
  },
  {
   "cell_type": "code",
   "execution_count": null,
   "id": "b9f3d0b3",
   "metadata": {},
   "outputs": [],
   "source": [
    "np.max(img)"
   ]
  },
  {
   "cell_type": "code",
   "execution_count": null,
   "id": "728abc40",
   "metadata": {},
   "outputs": [],
   "source": [
    "np.sum(img)"
   ]
  },
  {
   "cell_type": "code",
   "execution_count": null,
   "id": "990f86f2",
   "metadata": {},
   "outputs": [],
   "source": [
    "import matplotlib.pyplot as plt\n",
    "plt.imshow(img / np.max(img))"
   ]
  },
  {
   "cell_type": "code",
   "execution_count": null,
   "id": "6c1ba209",
   "metadata": {},
   "outputs": [],
   "source": [
    "for fp in fps:\n",
    "    if 'EpCAM' in fp:\n",
    "        img = tifffile.imread(fp)\n",
    "        img[img>10.] = 10.\n",
    "        plt.imshow(img)\n",
    "        plt.show()"
   ]
  },
  {
   "cell_type": "code",
   "execution_count": null,
   "id": "fbe73808",
   "metadata": {},
   "outputs": [],
   "source": [
    "for c, fp in data_map['BaselTMA_SP41_15.475kx12.665ky_10000x8500_5_20170905_124_31_X15Y2_140_a0_full'].items():\n",
    "    print(c)\n",
    "    plt.imshow(tifffile.imread(fp))\n",
    "    plt.show()"
   ]
  },
  {
   "cell_type": "code",
   "execution_count": null,
   "id": "ee3798c1",
   "metadata": {},
   "outputs": [],
   "source": []
  },
  {
   "cell_type": "code",
   "execution_count": null,
   "id": "03a837d6",
   "metadata": {},
   "outputs": [],
   "source": []
  },
  {
   "cell_type": "markdown",
   "id": "06d89789",
   "metadata": {},
   "source": [
    "#### multidataset integration"
   ]
  },
  {
   "cell_type": "code",
   "execution_count": null,
   "id": "3dbdb151",
   "metadata": {},
   "outputs": [],
   "source": [
    "dirs = ['/data/multiplex/codex_inhouse', '/data/multiplex/codex_public',\n",
    "       '/data/multiplex/bodenmiller_2019/extracted/tifs/', '/data/multiplex/mcmicro/sardana/']"
   ]
  },
  {
   "cell_type": "code",
   "execution_count": null,
   "id": "67a65d0b",
   "metadata": {},
   "outputs": [],
   "source": [
    "# gather files\n",
    "fps = []\n",
    "for d in dirs:\n",
    "    fps += [(d, fp) for fp in sorted(listfiles(d, regex=r'.tif$'))]\n",
    "fps"
   ]
  },
  {
   "cell_type": "code",
   "execution_count": null,
   "id": "922dbb8e",
   "metadata": {},
   "outputs": [],
   "source": [
    "def clean_channel(c):\n",
    "    if 'reg' in c and 'ch00' in c:\n",
    "        return re.sub(r'^reg.*ch[0-9]{3}_(.*)$', r'\\1', c)\n",
    "    return c"
   ]
  },
  {
   "cell_type": "code",
   "execution_count": null,
   "id": "eb15dc7d",
   "metadata": {},
   "outputs": [],
   "source": [
    "data_map = {}\n",
    "for (dataset, fp) in fps:\n",
    "    if dataset not in data_map:\n",
    "        data_map[dataset] = {}\n",
    "    sample = fp.split('/')[-2]\n",
    "    if sample not in data_map[dataset]:\n",
    "        data_map[dataset][sample] = {}\n",
    "\n",
    "    channel = fp.split('/')[-1].replace('.tif', '')\n",
    "    channel = clean_channel(channel)\n",
    "    data_map[dataset][sample][channel] = fp\n",
    "len(data_map)"
   ]
  },
  {
   "cell_type": "code",
   "execution_count": null,
   "id": "284de788",
   "metadata": {},
   "outputs": [],
   "source": [
    "for dataset, m in data_map.items():\n",
    "    print(dataset, Counter([c for s, d in m.items() for c in d.keys()]).most_common())\n",
    "#     print(dataset, set([c for s, d in m.items() for c in d.keys()]))"
   ]
  },
  {
   "cell_type": "code",
   "execution_count": null,
   "id": "ad761f41",
   "metadata": {},
   "outputs": [],
   "source": [
    "# see all channels\n",
    "sorted(set([c for s, d in data_map.items() for c in d.keys()]))"
   ]
  },
  {
   "cell_type": "code",
   "execution_count": null,
   "id": "4656e08d",
   "metadata": {},
   "outputs": [],
   "source": [
    "# convert dapi\n",
    "for s, d in data_map.items():\n",
    "    rem = [k for k in d.keys() if 'DAPI' in k]\n",
    "    d['DAPI'] = str(d['DAPI1'])\n",
    "    for k in rem:\n",
    "        d.pop(k)"
   ]
  },
  {
   "cell_type": "code",
   "execution_count": null,
   "id": "b79d5f0c",
   "metadata": {},
   "outputs": [],
   "source": [
    "from collections import Counter\n",
    "ks = [k for s, d in data_map.items() for k in d]\n",
    "Counter(ks).most_common()"
   ]
  },
  {
   "cell_type": "code",
   "execution_count": null,
   "id": "0539f26e",
   "metadata": {},
   "outputs": [],
   "source": [
    "sorted(set(ks))"
   ]
  },
  {
   "cell_type": "code",
   "execution_count": null,
   "id": "d808d2a7",
   "metadata": {},
   "outputs": [],
   "source": [
    "output_dir = '/home/estorrs/violet/data/codex/tile_test_panc_07062021_512res_no_backround'\n",
    "extract_and_write_multichannel(data_map, output_dir, resolution=512., background_thres=200.)"
   ]
  },
  {
   "cell_type": "markdown",
   "id": "30c30ac1",
   "metadata": {},
   "source": [
    "#### codex in-house"
   ]
  },
  {
   "cell_type": "code",
   "execution_count": null,
   "id": "38fcc6ec",
   "metadata": {},
   "outputs": [],
   "source": [
    "d = '/data/multiplex/codex_inhouse/'"
   ]
  },
  {
   "cell_type": "code",
   "execution_count": null,
   "id": "bfbe6ed7",
   "metadata": {},
   "outputs": [],
   "source": [
    "fps = sorted(listfiles(d, regex=r'.tif$'))\n",
    "fps"
   ]
  },
  {
   "cell_type": "code",
   "execution_count": null,
   "id": "eb959f2b",
   "metadata": {},
   "outputs": [],
   "source": [
    "def clean_channel(c):\n",
    "    if 'reg' in c and 'ch00' in c:\n",
    "        return re.sub(r'^reg.*ch[0-9]{3}_(.*)$', r'\\1', c)\n",
    "    return c"
   ]
  },
  {
   "cell_type": "code",
   "execution_count": null,
   "id": "62fbb18e",
   "metadata": {},
   "outputs": [],
   "source": [
    "data_map = {}\n",
    "for fp in fps:\n",
    "    sample = fp.split('/')[-2]\n",
    "    if sample not in data_map:\n",
    "        data_map[sample] = {}\n",
    "        \n",
    "    channel = fp.split('/')[-1].replace('.tif', '')\n",
    "    channel = clean_channel(channel)\n",
    "    data_map[sample][channel] = fp\n",
    "len(data_map), data_map.keys()"
   ]
  },
  {
   "cell_type": "code",
   "execution_count": null,
   "id": "ea143ecd",
   "metadata": {},
   "outputs": [],
   "source": [
    "# convert dapi\n",
    "for k, d in data_map.items():\n",
    "    rem = [k for k in d.keys() if 'DAPI' in k]\n",
    "    d['DAPI'] = str(d['DAPI1'])\n",
    "    for k in rem:\n",
    "        d.pop(k)"
   ]
  },
  {
   "cell_type": "code",
   "execution_count": null,
   "id": "fe30865f",
   "metadata": {},
   "outputs": [],
   "source": [
    "from collections import Counter\n",
    "ks = [k for s, d in data_map.items() for k in d]\n",
    "Counter(ks).most_common()"
   ]
  },
  {
   "cell_type": "code",
   "execution_count": null,
   "id": "7df597c4",
   "metadata": {},
   "outputs": [],
   "source": [
    "output_dir = '/home/estorrs/violet/data/codex/pdac_codex_256res'\n",
    "extract_and_write_multichannel(data_map, output_dir, resolution=256., background_thres=100.)"
   ]
  },
  {
   "cell_type": "code",
   "execution_count": null,
   "id": "b0a5c64a",
   "metadata": {},
   "outputs": [],
   "source": []
  }
 ],
 "metadata": {
  "kernelspec": {
   "display_name": "Python 3",
   "language": "python",
   "name": "python3"
  },
  "language_info": {
   "codemirror_mode": {
    "name": "ipython",
    "version": 3
   },
   "file_extension": ".py",
   "mimetype": "text/x-python",
   "name": "python",
   "nbconvert_exporter": "python",
   "pygments_lexer": "ipython3",
   "version": "3.8.10"
  }
 },
 "nbformat": 4,
 "nbformat_minor": 5
}
