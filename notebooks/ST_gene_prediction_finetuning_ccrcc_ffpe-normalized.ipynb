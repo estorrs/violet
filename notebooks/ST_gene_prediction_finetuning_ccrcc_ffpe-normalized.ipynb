{
 "cells": [
  {
   "cell_type": "code",
   "execution_count": 1,
   "id": "c52bf4a2",
   "metadata": {},
   "outputs": [],
   "source": [
    "import os\n",
    "import re\n",
    "\n",
    "import anndata\n",
    "import numpy as np\n",
    "import pandas as pd\n",
    "import seaborn as sns\n",
    "import scanpy as sc\n",
    "from umap import UMAP\n",
    "from sklearn.preprocessing import StandardScaler"
   ]
  },
  {
   "cell_type": "code",
   "execution_count": 2,
   "id": "66accd0c",
   "metadata": {},
   "outputs": [],
   "source": [
    "import torch\n",
    "import torch.nn as nn\n",
    "from torchvision import datasets, transforms"
   ]
  },
  {
   "cell_type": "code",
   "execution_count": 3,
   "id": "690291d3",
   "metadata": {},
   "outputs": [],
   "source": [
    "%load_ext autoreload"
   ]
  },
  {
   "cell_type": "code",
   "execution_count": 4,
   "id": "ecb66ac4",
   "metadata": {},
   "outputs": [],
   "source": [
    "%autoreload 2"
   ]
  },
  {
   "cell_type": "code",
   "execution_count": 5,
   "id": "32003b8d",
   "metadata": {},
   "outputs": [],
   "source": [
    "from violet.utils.model import load_pretrained_model\n",
    "from violet.utils.dataloaders import listfiles, image_regression_dataloaders\n",
    "from violet.models.st import STRegressor, STLearner\n",
    "from violet.utils.st import load_st_learner, run_st_learner, load_imagenet_st_learner"
   ]
  },
  {
   "cell_type": "code",
   "execution_count": 6,
   "id": "3b659c0c",
   "metadata": {},
   "outputs": [
    {
     "data": {
      "text/plain": [
       "1"
      ]
     },
     "execution_count": 6,
     "metadata": {},
     "output_type": "execute_result"
    }
   ],
   "source": [
    "torch.cuda.set_device(1)\n",
    "torch.cuda.current_device()"
   ]
  },
  {
   "cell_type": "code",
   "execution_count": 7,
   "id": "fec72b7d",
   "metadata": {},
   "outputs": [],
   "source": [
    "img_dir = '/home/estorrs/violet/data/st/ccrcc_ffpe_08032021_normalized'\n",
    "weights = '/home/estorrs/violet/sandbox/dino_runs/ccrcc_ffpe_tcia_normalized_xcit_p8_v2/checkpoint0000.pth'\n",
    "run_dir = '/home/estorrs/violet/sandbox/runs/ccrcc_ffpe_tcia_normalized_xcit_p8_v2'"
   ]
  },
  {
   "cell_type": "markdown",
   "id": "2f39c5e2",
   "metadata": {},
   "source": [
    "CAF (BGN+, FAP+), T-cell (CD45+, CD3G+), DC (FCER1A+, CD74+, HLA-DRA+), Malignant (EPCAM+, KRT18+), Endothelial cell (PECAM1+), Erythrocyte (HBA1+), B cell (KIT+), Mast cell (CPA3+), Monocyte (FCER1A+, CD14+, LYZ+), Plasma cell (SDC1+), Acinar (PRSS1+, CDH5+), Stellate I and II(RGS5+). The T cell cluster was further clustered with a resolution of X. The resulting clusters were grouped into CD4 T cells (CD3G+, CD4+), CD8 T cells (CD3G+, CD8A+), CD4/CD8 T cells - exhausted (CD3G+, LAG3+, PDCD1+), NK (NKG7+, GNLY+), and T-reg (FOXP3+).\n"
   ]
  },
  {
   "cell_type": "code",
   "execution_count": 8,
   "id": "7daf7e90",
   "metadata": {},
   "outputs": [],
   "source": [
    "markers = ['BGN', 'FAP', 'SPARC']\n",
    "markers += ['PTPRC', 'CD3G', 'CD3E', 'CD4', 'CD8A', 'IL7R', 'FOXP3']\n",
    "markers += ['LAG3', 'PDCD1', 'HAVCR2', 'TIGIT', 'CTLA4']\n",
    "markers += ['NKG7', 'GNLY']\n",
    "markers += ['EPCAM', 'KRT18', 'CDH1', 'MUC5AC', 'CA9']\n",
    "markers += ['TOP2A', 'MKI67']\n",
    "markers += ['PECAM1']\n",
    "markers += ['HBA1']\n",
    "markers += ['MS4A1', 'KIT']\n",
    "markers += ['CPA3']\n",
    "markers += ['FCER1A', 'CD14', 'LYZ', 'CD68']\n",
    "markers += ['SDC1']\n",
    "markers += ['PRSS1', 'CDH5']\n",
    "markers += ['RGS5']\n",
    "markers = sorted(set(markers))"
   ]
  },
  {
   "cell_type": "code",
   "execution_count": 9,
   "id": "e66923eb",
   "metadata": {},
   "outputs": [
    {
     "data": {
      "text/html": [
       "<div>\n",
       "<style scoped>\n",
       "    .dataframe tbody tr th:only-of-type {\n",
       "        vertical-align: middle;\n",
       "    }\n",
       "\n",
       "    .dataframe tbody tr th {\n",
       "        vertical-align: top;\n",
       "    }\n",
       "\n",
       "    .dataframe thead th {\n",
       "        text-align: right;\n",
       "    }\n",
       "</style>\n",
       "<table border=\"1\" class=\"dataframe\">\n",
       "  <thead>\n",
       "    <tr style=\"text-align: right;\">\n",
       "      <th></th>\n",
       "      <th>spaceranger_output</th>\n",
       "      <th>highres_image</th>\n",
       "      <th>disease</th>\n",
       "      <th>tissue_type</th>\n",
       "    </tr>\n",
       "    <tr>\n",
       "      <th>sample_id</th>\n",
       "      <th></th>\n",
       "      <th></th>\n",
       "      <th></th>\n",
       "      <th></th>\n",
       "    </tr>\n",
       "  </thead>\n",
       "  <tbody>\n",
       "    <tr>\n",
       "      <th>HT206B1_H8_U2</th>\n",
       "      <td>/data/spatial_transcriptomics/spaceranger_outp...</td>\n",
       "      <td>/data/spatial_transcriptomics/highres_images/b...</td>\n",
       "      <td>brca</td>\n",
       "      <td>oct</td>\n",
       "    </tr>\n",
       "    <tr>\n",
       "      <th>HT206B1_H8_U3</th>\n",
       "      <td>/data/spatial_transcriptomics/spaceranger_outp...</td>\n",
       "      <td>/data/spatial_transcriptomics/highres_images/b...</td>\n",
       "      <td>brca</td>\n",
       "      <td>oct</td>\n",
       "    </tr>\n",
       "    <tr>\n",
       "      <th>HT206B1_H8_U4</th>\n",
       "      <td>/data/spatial_transcriptomics/spaceranger_outp...</td>\n",
       "      <td>/data/spatial_transcriptomics/highres_images/b...</td>\n",
       "      <td>brca</td>\n",
       "      <td>oct</td>\n",
       "    </tr>\n",
       "    <tr>\n",
       "      <th>HT206B1_H8_U5</th>\n",
       "      <td>/data/spatial_transcriptomics/spaceranger_outp...</td>\n",
       "      <td>/data/spatial_transcriptomics/highres_images/b...</td>\n",
       "      <td>brca</td>\n",
       "      <td>oct</td>\n",
       "    </tr>\n",
       "    <tr>\n",
       "      <th>HT206B1_H8_Bn</th>\n",
       "      <td>/data/spatial_transcriptomics/spaceranger_outp...</td>\n",
       "      <td>NaN</td>\n",
       "      <td>brca</td>\n",
       "      <td>oct</td>\n",
       "    </tr>\n",
       "    <tr>\n",
       "      <th>...</th>\n",
       "      <td>...</td>\n",
       "      <td>...</td>\n",
       "      <td>...</td>\n",
       "      <td>...</td>\n",
       "    </tr>\n",
       "    <tr>\n",
       "      <th>NMK_20201012</th>\n",
       "      <td>/data/spatial_transcriptomics/spaceranger_outp...</td>\n",
       "      <td>/data/spatial_transcriptomics/highres_images/m...</td>\n",
       "      <td>mouse_kidney</td>\n",
       "      <td>oct</td>\n",
       "    </tr>\n",
       "    <tr>\n",
       "      <th>AKICL_14w</th>\n",
       "      <td>/data/spatial_transcriptomics/spaceranger_outp...</td>\n",
       "      <td>/data/spatial_transcriptomics/highres_images/m...</td>\n",
       "      <td>mouse_kidney</td>\n",
       "      <td>oct</td>\n",
       "    </tr>\n",
       "    <tr>\n",
       "      <th>AKI_M_14w</th>\n",
       "      <td>/data/spatial_transcriptomics/spaceranger_outp...</td>\n",
       "      <td>/data/spatial_transcriptomics/highres_images/m...</td>\n",
       "      <td>mouse_kidney</td>\n",
       "      <td>oct</td>\n",
       "    </tr>\n",
       "    <tr>\n",
       "      <th>SP1896H1_U1</th>\n",
       "      <td>/data/spatial_transcriptomics/spaceranger_outp...</td>\n",
       "      <td>/data/spatial_transcriptomics/highres_images/i...</td>\n",
       "      <td>normal_stomach</td>\n",
       "      <td>oct</td>\n",
       "    </tr>\n",
       "    <tr>\n",
       "      <th>HT291C1_U1</th>\n",
       "      <td>/data/spatial_transcriptomics/spaceranger_outp...</td>\n",
       "      <td>/data/spatial_transcriptomics/highres_images/i...</td>\n",
       "      <td>normal_liver</td>\n",
       "      <td>oct</td>\n",
       "    </tr>\n",
       "  </tbody>\n",
       "</table>\n",
       "<p>94 rows × 4 columns</p>\n",
       "</div>"
      ],
      "text/plain": [
       "                                              spaceranger_output  \\\n",
       "sample_id                                                          \n",
       "HT206B1_H8_U2  /data/spatial_transcriptomics/spaceranger_outp...   \n",
       "HT206B1_H8_U3  /data/spatial_transcriptomics/spaceranger_outp...   \n",
       "HT206B1_H8_U4  /data/spatial_transcriptomics/spaceranger_outp...   \n",
       "HT206B1_H8_U5  /data/spatial_transcriptomics/spaceranger_outp...   \n",
       "HT206B1_H8_Bn  /data/spatial_transcriptomics/spaceranger_outp...   \n",
       "...                                                          ...   \n",
       "NMK_20201012   /data/spatial_transcriptomics/spaceranger_outp...   \n",
       "AKICL_14w      /data/spatial_transcriptomics/spaceranger_outp...   \n",
       "AKI_M_14w      /data/spatial_transcriptomics/spaceranger_outp...   \n",
       "SP1896H1_U1    /data/spatial_transcriptomics/spaceranger_outp...   \n",
       "HT291C1_U1     /data/spatial_transcriptomics/spaceranger_outp...   \n",
       "\n",
       "                                                   highres_image  \\\n",
       "sample_id                                                          \n",
       "HT206B1_H8_U2  /data/spatial_transcriptomics/highres_images/b...   \n",
       "HT206B1_H8_U3  /data/spatial_transcriptomics/highres_images/b...   \n",
       "HT206B1_H8_U4  /data/spatial_transcriptomics/highres_images/b...   \n",
       "HT206B1_H8_U5  /data/spatial_transcriptomics/highres_images/b...   \n",
       "HT206B1_H8_Bn                                                NaN   \n",
       "...                                                          ...   \n",
       "NMK_20201012   /data/spatial_transcriptomics/highres_images/m...   \n",
       "AKICL_14w      /data/spatial_transcriptomics/highres_images/m...   \n",
       "AKI_M_14w      /data/spatial_transcriptomics/highres_images/m...   \n",
       "SP1896H1_U1    /data/spatial_transcriptomics/highres_images/i...   \n",
       "HT291C1_U1     /data/spatial_transcriptomics/highres_images/i...   \n",
       "\n",
       "                      disease tissue_type  \n",
       "sample_id                                  \n",
       "HT206B1_H8_U2            brca         oct  \n",
       "HT206B1_H8_U3            brca         oct  \n",
       "HT206B1_H8_U4            brca         oct  \n",
       "HT206B1_H8_U5            brca         oct  \n",
       "HT206B1_H8_Bn            brca         oct  \n",
       "...                       ...         ...  \n",
       "NMK_20201012     mouse_kidney         oct  \n",
       "AKICL_14w        mouse_kidney         oct  \n",
       "AKI_M_14w        mouse_kidney         oct  \n",
       "SP1896H1_U1    normal_stomach         oct  \n",
       "HT291C1_U1       normal_liver         oct  \n",
       "\n",
       "[94 rows x 4 columns]"
      ]
     },
     "execution_count": 9,
     "metadata": {},
     "output_type": "execute_result"
    }
   ],
   "source": [
    "fmap = pd.read_csv('/home/estorrs/spatial-analysis/data/sample_map.txt', sep='\\t', index_col=0)\n",
    "fmap"
   ]
  },
  {
   "cell_type": "code",
   "execution_count": 10,
   "id": "ecec06a0",
   "metadata": {},
   "outputs": [
    {
     "data": {
      "text/plain": [
       "{'HT282N1_S1H3Fs4U1': '/data/spatial_transcriptomics/spaceranger_outputs/ccrcc/HT282N1-S1H3Fs4U1Bp1',\n",
       " 'HT293N1_S1H3Fs1U1': '/data/spatial_transcriptomics/spaceranger_outputs/ccrcc/HT293N1-S1H3Fs1U1Bp1'}"
      ]
     },
     "execution_count": 10,
     "metadata": {},
     "output_type": "execute_result"
    }
   ],
   "source": [
    "adata_map = {}\n",
    "for s, fp, d, t in zip(fmap.index, fmap['spaceranger_output'], fmap['disease'], fmap['tissue_type']):\n",
    "    if 'ccrcc' == d and t == 'ffpe':\n",
    "        adata_map[s] = fp\n",
    "adata_map"
   ]
  },
  {
   "cell_type": "code",
   "execution_count": 11,
   "id": "c9df1b51",
   "metadata": {},
   "outputs": [],
   "source": [
    "val_samples = ['HT282N1_S1H3Fs4U1']"
   ]
  },
  {
   "cell_type": "code",
   "execution_count": 12,
   "id": "61d741c6",
   "metadata": {
    "scrolled": true
   },
   "outputs": [
    {
     "name": "stderr",
     "output_type": "stream",
     "text": [
      "Variable names are not unique. To make them unique, call `.var_names_make_unique`.\n",
      "Variable names are not unique. To make them unique, call `.var_names_make_unique`.\n",
      "Variable names are not unique. To make them unique, call `.var_names_make_unique`.\n",
      "Variable names are not unique. To make them unique, call `.var_names_make_unique`.\n",
      "/home/estorrs/miniconda3/envs/violet/lib/python3.8/site-packages/torchvision/transforms/transforms.py:257: UserWarning: Argument interpolation should be of type InterpolationMode instead of int. Please, use InterpolationMode enum.\n",
      "  warnings.warn(\n"
     ]
    },
    {
     "name": "stdout",
     "output_type": "stream",
     "text": [
      "Take key teacher in provided checkpoint dict\n",
      "Pretrained weights found at /home/estorrs/violet/sandbox/dino_runs/ccrcc_ffpe_tcia_normalized_xcit_p8_v2/checkpoint0000.pth and loaded with msg: _IncompatibleKeys(missing_keys=[], unexpected_keys=['head.mlp.0.weight', 'head.mlp.0.bias', 'head.mlp.2.weight', 'head.mlp.2.bias', 'head.mlp.4.weight', 'head.mlp.4.bias', 'head.last_layer.weight_g', 'head.last_layer.weight_v'])\n",
      "ST Learner summary:\n",
      "{'dataset': {'image_directory': '/home/estorrs/violet/data/st/ccrcc_ffpe_08032021_normalized',\n",
      "             'min_counts': 2500,\n",
      "             'resolution': 55.0,\n",
      "             'targets': ['BGN',\n",
      "                         'CA9',\n",
      "                         'CD14',\n",
      "                         'CD3E',\n",
      "                         'CD3G',\n",
      "                         'CD4',\n",
      "                         'CD68',\n",
      "                         'CD8A',\n",
      "                         'CDH1',\n",
      "                         'CDH5',\n",
      "                         'CPA3',\n",
      "                         'CTLA4',\n",
      "                         'EPCAM',\n",
      "                         'FAP',\n",
      "                         'FCER1A',\n",
      "                         'FOXP3',\n",
      "                         'GNLY',\n",
      "                         'HAVCR2',\n",
      "                         'HBA1',\n",
      "                         'IL7R',\n",
      "                         'KIT',\n",
      "                         'KRT18',\n",
      "                         'LAG3',\n",
      "                         'LYZ',\n",
      "                         'MKI67',\n",
      "                         'MS4A1',\n",
      "                         'MUC5AC',\n",
      "                         'NKG7',\n",
      "                         'PDCD1',\n",
      "                         'PECAM1',\n",
      "                         'PRSS1',\n",
      "                         'PTPRC',\n",
      "                         'RGS5',\n",
      "                         'SDC1',\n",
      "                         'SPARC',\n",
      "                         'TIGIT',\n",
      "                         'TOP2A'],\n",
      "             'train_dataset': {'num_spots': 2476,\n",
      "                               'samples': ['HT293N1_S1H3Fs1U1']},\n",
      "             'val_dataset': {'num_spots': 3624,\n",
      "                             'samples': ['HT282N1_S1H3Fs4U1']}},\n",
      " 'head': {'type': 'linear'},\n",
      " 'hyperparams': {'batch_size': 16,\n",
      "                 'frozen_lr': 0.001,\n",
      "                 'gpu': True,\n",
      "                 'loss': 'torch.nn.MSELoss',\n",
      "                 'opt': 'torch.optim.Adam',\n",
      "                 'scheduler': 'torch.optim.lr_scheduler.OneCycleLR',\n",
      "                 'unfrozen_lr': 0.0001},\n",
      " 'run_directory': '/home/estorrs/violet/sandbox/runs/ccrcc_ffpe_tcia_normalized_xcit_p8_v2',\n",
      " 'vit': {'embed_dim': 384,\n",
      "         'img_size': (224, 224),\n",
      "         'model_name': 'xcit_small',\n",
      "         'patch_size': 8,\n",
      "         'pretrained_weights': '/home/estorrs/violet/sandbox/dino_runs/ccrcc_ffpe_tcia_normalized_xcit_p8_v2/checkpoint0000.pth',\n",
      "         'total_patches': 784}}\n"
     ]
    }
   ],
   "source": [
    "learner = load_st_learner(img_dir, weights, adata_map, run_dir, \n",
    "                          model_name='xcit_small', patch_size=8,\n",
    "                          val_samples=val_samples, targets=markers,\n",
    "                          frozen_lr=1e-3, unfrozen_lr=1e-4, batch_size=16)"
   ]
  },
  {
   "cell_type": "code",
   "execution_count": null,
   "id": "e2b1be29",
   "metadata": {},
   "outputs": [],
   "source": []
  },
  {
   "cell_type": "code",
   "execution_count": null,
   "id": "16099f3b",
   "metadata": {},
   "outputs": [],
   "source": [
    "import torch.distributed as dist\n",
    "dist.init_process_group('gloo', init_method='file:///tmp/somefile', rank=0, world_size=1)"
   ]
  },
  {
   "cell_type": "code",
   "execution_count": null,
   "id": "4459b47a",
   "metadata": {},
   "outputs": [],
   "source": [
    "run_st_learner(learner, 20, 10, save_every=1, )"
   ]
  },
  {
   "cell_type": "code",
   "execution_count": 17,
   "id": "ee93d6ff",
   "metadata": {},
   "outputs": [
    {
     "data": {
      "text/plain": [
       "{'run_directory': '/home/estorrs/violet/sandbox/runs/ccrcc_ffpe_tcia_normalized_xcit_p8_v2',\n",
       " 'dataset': {'image_directory': '/home/estorrs/violet/data/st/ccrcc_ffpe_08032021_normalized',\n",
       "  'targets': ['BGN',\n",
       "   'CA9',\n",
       "   'CD14',\n",
       "   'CD3E',\n",
       "   'CD3G',\n",
       "   'CD4',\n",
       "   'CD68',\n",
       "   'CD8A',\n",
       "   'CDH1',\n",
       "   'CDH5',\n",
       "   'CPA3',\n",
       "   'CTLA4',\n",
       "   'EPCAM',\n",
       "   'FAP',\n",
       "   'FCER1A',\n",
       "   'FOXP3',\n",
       "   'GNLY',\n",
       "   'HAVCR2',\n",
       "   'HBA1',\n",
       "   'IL7R',\n",
       "   'KIT',\n",
       "   'KRT18',\n",
       "   'LAG3',\n",
       "   'LYZ',\n",
       "   'MKI67',\n",
       "   'MS4A1',\n",
       "   'MUC5AC',\n",
       "   'NKG7',\n",
       "   'PDCD1',\n",
       "   'PECAM1',\n",
       "   'PRSS1',\n",
       "   'PTPRC',\n",
       "   'RGS5',\n",
       "   'SDC1',\n",
       "   'SPARC',\n",
       "   'TIGIT',\n",
       "   'TOP2A'],\n",
       "  'resolution': 55.0,\n",
       "  'min_counts': 2500,\n",
       "  'train_dataset': {'samples': ['HT293N1_S1H3Fs1U1'], 'num_spots': 2476},\n",
       "  'val_dataset': {'samples': ['HT282N1_S1H3Fs4U1'], 'num_spots': 3624}},\n",
       " 'vit': {'pretrained_weights': '/home/estorrs/violet/sandbox/dino_runs/ccrcc_ffpe_tcia_normalized_xcit_p8_v2/checkpoint0000.pth',\n",
       "  'patch_size': 8,\n",
       "  'img_size': (224, 224),\n",
       "  'total_patches': 784,\n",
       "  'embed_dim': 384,\n",
       "  'model_name': 'xcit_small'},\n",
       " 'head': {'type': 'linear'},\n",
       " 'hyperparams': {'batch_size': 16,\n",
       "  'loss': 'torch.nn.MSELoss',\n",
       "  'frozen_lr': 0.001,\n",
       "  'unfrozen_lr': 0.0001,\n",
       "  'scheduler': 'torch.optim.lr_scheduler.OneCycleLR',\n",
       "  'opt': 'torch.optim.Adam',\n",
       "  'gpu': True},\n",
       " 'training': {'1.finetune_frozen_vit': {1: {'train_loss': 0.18390211462974548,\n",
       "    'val_loss': 0.05617290735244751,\n",
       "    'time_elapsed': 15.896490573883057},\n",
       "   2: {'train_loss': 0.0535333976149559,\n",
       "    'val_loss': 0.04954644665122032,\n",
       "    'time_elapsed': 15.771880626678467}},\n",
       "  '2.finetune_unfrozen_vit': {1: {'train_loss': 0.035072214901447296,\n",
       "    'val_loss': 0.0426483154296875,\n",
       "    'time_elapsed': 56.56294560432434},\n",
       "   2: {'train_loss': 0.03133022040128708,\n",
       "    'val_loss': 0.04299189895391464,\n",
       "    'time_elapsed': 56.22099041938782}},\n",
       "  'time_elapsed': 238.51061916351318}}"
      ]
     },
     "execution_count": 17,
     "metadata": {},
     "output_type": "execute_result"
    }
   ],
   "source": [
    "learner.summary"
   ]
  },
  {
   "cell_type": "markdown",
   "id": "dd1d16a4",
   "metadata": {
    "heading_collapsed": true
   },
   "source": [
    "###### with alternate model"
   ]
  },
  {
   "cell_type": "code",
   "execution_count": 17,
   "id": "38e05758",
   "metadata": {
    "hidden": true
   },
   "outputs": [],
   "source": [
    "img_dir = '/home/estorrs/spatial-analysis/data/breast/model_inputs_06092021/he_imgs_v2'\n",
    "weights = '/home/estorrs/dino/outputs/test_run_5_brca_good_only/checkpoint0480.pth'\n",
    "run_dir = '/home/estorrs/violet/sandbox/runs/test_run_renet50'"
   ]
  },
  {
   "cell_type": "code",
   "execution_count": 34,
   "id": "2f9df2ea",
   "metadata": {
    "hidden": true
   },
   "outputs": [
    {
     "name": "stderr",
     "output_type": "stream",
     "text": [
      "Variable names are not unique. To make them unique, call `.var_names_make_unique`.\n",
      "Variable names are not unique. To make them unique, call `.var_names_make_unique`.\n",
      "Variable names are not unique. To make them unique, call `.var_names_make_unique`.\n",
      "Variable names are not unique. To make them unique, call `.var_names_make_unique`.\n"
     ]
    },
    {
     "name": "stdout",
     "output_type": "stream",
     "text": [
      "ST Learner summary:\n",
      "{'convnet': {'embed_dim': 1000,\n",
      "             'imagenet_pretrained': True,\n",
      "             'model_name': 'resnet50'},\n",
      " 'dataset': {'image_directory': '/home/estorrs/spatial-analysis/data/breast/model_inputs_06092021/he_imgs_v2',\n",
      "             'min_counts': 2500,\n",
      "             'resolution': 55.0,\n",
      "             'targets': ['ESR1',\n",
      "                         'PGR',\n",
      "                         'ERBB2',\n",
      "                         'MKI67',\n",
      "                         'TOP2A',\n",
      "                         'CD3G',\n",
      "                         'CD4',\n",
      "                         'CD8A',\n",
      "                         'KIT',\n",
      "                         'EPCAM',\n",
      "                         'CDH1',\n",
      "                         'BGN',\n",
      "                         'FAP',\n",
      "                         'SPARC',\n",
      "                         'ITGAX',\n",
      "                         'LYZ',\n",
      "                         'CD68',\n",
      "                         'CD14',\n",
      "                         'SDC1',\n",
      "                         'PECAM1',\n",
      "                         'IL7R'],\n",
      "             'train_dataset': {'num_spots': 4258, 'samples': ['HT206B1_H8_U3']},\n",
      "             'val_dataset': {'num_spots': 3859, 'samples': ['HT206B1_H8_U2']}},\n",
      " 'head': {'type': 'linear'},\n",
      " 'hyperparams': {'batch_size': 64,\n",
      "                 'gpu': True,\n",
      "                 'loss': 'torch.nn.MSELoss',\n",
      "                 'max_lr': 0.0001,\n",
      "                 'opt': 'torch.optim.Adam',\n",
      "                 'scheduler': 'torch.optim.lr_scheduler.OneCycleLR'},\n",
      " 'run_directory': '/home/estorrs/violet/sandbox/runs/test_run_renet50'}\n"
     ]
    }
   ],
   "source": [
    "learner = load_imagenet_st_learner(img_dir, weights, adata_map, run_dir, \n",
    "    val_samples=val_samples, targets=markers, model_name='resnet50')"
   ]
  },
  {
   "cell_type": "code",
   "execution_count": 35,
   "id": "2b883c64",
   "metadata": {
    "hidden": true
   },
   "outputs": [
    {
     "name": "stdout",
     "output_type": "stream",
     "text": [
      "Training frozen vit for 2 epochs\n",
      "epoch: 0, train loss: 1.567744493484497, val loss: 1.6477304697036743\n",
      "epoch: 1, train loss: 1.393233060836792, val loss: 1.477431058883667\n",
      "Saved checkpoint at /home/estorrs/violet/sandbox/runs/test_run_renet50/checkpoints/1.finetune_frozen_vit.pth\n",
      "Unfreezing weights\n",
      "Training unfrozen vit for 3 epochs\n",
      "epoch: 0, train loss: 0.7829263806343079, val loss: 0.5886406302452087\n",
      "epoch: 1, train loss: 0.4148525297641754, val loss: 0.4237063527107239\n",
      "epoch: 2, train loss: 0.30059632658958435, val loss: 0.33077406883239746\n",
      "Saved final checkpoint at /home/estorrs/violet/sandbox/runs/test_run_renet50/checkpoints/final.pth\n",
      "Saved summary at /home/estorrs/violet/sandbox/runs/test_run_renet50/summary.json\n"
     ]
    }
   ],
   "source": [
    "run_st_learner(learner, 2, 3)"
   ]
  },
  {
   "cell_type": "code",
   "execution_count": null,
   "id": "1d65cb32",
   "metadata": {
    "hidden": true
   },
   "outputs": [],
   "source": []
  },
  {
   "cell_type": "code",
   "execution_count": null,
   "id": "25de460b",
   "metadata": {
    "hidden": true
   },
   "outputs": [],
   "source": []
  },
  {
   "cell_type": "code",
   "execution_count": 8,
   "id": "0bd3e90b",
   "metadata": {
    "hidden": true
   },
   "outputs": [
    {
     "data": {
      "text/plain": [
       "25557032"
      ]
     },
     "execution_count": 8,
     "metadata": {},
     "output_type": "execute_result"
    }
   ],
   "source": [
    "sum(p.numel() for p in m.parameters())"
   ]
  },
  {
   "cell_type": "markdown",
   "id": "9f010072",
   "metadata": {
    "heading_collapsed": true
   },
   "source": [
    "###### sandbox"
   ]
  },
  {
   "cell_type": "code",
   "execution_count": 52,
   "id": "23076ce0",
   "metadata": {
    "hidden": true
   },
   "outputs": [],
   "source": [
    "def process_adata(sid, fp, n_top=200, count_filter=2500):\n",
    "    a = sc.read_visium(fp)\n",
    "    a.var_names_make_unique()\n",
    "    a.var[\"mt\"] = a.var_names.str.startswith(\"MT-\")\n",
    "    sc.pp.calculate_qc_metrics(a, qc_vars=[\"mt\"], inplace=True)\n",
    "    sc.pp.filter_cells(a, min_counts=count_filter)\n",
    "    a.obs.index = [f'{sid}_{x}' for x in a.obs.index]\n",
    "    sc.pp.normalize_total(a, inplace=True)\n",
    "    sc.pp.log1p(a)\n",
    "    sc.pp.highly_variable_genes(a, flavor=\"seurat\", n_top_genes=200)\n",
    "    \n",
    "    f = a[:, markers]\n",
    "    \n",
    "    df = pd.DataFrame(f.X.toarray(), columns=f.var.index, index=f.obs.index)\n",
    "    \n",
    "    return df"
   ]
  },
  {
   "cell_type": "code",
   "execution_count": 53,
   "id": "a37d8faa",
   "metadata": {
    "hidden": true
   },
   "outputs": [
    {
     "data": {
      "text/html": [
       "<div>\n",
       "<style scoped>\n",
       "    .dataframe tbody tr th:only-of-type {\n",
       "        vertical-align: middle;\n",
       "    }\n",
       "\n",
       "    .dataframe tbody tr th {\n",
       "        vertical-align: top;\n",
       "    }\n",
       "\n",
       "    .dataframe thead th {\n",
       "        text-align: right;\n",
       "    }\n",
       "</style>\n",
       "<table border=\"1\" class=\"dataframe\">\n",
       "  <thead>\n",
       "    <tr style=\"text-align: right;\">\n",
       "      <th></th>\n",
       "      <th>spaceranger_output</th>\n",
       "      <th>highres_image</th>\n",
       "      <th>disease</th>\n",
       "    </tr>\n",
       "    <tr>\n",
       "      <th>sample_id</th>\n",
       "      <th></th>\n",
       "      <th></th>\n",
       "      <th></th>\n",
       "    </tr>\n",
       "  </thead>\n",
       "  <tbody>\n",
       "    <tr>\n",
       "      <th>HT206B1_H8_U2</th>\n",
       "      <td>/data/spatial_transcriptomics/spaceranger_outp...</td>\n",
       "      <td>/data/spatial_transcriptomics/highres_images/b...</td>\n",
       "      <td>brca</td>\n",
       "    </tr>\n",
       "    <tr>\n",
       "      <th>HT206B1_H8_U3</th>\n",
       "      <td>/data/spatial_transcriptomics/spaceranger_outp...</td>\n",
       "      <td>/data/spatial_transcriptomics/highres_images/b...</td>\n",
       "      <td>brca</td>\n",
       "    </tr>\n",
       "    <tr>\n",
       "      <th>HT206B1_H8_U4</th>\n",
       "      <td>/data/spatial_transcriptomics/spaceranger_outp...</td>\n",
       "      <td>/data/spatial_transcriptomics/highres_images/b...</td>\n",
       "      <td>brca</td>\n",
       "    </tr>\n",
       "    <tr>\n",
       "      <th>HT206B1_H8_U5</th>\n",
       "      <td>/data/spatial_transcriptomics/spaceranger_outp...</td>\n",
       "      <td>/data/spatial_transcriptomics/highres_images/b...</td>\n",
       "      <td>brca</td>\n",
       "    </tr>\n",
       "    <tr>\n",
       "      <th>HT206B1_H8_Bn</th>\n",
       "      <td>/data/spatial_transcriptomics/spaceranger_outp...</td>\n",
       "      <td>NaN</td>\n",
       "      <td>brca</td>\n",
       "    </tr>\n",
       "    <tr>\n",
       "      <th>...</th>\n",
       "      <td>...</td>\n",
       "      <td>...</td>\n",
       "      <td>...</td>\n",
       "    </tr>\n",
       "    <tr>\n",
       "      <th>NMK_20201012</th>\n",
       "      <td>/data/spatial_transcriptomics/spaceranger_outp...</td>\n",
       "      <td>/data/spatial_transcriptomics/highres_images/m...</td>\n",
       "      <td>mouse_kidney</td>\n",
       "    </tr>\n",
       "    <tr>\n",
       "      <th>AKICL_14w</th>\n",
       "      <td>/data/spatial_transcriptomics/spaceranger_outp...</td>\n",
       "      <td>/data/spatial_transcriptomics/highres_images/m...</td>\n",
       "      <td>mouse_kidney</td>\n",
       "    </tr>\n",
       "    <tr>\n",
       "      <th>AKI_M_14w</th>\n",
       "      <td>/data/spatial_transcriptomics/spaceranger_outp...</td>\n",
       "      <td>/data/spatial_transcriptomics/highres_images/m...</td>\n",
       "      <td>mouse_kidney</td>\n",
       "    </tr>\n",
       "    <tr>\n",
       "      <th>SP1896H1_U1</th>\n",
       "      <td>/data/spatial_transcriptomics/spaceranger_outp...</td>\n",
       "      <td>/data/spatial_transcriptomics/highres_images/i...</td>\n",
       "      <td>normal_stomach</td>\n",
       "    </tr>\n",
       "    <tr>\n",
       "      <th>HT291C1_U1</th>\n",
       "      <td>/data/spatial_transcriptomics/spaceranger_outp...</td>\n",
       "      <td>/data/spatial_transcriptomics/highres_images/i...</td>\n",
       "      <td>normal_liver</td>\n",
       "    </tr>\n",
       "  </tbody>\n",
       "</table>\n",
       "<p>90 rows × 3 columns</p>\n",
       "</div>"
      ],
      "text/plain": [
       "                                              spaceranger_output  \\\n",
       "sample_id                                                          \n",
       "HT206B1_H8_U2  /data/spatial_transcriptomics/spaceranger_outp...   \n",
       "HT206B1_H8_U3  /data/spatial_transcriptomics/spaceranger_outp...   \n",
       "HT206B1_H8_U4  /data/spatial_transcriptomics/spaceranger_outp...   \n",
       "HT206B1_H8_U5  /data/spatial_transcriptomics/spaceranger_outp...   \n",
       "HT206B1_H8_Bn  /data/spatial_transcriptomics/spaceranger_outp...   \n",
       "...                                                          ...   \n",
       "NMK_20201012   /data/spatial_transcriptomics/spaceranger_outp...   \n",
       "AKICL_14w      /data/spatial_transcriptomics/spaceranger_outp...   \n",
       "AKI_M_14w      /data/spatial_transcriptomics/spaceranger_outp...   \n",
       "SP1896H1_U1    /data/spatial_transcriptomics/spaceranger_outp...   \n",
       "HT291C1_U1     /data/spatial_transcriptomics/spaceranger_outp...   \n",
       "\n",
       "                                                   highres_image  \\\n",
       "sample_id                                                          \n",
       "HT206B1_H8_U2  /data/spatial_transcriptomics/highres_images/b...   \n",
       "HT206B1_H8_U3  /data/spatial_transcriptomics/highres_images/b...   \n",
       "HT206B1_H8_U4  /data/spatial_transcriptomics/highres_images/b...   \n",
       "HT206B1_H8_U5  /data/spatial_transcriptomics/highres_images/b...   \n",
       "HT206B1_H8_Bn                                                NaN   \n",
       "...                                                          ...   \n",
       "NMK_20201012   /data/spatial_transcriptomics/highres_images/m...   \n",
       "AKICL_14w      /data/spatial_transcriptomics/highres_images/m...   \n",
       "AKI_M_14w      /data/spatial_transcriptomics/highres_images/m...   \n",
       "SP1896H1_U1    /data/spatial_transcriptomics/highres_images/i...   \n",
       "HT291C1_U1     /data/spatial_transcriptomics/highres_images/i...   \n",
       "\n",
       "                      disease  \n",
       "sample_id                      \n",
       "HT206B1_H8_U2            brca  \n",
       "HT206B1_H8_U3            brca  \n",
       "HT206B1_H8_U4            brca  \n",
       "HT206B1_H8_U5            brca  \n",
       "HT206B1_H8_Bn            brca  \n",
       "...                       ...  \n",
       "NMK_20201012     mouse_kidney  \n",
       "AKICL_14w        mouse_kidney  \n",
       "AKI_M_14w        mouse_kidney  \n",
       "SP1896H1_U1    normal_stomach  \n",
       "HT291C1_U1       normal_liver  \n",
       "\n",
       "[90 rows x 3 columns]"
      ]
     },
     "execution_count": 53,
     "metadata": {},
     "output_type": "execute_result"
    }
   ],
   "source": [
    "fmap = pd.read_csv('/home/estorrs/spatial-analysis/data/sample_map.txt', sep='\\t', index_col=0)\n",
    "fmap"
   ]
  },
  {
   "cell_type": "code",
   "execution_count": 55,
   "id": "d95278f4",
   "metadata": {
    "hidden": true,
    "scrolled": true
   },
   "outputs": [
    {
     "name": "stderr",
     "output_type": "stream",
     "text": [
      "Variable names are not unique. To make them unique, call `.var_names_make_unique`.\n",
      "Variable names are not unique. To make them unique, call `.var_names_make_unique`.\n",
      "Variable names are not unique. To make them unique, call `.var_names_make_unique`.\n",
      "Variable names are not unique. To make them unique, call `.var_names_make_unique`.\n",
      "Variable names are not unique. To make them unique, call `.var_names_make_unique`.\n",
      "Variable names are not unique. To make them unique, call `.var_names_make_unique`.\n",
      "Variable names are not unique. To make them unique, call `.var_names_make_unique`.\n",
      "Variable names are not unique. To make them unique, call `.var_names_make_unique`.\n",
      "Variable names are not unique. To make them unique, call `.var_names_make_unique`.\n",
      "Variable names are not unique. To make them unique, call `.var_names_make_unique`.\n",
      "Variable names are not unique. To make them unique, call `.var_names_make_unique`.\n",
      "Variable names are not unique. To make them unique, call `.var_names_make_unique`.\n",
      "Variable names are not unique. To make them unique, call `.var_names_make_unique`.\n",
      "Variable names are not unique. To make them unique, call `.var_names_make_unique`.\n",
      "Variable names are not unique. To make them unique, call `.var_names_make_unique`.\n",
      "Variable names are not unique. To make them unique, call `.var_names_make_unique`.\n",
      "Variable names are not unique. To make them unique, call `.var_names_make_unique`.\n",
      "Variable names are not unique. To make them unique, call `.var_names_make_unique`.\n",
      "Variable names are not unique. To make them unique, call `.var_names_make_unique`.\n",
      "Variable names are not unique. To make them unique, call `.var_names_make_unique`.\n",
      "Variable names are not unique. To make them unique, call `.var_names_make_unique`.\n",
      "Variable names are not unique. To make them unique, call `.var_names_make_unique`.\n",
      "Variable names are not unique. To make them unique, call `.var_names_make_unique`.\n",
      "Variable names are not unique. To make them unique, call `.var_names_make_unique`.\n",
      "Variable names are not unique. To make them unique, call `.var_names_make_unique`.\n",
      "Variable names are not unique. To make them unique, call `.var_names_make_unique`.\n",
      "Variable names are not unique. To make them unique, call `.var_names_make_unique`.\n",
      "Variable names are not unique. To make them unique, call `.var_names_make_unique`.\n",
      "Variable names are not unique. To make them unique, call `.var_names_make_unique`.\n",
      "Variable names are not unique. To make them unique, call `.var_names_make_unique`.\n",
      "Variable names are not unique. To make them unique, call `.var_names_make_unique`.\n",
      "Variable names are not unique. To make them unique, call `.var_names_make_unique`.\n",
      "Variable names are not unique. To make them unique, call `.var_names_make_unique`.\n",
      "Variable names are not unique. To make them unique, call `.var_names_make_unique`.\n",
      "Variable names are not unique. To make them unique, call `.var_names_make_unique`.\n",
      "Variable names are not unique. To make them unique, call `.var_names_make_unique`.\n",
      "Variable names are not unique. To make them unique, call `.var_names_make_unique`.\n",
      "Variable names are not unique. To make them unique, call `.var_names_make_unique`.\n",
      "Variable names are not unique. To make them unique, call `.var_names_make_unique`.\n",
      "Variable names are not unique. To make them unique, call `.var_names_make_unique`.\n",
      "Variable names are not unique. To make them unique, call `.var_names_make_unique`.\n",
      "Variable names are not unique. To make them unique, call `.var_names_make_unique`.\n",
      "Variable names are not unique. To make them unique, call `.var_names_make_unique`.\n",
      "Variable names are not unique. To make them unique, call `.var_names_make_unique`.\n",
      "Variable names are not unique. To make them unique, call `.var_names_make_unique`.\n",
      "Variable names are not unique. To make them unique, call `.var_names_make_unique`.\n",
      "Variable names are not unique. To make them unique, call `.var_names_make_unique`.\n",
      "Variable names are not unique. To make them unique, call `.var_names_make_unique`.\n",
      "Variable names are not unique. To make them unique, call `.var_names_make_unique`.\n",
      "Variable names are not unique. To make them unique, call `.var_names_make_unique`.\n"
     ]
    },
    {
     "data": {
      "text/html": [
       "<div>\n",
       "<style scoped>\n",
       "    .dataframe tbody tr th:only-of-type {\n",
       "        vertical-align: middle;\n",
       "    }\n",
       "\n",
       "    .dataframe tbody tr th {\n",
       "        vertical-align: top;\n",
       "    }\n",
       "\n",
       "    .dataframe thead th {\n",
       "        text-align: right;\n",
       "    }\n",
       "</style>\n",
       "<table border=\"1\" class=\"dataframe\">\n",
       "  <thead>\n",
       "    <tr style=\"text-align: right;\">\n",
       "      <th></th>\n",
       "      <th>ESR1</th>\n",
       "      <th>PGR</th>\n",
       "      <th>ERBB2</th>\n",
       "      <th>MKI67</th>\n",
       "      <th>TOP2A</th>\n",
       "      <th>CD3G</th>\n",
       "      <th>CD4</th>\n",
       "      <th>CD8A</th>\n",
       "      <th>KIT</th>\n",
       "      <th>EPCAM</th>\n",
       "      <th>...</th>\n",
       "      <th>BGN</th>\n",
       "      <th>FAP</th>\n",
       "      <th>SPARC</th>\n",
       "      <th>ITGAX</th>\n",
       "      <th>LYZ</th>\n",
       "      <th>CD68</th>\n",
       "      <th>CD14</th>\n",
       "      <th>SDC1</th>\n",
       "      <th>PECAM1</th>\n",
       "      <th>IL7R</th>\n",
       "    </tr>\n",
       "  </thead>\n",
       "  <tbody>\n",
       "    <tr>\n",
       "      <th>HT206B1_H8_U2_AAACAACGAATAGTTC-1</th>\n",
       "      <td>0.528794</td>\n",
       "      <td>0.0</td>\n",
       "      <td>0.000000</td>\n",
       "      <td>0.000000</td>\n",
       "      <td>0.528794</td>\n",
       "      <td>0.000000</td>\n",
       "      <td>0.528794</td>\n",
       "      <td>0.00000</td>\n",
       "      <td>0.000000</td>\n",
       "      <td>1.128382</td>\n",
       "      <td>...</td>\n",
       "      <td>2.308517</td>\n",
       "      <td>0.000000</td>\n",
       "      <td>2.703887</td>\n",
       "      <td>0.528794</td>\n",
       "      <td>0.528794</td>\n",
       "      <td>1.128382</td>\n",
       "      <td>0.872869</td>\n",
       "      <td>0.872869</td>\n",
       "      <td>2.075539</td>\n",
       "      <td>0.000000</td>\n",
       "    </tr>\n",
       "    <tr>\n",
       "      <th>HT206B1_H8_U2_AAACAAGTATCTCCCA-1</th>\n",
       "      <td>0.000000</td>\n",
       "      <td>0.0</td>\n",
       "      <td>0.699764</td>\n",
       "      <td>0.000000</td>\n",
       "      <td>0.699764</td>\n",
       "      <td>0.000000</td>\n",
       "      <td>1.107425</td>\n",
       "      <td>0.00000</td>\n",
       "      <td>0.699764</td>\n",
       "      <td>0.699764</td>\n",
       "      <td>...</td>\n",
       "      <td>2.577131</td>\n",
       "      <td>0.000000</td>\n",
       "      <td>1.620004</td>\n",
       "      <td>0.000000</td>\n",
       "      <td>0.699764</td>\n",
       "      <td>1.107425</td>\n",
       "      <td>1.396203</td>\n",
       "      <td>1.620004</td>\n",
       "      <td>0.000000</td>\n",
       "      <td>0.000000</td>\n",
       "    </tr>\n",
       "    <tr>\n",
       "      <th>HT206B1_H8_U2_AAACAATCTACTAGCA-1</th>\n",
       "      <td>0.000000</td>\n",
       "      <td>0.0</td>\n",
       "      <td>0.000000</td>\n",
       "      <td>0.531650</td>\n",
       "      <td>0.531650</td>\n",
       "      <td>0.000000</td>\n",
       "      <td>1.133083</td>\n",
       "      <td>0.53165</td>\n",
       "      <td>0.000000</td>\n",
       "      <td>0.531650</td>\n",
       "      <td>...</td>\n",
       "      <td>2.081613</td>\n",
       "      <td>0.000000</td>\n",
       "      <td>2.081613</td>\n",
       "      <td>0.000000</td>\n",
       "      <td>0.876917</td>\n",
       "      <td>1.336830</td>\n",
       "      <td>1.506007</td>\n",
       "      <td>0.531650</td>\n",
       "      <td>1.133083</td>\n",
       "      <td>0.531650</td>\n",
       "    </tr>\n",
       "    <tr>\n",
       "      <th>HT206B1_H8_U2_AAACAGAGCGACTCCT-1</th>\n",
       "      <td>0.000000</td>\n",
       "      <td>0.0</td>\n",
       "      <td>0.422854</td>\n",
       "      <td>0.000000</td>\n",
       "      <td>0.422854</td>\n",
       "      <td>0.000000</td>\n",
       "      <td>0.719118</td>\n",
       "      <td>0.00000</td>\n",
       "      <td>0.000000</td>\n",
       "      <td>0.422854</td>\n",
       "      <td>...</td>\n",
       "      <td>2.397888</td>\n",
       "      <td>0.422854</td>\n",
       "      <td>1.834677</td>\n",
       "      <td>0.000000</td>\n",
       "      <td>1.544191</td>\n",
       "      <td>1.425003</td>\n",
       "      <td>0.422854</td>\n",
       "      <td>0.422854</td>\n",
       "      <td>1.289662</td>\n",
       "      <td>0.719118</td>\n",
       "    </tr>\n",
       "    <tr>\n",
       "      <th>HT206B1_H8_U2_AAACAGGGTCTATATT-1</th>\n",
       "      <td>0.000000</td>\n",
       "      <td>0.0</td>\n",
       "      <td>1.030038</td>\n",
       "      <td>1.030038</td>\n",
       "      <td>0.000000</td>\n",
       "      <td>0.000000</td>\n",
       "      <td>0.000000</td>\n",
       "      <td>0.00000</td>\n",
       "      <td>0.000000</td>\n",
       "      <td>1.526566</td>\n",
       "      <td>...</td>\n",
       "      <td>1.030038</td>\n",
       "      <td>0.000000</td>\n",
       "      <td>0.000000</td>\n",
       "      <td>1.030038</td>\n",
       "      <td>1.030038</td>\n",
       "      <td>1.030038</td>\n",
       "      <td>1.526566</td>\n",
       "      <td>1.526566</td>\n",
       "      <td>0.000000</td>\n",
       "      <td>1.030038</td>\n",
       "    </tr>\n",
       "    <tr>\n",
       "      <th>...</th>\n",
       "      <td>...</td>\n",
       "      <td>...</td>\n",
       "      <td>...</td>\n",
       "      <td>...</td>\n",
       "      <td>...</td>\n",
       "      <td>...</td>\n",
       "      <td>...</td>\n",
       "      <td>...</td>\n",
       "      <td>...</td>\n",
       "      <td>...</td>\n",
       "      <td>...</td>\n",
       "      <td>...</td>\n",
       "      <td>...</td>\n",
       "      <td>...</td>\n",
       "      <td>...</td>\n",
       "      <td>...</td>\n",
       "      <td>...</td>\n",
       "      <td>...</td>\n",
       "      <td>...</td>\n",
       "      <td>...</td>\n",
       "      <td>...</td>\n",
       "    </tr>\n",
       "    <tr>\n",
       "      <th>HT268B1Th1_H3U1_TTGTTGTGTGTCAAGA-1</th>\n",
       "      <td>0.000000</td>\n",
       "      <td>0.0</td>\n",
       "      <td>0.286372</td>\n",
       "      <td>0.508728</td>\n",
       "      <td>0.977550</td>\n",
       "      <td>0.000000</td>\n",
       "      <td>0.000000</td>\n",
       "      <td>0.00000</td>\n",
       "      <td>0.000000</td>\n",
       "      <td>1.295467</td>\n",
       "      <td>...</td>\n",
       "      <td>0.286372</td>\n",
       "      <td>0.000000</td>\n",
       "      <td>1.295467</td>\n",
       "      <td>0.000000</td>\n",
       "      <td>0.000000</td>\n",
       "      <td>0.508728</td>\n",
       "      <td>0.286372</td>\n",
       "      <td>0.000000</td>\n",
       "      <td>0.508728</td>\n",
       "      <td>0.000000</td>\n",
       "    </tr>\n",
       "    <tr>\n",
       "      <th>HT268B1Th1_H3U1_TTGTTTCACATCCAGG-1</th>\n",
       "      <td>0.000000</td>\n",
       "      <td>0.0</td>\n",
       "      <td>0.594420</td>\n",
       "      <td>0.000000</td>\n",
       "      <td>0.000000</td>\n",
       "      <td>0.000000</td>\n",
       "      <td>0.000000</td>\n",
       "      <td>0.00000</td>\n",
       "      <td>0.000000</td>\n",
       "      <td>0.594420</td>\n",
       "      <td>...</td>\n",
       "      <td>1.899695</td>\n",
       "      <td>0.340741</td>\n",
       "      <td>2.210447</td>\n",
       "      <td>0.000000</td>\n",
       "      <td>0.340741</td>\n",
       "      <td>0.000000</td>\n",
       "      <td>0.340741</td>\n",
       "      <td>0.340741</td>\n",
       "      <td>0.796592</td>\n",
       "      <td>0.000000</td>\n",
       "    </tr>\n",
       "    <tr>\n",
       "      <th>HT268B1Th1_H3U1_TTGTTTCATTAGTCTA-1</th>\n",
       "      <td>0.000000</td>\n",
       "      <td>0.0</td>\n",
       "      <td>0.000000</td>\n",
       "      <td>0.313226</td>\n",
       "      <td>0.904754</td>\n",
       "      <td>0.000000</td>\n",
       "      <td>0.000000</td>\n",
       "      <td>0.00000</td>\n",
       "      <td>0.000000</td>\n",
       "      <td>1.165332</td>\n",
       "      <td>...</td>\n",
       "      <td>1.165332</td>\n",
       "      <td>0.000000</td>\n",
       "      <td>1.371853</td>\n",
       "      <td>0.000000</td>\n",
       "      <td>0.904754</td>\n",
       "      <td>0.000000</td>\n",
       "      <td>0.000000</td>\n",
       "      <td>0.000000</td>\n",
       "      <td>0.000000</td>\n",
       "      <td>0.000000</td>\n",
       "    </tr>\n",
       "    <tr>\n",
       "      <th>HT268B1Th1_H3U1_TTGTTTCCATACAACT-1</th>\n",
       "      <td>0.000000</td>\n",
       "      <td>0.0</td>\n",
       "      <td>0.573092</td>\n",
       "      <td>0.573092</td>\n",
       "      <td>0.000000</td>\n",
       "      <td>0.573092</td>\n",
       "      <td>0.935106</td>\n",
       "      <td>0.00000</td>\n",
       "      <td>0.000000</td>\n",
       "      <td>0.935106</td>\n",
       "      <td>...</td>\n",
       "      <td>2.167615</td>\n",
       "      <td>0.573092</td>\n",
       "      <td>3.086077</td>\n",
       "      <td>0.000000</td>\n",
       "      <td>2.593752</td>\n",
       "      <td>0.935106</td>\n",
       "      <td>1.409759</td>\n",
       "      <td>0.573092</td>\n",
       "      <td>0.573092</td>\n",
       "      <td>0.573092</td>\n",
       "    </tr>\n",
       "    <tr>\n",
       "      <th>HT268B1Th1_H3U1_TTGTTTGTGTAAATTC-1</th>\n",
       "      <td>0.000000</td>\n",
       "      <td>0.0</td>\n",
       "      <td>0.000000</td>\n",
       "      <td>0.000000</td>\n",
       "      <td>0.000000</td>\n",
       "      <td>0.000000</td>\n",
       "      <td>0.000000</td>\n",
       "      <td>0.00000</td>\n",
       "      <td>0.000000</td>\n",
       "      <td>2.340333</td>\n",
       "      <td>...</td>\n",
       "      <td>1.891728</td>\n",
       "      <td>0.000000</td>\n",
       "      <td>1.891728</td>\n",
       "      <td>0.000000</td>\n",
       "      <td>1.056727</td>\n",
       "      <td>0.000000</td>\n",
       "      <td>0.000000</td>\n",
       "      <td>1.056727</td>\n",
       "      <td>1.056727</td>\n",
       "      <td>0.000000</td>\n",
       "    </tr>\n",
       "  </tbody>\n",
       "</table>\n",
       "<p>79204 rows × 21 columns</p>\n",
       "</div>"
      ],
      "text/plain": [
       "                                        ESR1  PGR     ERBB2     MKI67  \\\n",
       "HT206B1_H8_U2_AAACAACGAATAGTTC-1    0.528794  0.0  0.000000  0.000000   \n",
       "HT206B1_H8_U2_AAACAAGTATCTCCCA-1    0.000000  0.0  0.699764  0.000000   \n",
       "HT206B1_H8_U2_AAACAATCTACTAGCA-1    0.000000  0.0  0.000000  0.531650   \n",
       "HT206B1_H8_U2_AAACAGAGCGACTCCT-1    0.000000  0.0  0.422854  0.000000   \n",
       "HT206B1_H8_U2_AAACAGGGTCTATATT-1    0.000000  0.0  1.030038  1.030038   \n",
       "...                                      ...  ...       ...       ...   \n",
       "HT268B1Th1_H3U1_TTGTTGTGTGTCAAGA-1  0.000000  0.0  0.286372  0.508728   \n",
       "HT268B1Th1_H3U1_TTGTTTCACATCCAGG-1  0.000000  0.0  0.594420  0.000000   \n",
       "HT268B1Th1_H3U1_TTGTTTCATTAGTCTA-1  0.000000  0.0  0.000000  0.313226   \n",
       "HT268B1Th1_H3U1_TTGTTTCCATACAACT-1  0.000000  0.0  0.573092  0.573092   \n",
       "HT268B1Th1_H3U1_TTGTTTGTGTAAATTC-1  0.000000  0.0  0.000000  0.000000   \n",
       "\n",
       "                                       TOP2A      CD3G       CD4     CD8A  \\\n",
       "HT206B1_H8_U2_AAACAACGAATAGTTC-1    0.528794  0.000000  0.528794  0.00000   \n",
       "HT206B1_H8_U2_AAACAAGTATCTCCCA-1    0.699764  0.000000  1.107425  0.00000   \n",
       "HT206B1_H8_U2_AAACAATCTACTAGCA-1    0.531650  0.000000  1.133083  0.53165   \n",
       "HT206B1_H8_U2_AAACAGAGCGACTCCT-1    0.422854  0.000000  0.719118  0.00000   \n",
       "HT206B1_H8_U2_AAACAGGGTCTATATT-1    0.000000  0.000000  0.000000  0.00000   \n",
       "...                                      ...       ...       ...      ...   \n",
       "HT268B1Th1_H3U1_TTGTTGTGTGTCAAGA-1  0.977550  0.000000  0.000000  0.00000   \n",
       "HT268B1Th1_H3U1_TTGTTTCACATCCAGG-1  0.000000  0.000000  0.000000  0.00000   \n",
       "HT268B1Th1_H3U1_TTGTTTCATTAGTCTA-1  0.904754  0.000000  0.000000  0.00000   \n",
       "HT268B1Th1_H3U1_TTGTTTCCATACAACT-1  0.000000  0.573092  0.935106  0.00000   \n",
       "HT268B1Th1_H3U1_TTGTTTGTGTAAATTC-1  0.000000  0.000000  0.000000  0.00000   \n",
       "\n",
       "                                         KIT     EPCAM  ...       BGN  \\\n",
       "HT206B1_H8_U2_AAACAACGAATAGTTC-1    0.000000  1.128382  ...  2.308517   \n",
       "HT206B1_H8_U2_AAACAAGTATCTCCCA-1    0.699764  0.699764  ...  2.577131   \n",
       "HT206B1_H8_U2_AAACAATCTACTAGCA-1    0.000000  0.531650  ...  2.081613   \n",
       "HT206B1_H8_U2_AAACAGAGCGACTCCT-1    0.000000  0.422854  ...  2.397888   \n",
       "HT206B1_H8_U2_AAACAGGGTCTATATT-1    0.000000  1.526566  ...  1.030038   \n",
       "...                                      ...       ...  ...       ...   \n",
       "HT268B1Th1_H3U1_TTGTTGTGTGTCAAGA-1  0.000000  1.295467  ...  0.286372   \n",
       "HT268B1Th1_H3U1_TTGTTTCACATCCAGG-1  0.000000  0.594420  ...  1.899695   \n",
       "HT268B1Th1_H3U1_TTGTTTCATTAGTCTA-1  0.000000  1.165332  ...  1.165332   \n",
       "HT268B1Th1_H3U1_TTGTTTCCATACAACT-1  0.000000  0.935106  ...  2.167615   \n",
       "HT268B1Th1_H3U1_TTGTTTGTGTAAATTC-1  0.000000  2.340333  ...  1.891728   \n",
       "\n",
       "                                         FAP     SPARC     ITGAX       LYZ  \\\n",
       "HT206B1_H8_U2_AAACAACGAATAGTTC-1    0.000000  2.703887  0.528794  0.528794   \n",
       "HT206B1_H8_U2_AAACAAGTATCTCCCA-1    0.000000  1.620004  0.000000  0.699764   \n",
       "HT206B1_H8_U2_AAACAATCTACTAGCA-1    0.000000  2.081613  0.000000  0.876917   \n",
       "HT206B1_H8_U2_AAACAGAGCGACTCCT-1    0.422854  1.834677  0.000000  1.544191   \n",
       "HT206B1_H8_U2_AAACAGGGTCTATATT-1    0.000000  0.000000  1.030038  1.030038   \n",
       "...                                      ...       ...       ...       ...   \n",
       "HT268B1Th1_H3U1_TTGTTGTGTGTCAAGA-1  0.000000  1.295467  0.000000  0.000000   \n",
       "HT268B1Th1_H3U1_TTGTTTCACATCCAGG-1  0.340741  2.210447  0.000000  0.340741   \n",
       "HT268B1Th1_H3U1_TTGTTTCATTAGTCTA-1  0.000000  1.371853  0.000000  0.904754   \n",
       "HT268B1Th1_H3U1_TTGTTTCCATACAACT-1  0.573092  3.086077  0.000000  2.593752   \n",
       "HT268B1Th1_H3U1_TTGTTTGTGTAAATTC-1  0.000000  1.891728  0.000000  1.056727   \n",
       "\n",
       "                                        CD68      CD14      SDC1    PECAM1  \\\n",
       "HT206B1_H8_U2_AAACAACGAATAGTTC-1    1.128382  0.872869  0.872869  2.075539   \n",
       "HT206B1_H8_U2_AAACAAGTATCTCCCA-1    1.107425  1.396203  1.620004  0.000000   \n",
       "HT206B1_H8_U2_AAACAATCTACTAGCA-1    1.336830  1.506007  0.531650  1.133083   \n",
       "HT206B1_H8_U2_AAACAGAGCGACTCCT-1    1.425003  0.422854  0.422854  1.289662   \n",
       "HT206B1_H8_U2_AAACAGGGTCTATATT-1    1.030038  1.526566  1.526566  0.000000   \n",
       "...                                      ...       ...       ...       ...   \n",
       "HT268B1Th1_H3U1_TTGTTGTGTGTCAAGA-1  0.508728  0.286372  0.000000  0.508728   \n",
       "HT268B1Th1_H3U1_TTGTTTCACATCCAGG-1  0.000000  0.340741  0.340741  0.796592   \n",
       "HT268B1Th1_H3U1_TTGTTTCATTAGTCTA-1  0.000000  0.000000  0.000000  0.000000   \n",
       "HT268B1Th1_H3U1_TTGTTTCCATACAACT-1  0.935106  1.409759  0.573092  0.573092   \n",
       "HT268B1Th1_H3U1_TTGTTTGTGTAAATTC-1  0.000000  0.000000  1.056727  1.056727   \n",
       "\n",
       "                                        IL7R  \n",
       "HT206B1_H8_U2_AAACAACGAATAGTTC-1    0.000000  \n",
       "HT206B1_H8_U2_AAACAAGTATCTCCCA-1    0.000000  \n",
       "HT206B1_H8_U2_AAACAATCTACTAGCA-1    0.531650  \n",
       "HT206B1_H8_U2_AAACAGAGCGACTCCT-1    0.719118  \n",
       "HT206B1_H8_U2_AAACAGGGTCTATATT-1    1.030038  \n",
       "...                                      ...  \n",
       "HT268B1Th1_H3U1_TTGTTGTGTGTCAAGA-1  0.000000  \n",
       "HT268B1Th1_H3U1_TTGTTTCACATCCAGG-1  0.000000  \n",
       "HT268B1Th1_H3U1_TTGTTTCATTAGTCTA-1  0.000000  \n",
       "HT268B1Th1_H3U1_TTGTTTCCATACAACT-1  0.573092  \n",
       "HT268B1Th1_H3U1_TTGTTTGTGTAAATTC-1  0.000000  \n",
       "\n",
       "[79204 rows x 21 columns]"
      ]
     },
     "execution_count": 55,
     "metadata": {},
     "output_type": "execute_result"
    }
   ],
   "source": [
    "targets = None\n",
    "for s, fp, d in zip(fmap.index, fmap['spaceranger_output'], fmap['disease']):\n",
    "    if 'brca' in d:\n",
    "        df = process_adata(s, fp)\n",
    "        if targets is None:\n",
    "            targets = df\n",
    "        else:\n",
    "            targets = pd.concat((targets, df), axis=0)\n",
    "targets"
   ]
  },
  {
   "cell_type": "code",
   "execution_count": 79,
   "id": "06838e8c",
   "metadata": {
    "hidden": true
   },
   "outputs": [],
   "source": [
    "val_regexs = [r'.*' + s for s in ['HT206B1_H8_U2']]\n",
    "train_dataloader, val_dataloader = image_regression_dataloaders(img_dir, targets, val_regexs=val_regexs)"
   ]
  },
  {
   "cell_type": "code",
   "execution_count": 57,
   "id": "07e6d65d",
   "metadata": {
    "hidden": true
   },
   "outputs": [
    {
     "data": {
      "text/plain": [
       "array(['ESR1', 'PGR', 'ERBB2', 'MKI67', 'TOP2A', 'CD3G', 'CD4', 'CD8A',\n",
       "       'KIT', 'EPCAM', 'CDH1', 'BGN', 'FAP', 'SPARC', 'ITGAX', 'LYZ',\n",
       "       'CD68', 'CD14', 'SDC1', 'PECAM1', 'IL7R'], dtype=object)"
      ]
     },
     "execution_count": 57,
     "metadata": {},
     "output_type": "execute_result"
    }
   ],
   "source": [
    "train_dataloader.dataset.labels"
   ]
  },
  {
   "cell_type": "code",
   "execution_count": 80,
   "id": "730cf837",
   "metadata": {
    "hidden": true
   },
   "outputs": [
    {
     "data": {
      "text/plain": [
       "(array(['HT206B1_H8_U3_AAACAACGAATAGTTC-1',\n",
       "        'HT206B1_H8_U3_AAACAAGTATCTCCCA-1',\n",
       "        'HT206B1_H8_U3_AAACAATCTACTAGCA-1', ...,\n",
       "        'HT268B1Th1_H3U1_TTGTTTCATTAGTCTA-1',\n",
       "        'HT268B1Th1_H3U1_TTGTTTCCATACAACT-1',\n",
       "        'HT268B1Th1_H3U1_TTGTTTGTGTAAATTC-1'], dtype='<U34'),\n",
       " 68480)"
      ]
     },
     "execution_count": 80,
     "metadata": {},
     "output_type": "execute_result"
    }
   ],
   "source": [
    "train_dataloader.dataset.samples, len(train_dataloader.dataset.samples)"
   ]
  },
  {
   "cell_type": "code",
   "execution_count": 81,
   "id": "cbd1c787",
   "metadata": {
    "hidden": true
   },
   "outputs": [
    {
     "data": {
      "text/plain": [
       "(array(['HT206B1_H8_U2_AAACAACGAATAGTTC-1',\n",
       "        'HT206B1_H8_U2_AAACAAGTATCTCCCA-1',\n",
       "        'HT206B1_H8_U2_AAACAATCTACTAGCA-1', ...,\n",
       "        'HT206B1_H8_U2_TTGTTTCCATACAACT-1',\n",
       "        'HT206B1_H8_U2_TTGTTTGTATTACACG-1',\n",
       "        'HT206B1_H8_U2_TTGTTTGTGTAAATTC-1'], dtype='<U32'),\n",
       " 3859)"
      ]
     },
     "execution_count": 81,
     "metadata": {},
     "output_type": "execute_result"
    }
   ],
   "source": [
    "val_dataloader.dataset.samples, len(val_dataloader.dataset.samples)"
   ]
  },
  {
   "cell_type": "code",
   "execution_count": 82,
   "id": "0098a3d0",
   "metadata": {
    "hidden": true
   },
   "outputs": [
    {
     "name": "stdout",
     "output_type": "stream",
     "text": [
      "Take key teacher in provided checkpoint dict\n",
      "Pretrained weights found at /home/estorrs/dino/outputs/test_run_5_brca_good_only/checkpoint0480.pth and loaded with msg: _IncompatibleKeys(missing_keys=[], unexpected_keys=['head.mlp.0.weight', 'head.mlp.0.bias', 'head.mlp.2.weight', 'head.mlp.2.bias', 'head.mlp.4.weight', 'head.mlp.4.bias', 'head.last_layer.weight_g', 'head.last_layer.weight_v'])\n"
     ]
    }
   ],
   "source": [
    "model = load_pretrained_model(weights)"
   ]
  },
  {
   "cell_type": "code",
   "execution_count": 84,
   "id": "720ae4b3",
   "metadata": {
    "hidden": true
   },
   "outputs": [],
   "source": [
    "regressor = STRegressor(model, len(train_dataloader.dataset.labels))"
   ]
  },
  {
   "cell_type": "code",
   "execution_count": 85,
   "id": "e6e9b517",
   "metadata": {
    "hidden": true
   },
   "outputs": [],
   "source": [
    "regressor = regressor.cuda()"
   ]
  },
  {
   "cell_type": "code",
   "execution_count": 86,
   "id": "e384d026",
   "metadata": {
    "hidden": true
   },
   "outputs": [],
   "source": [
    "max_lr = 1e-4\n",
    "learner = STLearner(regressor, train_dataloader, val_dataloader,\n",
    "                   max_lr=max_lr)"
   ]
  },
  {
   "cell_type": "code",
   "execution_count": 87,
   "id": "e971c725",
   "metadata": {
    "hidden": true
   },
   "outputs": [
    {
     "name": "stdout",
     "output_type": "stream",
     "text": [
      "epoch: 0, train loss: 1.2852318286895752, val loss: 0.7392365336418152\n",
      "epoch: 1, train loss: 0.8184218406677246, val loss: 0.5383877754211426\n",
      "epoch: 2, train loss: 0.6173110008239746, val loss: 0.44746753573417664\n",
      "epoch: 3, train loss: 0.5175519585609436, val loss: 0.418517142534256\n",
      "epoch: 4, train loss: 0.4677029550075531, val loss: 0.41857048869132996\n",
      "epoch: 5, train loss: 0.4406231641769409, val loss: 0.421322226524353\n",
      "epoch: 6, train loss: 0.42264577746391296, val loss: 0.4187578856945038\n",
      "epoch: 7, train loss: 0.40919333696365356, val loss: 0.4185178875923157\n",
      "epoch: 8, train loss: 0.39882588386535645, val loss: 0.41533875465393066\n",
      "epoch: 9, train loss: 0.39062613248825073, val loss: 0.41424310207366943\n"
     ]
    }
   ],
   "source": [
    "epochs = 10\n",
    "learner.fit(epochs)"
   ]
  },
  {
   "cell_type": "code",
   "execution_count": 88,
   "id": "e8f67f28",
   "metadata": {
    "hidden": true
   },
   "outputs": [],
   "source": [
    "learner.unfreeze_vit()"
   ]
  },
  {
   "cell_type": "code",
   "execution_count": 89,
   "id": "e88a7086",
   "metadata": {
    "hidden": true
   },
   "outputs": [
    {
     "name": "stdout",
     "output_type": "stream",
     "text": [
      "epoch: 0, train loss: 0.3225911259651184, val loss: 0.3581167161464691\n",
      "epoch: 1, train loss: 0.2807820737361908, val loss: 0.3240653872489929\n",
      "epoch: 2, train loss: 0.26617154479026794, val loss: 0.33561214804649353\n",
      "epoch: 3, train loss: 0.2576692998409271, val loss: 0.33494752645492554\n",
      "epoch: 4, train loss: 0.25164785981178284, val loss: 0.3257253170013428\n",
      "epoch: 5, train loss: 0.24699285626411438, val loss: 0.3269999623298645\n",
      "epoch: 6, train loss: 0.2429467737674713, val loss: 0.3244311511516571\n",
      "epoch: 7, train loss: 0.23941180109977722, val loss: 0.31136462092399597\n",
      "epoch: 8, train loss: 0.236506849527359, val loss: 0.32133060693740845\n",
      "epoch: 9, train loss: 0.23380810022354126, val loss: 0.3083851635456085\n"
     ]
    }
   ],
   "source": [
    "epochs = 10\n",
    "learner.fit(epochs)"
   ]
  },
  {
   "cell_type": "code",
   "execution_count": 90,
   "id": "d885fc42",
   "metadata": {
    "hidden": true
   },
   "outputs": [
    {
     "data": {
      "text/plain": [
       "64"
      ]
     },
     "execution_count": 90,
     "metadata": {},
     "output_type": "execute_result"
    }
   ],
   "source": [
    "train_dataloader.batch_size"
   ]
  },
  {
   "cell_type": "code",
   "execution_count": 94,
   "id": "cfaad359",
   "metadata": {
    "hidden": true
   },
   "outputs": [
    {
     "data": {
      "text/plain": [
       "PatchEmbed(\n",
       "  (proj): Conv2d(3, 384, kernel_size=(16, 16), stride=(16, 16))\n",
       ")"
      ]
     },
     "execution_count": 94,
     "metadata": {},
     "output_type": "execute_result"
    }
   ],
   "source": [
    "regressor.vit.patch_embed"
   ]
  },
  {
   "cell_type": "code",
   "execution_count": 102,
   "id": "82b61c99",
   "metadata": {
    "hidden": true
   },
   "outputs": [
    {
     "data": {
      "text/plain": [
       "Parameter containing:\n",
       "tensor([[[[-1.2361e-03,  9.9253e-03, -1.3006e-02,  ..., -1.9687e-02,\n",
       "           -1.3001e-02,  1.2334e-03],\n",
       "          [-1.9194e-03,  2.0495e-03, -1.9928e-02,  ..., -1.5762e-02,\n",
       "           -1.7594e-02,  1.7031e-03],\n",
       "          [-1.9589e-02, -1.5938e-02, -2.0802e-02,  ..., -1.9639e-02,\n",
       "           -7.9108e-03, -9.2732e-03],\n",
       "          ...,\n",
       "          [-1.0810e-02, -5.1164e-03, -1.3453e-02,  ...,  4.8155e-03,\n",
       "           -5.8476e-03, -9.5824e-03],\n",
       "          [-2.5694e-02, -4.0821e-04, -2.2047e-02,  ..., -2.1958e-02,\n",
       "           -1.8879e-02, -8.0126e-03],\n",
       "          [-9.4168e-03,  2.2903e-03, -1.6485e-02,  ..., -1.1925e-02,\n",
       "           -1.5558e-02, -9.2207e-03]],\n",
       "\n",
       "         [[-1.3862e-03,  6.1599e-03, -1.1952e-02,  ...,  9.3583e-03,\n",
       "            1.1061e-02,  3.3222e-02],\n",
       "          [-1.9516e-02, -1.5952e-02, -3.1832e-02,  ...,  8.8154e-03,\n",
       "           -5.7496e-04,  2.3535e-02],\n",
       "          [-1.5078e-02, -2.2050e-02, -2.9011e-02,  ...,  1.2116e-03,\n",
       "           -7.4587e-03,  1.1714e-02],\n",
       "          ...,\n",
       "          [ 1.2175e-02,  1.0078e-02, -2.7401e-03,  ..., -8.7884e-03,\n",
       "           -1.4375e-02,  1.9624e-02],\n",
       "          [ 7.5008e-03,  1.4824e-03, -1.3386e-02,  ..., -1.9911e-02,\n",
       "            7.8978e-03,  1.7200e-02],\n",
       "          [ 2.5564e-02,  1.8975e-02,  2.6847e-02,  ...,  1.6371e-02,\n",
       "            1.6860e-02,  5.1969e-02]],\n",
       "\n",
       "         [[-5.9546e-04, -2.8379e-03,  9.4143e-04,  ..., -1.8683e-02,\n",
       "            1.7010e-03, -5.9318e-03],\n",
       "          [-1.6313e-04, -1.0614e-02,  3.8944e-03,  ..., -8.9867e-03,\n",
       "           -1.4778e-02, -1.4216e-02],\n",
       "          [-6.7524e-04,  3.8082e-03, -1.6499e-02,  ..., -1.5558e-02,\n",
       "           -6.5952e-03, -1.3406e-02],\n",
       "          ...,\n",
       "          [ 6.9390e-03, -6.6959e-03, -3.4731e-03,  ..., -2.9702e-03,\n",
       "           -1.4311e-02,  7.1581e-03],\n",
       "          [-5.5167e-03, -7.5600e-03,  1.1259e-03,  ..., -1.1387e-02,\n",
       "           -1.8129e-02, -5.3115e-03],\n",
       "          [ 7.5542e-03,  1.3394e-02, -3.1863e-04,  ..., -1.2132e-02,\n",
       "           -5.4394e-03,  1.1317e-02]]],\n",
       "\n",
       "\n",
       "        [[[-8.8297e-02, -3.2969e-02, -3.1062e-02,  ..., -1.9583e-02,\n",
       "           -1.5506e-02, -1.9899e-02],\n",
       "          [-3.0004e-02,  1.2358e-02,  5.4213e-03,  ..., -5.4940e-03,\n",
       "            1.2928e-02,  1.2444e-02],\n",
       "          [-7.5171e-03,  1.3680e-02,  1.9562e-02,  ...,  3.2360e-03,\n",
       "            2.6273e-02,  3.0707e-02],\n",
       "          ...,\n",
       "          [-4.3009e-03,  1.8254e-02, -3.8689e-03,  ...,  4.4481e-03,\n",
       "           -8.2345e-03,  2.9170e-05],\n",
       "          [-1.9897e-02, -9.4389e-03,  1.1347e-02,  ..., -6.2603e-04,\n",
       "           -2.0956e-02, -2.1018e-02],\n",
       "          [-2.8596e-02, -1.3283e-02,  2.3339e-03,  ..., -3.3474e-03,\n",
       "           -8.2792e-03,  2.6946e-03]],\n",
       "\n",
       "         [[-9.0984e-02, -3.7491e-02, -2.6289e-02,  ..., -3.6210e-02,\n",
       "           -2.4218e-02, -7.8757e-03],\n",
       "          [-3.8833e-02,  3.6396e-02,  2.4406e-02,  ...,  1.5721e-02,\n",
       "            1.5695e-02,  2.6948e-02],\n",
       "          [-1.1966e-02,  2.7270e-02,  3.2864e-02,  ...,  2.6921e-02,\n",
       "            4.1413e-02,  3.8024e-02],\n",
       "          ...,\n",
       "          [ 2.1598e-03,  1.7630e-02,  2.9151e-02,  ..., -1.0210e-02,\n",
       "           -1.3117e-02, -1.2687e-02],\n",
       "          [ 1.0781e-02,  1.0912e-02,  2.9037e-02,  ..., -2.9716e-03,\n",
       "            4.4733e-03, -1.6231e-02],\n",
       "          [ 1.0092e-02,  2.5440e-02,  3.4222e-02,  ...,  1.3635e-02,\n",
       "            1.1772e-02,  1.1711e-02]],\n",
       "\n",
       "         [[-4.1807e-02, -6.5318e-03, -1.2455e-02,  ..., -7.1860e-03,\n",
       "           -7.5153e-04,  8.0919e-03],\n",
       "          [-2.0097e-03,  1.0170e-02,  1.7561e-02,  ...,  3.1042e-03,\n",
       "            2.7639e-02,  2.4065e-02],\n",
       "          [-1.0092e-02, -7.1191e-04,  5.7975e-03,  ...,  8.7977e-03,\n",
       "            1.1020e-02,  1.8993e-02],\n",
       "          ...,\n",
       "          [-1.2075e-03,  5.2849e-03,  1.4187e-02,  ..., -1.0217e-02,\n",
       "            4.2193e-03,  5.1350e-04],\n",
       "          [-2.4137e-02, -6.4371e-03, -3.2861e-03,  ..., -1.9954e-05,\n",
       "            2.1519e-04,  7.3256e-04],\n",
       "          [-9.0409e-03,  2.7749e-03, -7.0902e-04,  ...,  1.4859e-02,\n",
       "            1.2932e-02,  1.2853e-02]]],\n",
       "\n",
       "\n",
       "        [[[ 8.9250e-03,  6.9254e-04,  8.0080e-03,  ..., -5.0190e-03,\n",
       "           -1.6781e-02, -8.3829e-03],\n",
       "          [ 4.5254e-03, -1.3095e-02, -9.9345e-03,  ..., -1.0861e-02,\n",
       "           -7.5633e-03, -2.0376e-02],\n",
       "          [-1.1127e-02, -1.3086e-03, -1.0480e-02,  ...,  1.1333e-02,\n",
       "           -4.3455e-03,  3.2448e-03],\n",
       "          ...,\n",
       "          [-6.0027e-03, -1.3221e-02, -9.7886e-03,  ..., -5.0806e-04,\n",
       "            7.5575e-04,  2.4931e-02],\n",
       "          [-1.5722e-03, -1.9820e-03, -1.4010e-02,  ..., -3.8596e-03,\n",
       "           -1.1591e-02,  1.6001e-02],\n",
       "          [ 1.1737e-02,  5.1412e-03,  1.0432e-02,  ..., -1.3438e-02,\n",
       "           -1.7603e-02,  7.8053e-03]],\n",
       "\n",
       "         [[ 4.5167e-02,  1.6140e-02,  1.8233e-02,  ...,  2.3644e-03,\n",
       "           -1.6259e-02, -7.6098e-03],\n",
       "          [-3.5397e-03, -5.6917e-03, -1.9116e-02,  ...,  6.3751e-04,\n",
       "           -4.1945e-03, -1.0362e-02],\n",
       "          [-8.8167e-03, -1.0927e-02,  1.2274e-03,  ...,  2.8858e-02,\n",
       "            1.0689e-02,  1.4885e-02],\n",
       "          ...,\n",
       "          [ 2.8392e-03, -1.3819e-02, -1.3531e-02,  ...,  4.4095e-03,\n",
       "            2.1347e-02,  4.3898e-02],\n",
       "          [ 1.0195e-02,  6.0113e-03, -1.3082e-02,  ...,  2.0237e-03,\n",
       "            1.8055e-03,  5.0108e-02],\n",
       "          [ 3.4269e-02,  2.5228e-02,  1.9029e-02,  ..., -2.9408e-04,\n",
       "            1.9507e-02,  4.0931e-02]],\n",
       "\n",
       "         [[-1.2991e-02, -1.3056e-02, -1.1294e-02,  ..., -3.2178e-03,\n",
       "           -1.1255e-02, -1.0802e-02],\n",
       "          [-8.9168e-03,  2.4154e-03, -1.4298e-02,  ..., -7.0937e-03,\n",
       "            6.1197e-04, -1.5436e-02],\n",
       "          [-1.1203e-02, -9.0766e-03, -4.6745e-03,  ..., -2.3963e-03,\n",
       "            3.0434e-03, -8.8779e-03],\n",
       "          ...,\n",
       "          [ 1.2074e-02,  2.6109e-04, -3.4745e-03,  ..., -7.3114e-03,\n",
       "            1.1470e-02,  9.4073e-03],\n",
       "          [ 1.0060e-02,  9.8075e-03,  4.9841e-03,  ..., -1.5063e-02,\n",
       "           -1.8939e-02, -8.6766e-04],\n",
       "          [ 8.6955e-04,  8.3158e-03,  1.3118e-02,  ..., -2.7649e-02,\n",
       "           -2.3713e-02, -9.3055e-03]]],\n",
       "\n",
       "\n",
       "        ...,\n",
       "\n",
       "\n",
       "        [[[-5.5804e-03, -4.3276e-03, -5.4043e-03,  ...,  9.8558e-03,\n",
       "           -7.8238e-03, -2.6261e-02],\n",
       "          [ 2.4638e-03, -1.2957e-02, -1.3004e-03,  ...,  1.9064e-04,\n",
       "           -7.2994e-03, -2.4712e-02],\n",
       "          [-1.3735e-02,  4.0927e-03,  4.8147e-03,  ...,  7.9681e-03,\n",
       "           -5.2503e-03, -2.6673e-02],\n",
       "          ...,\n",
       "          [ 1.2360e-02, -6.0515e-03,  6.2017e-03,  ..., -1.7873e-02,\n",
       "           -7.3382e-03,  1.2763e-02],\n",
       "          [-2.3124e-03, -1.8477e-02, -1.4943e-02,  ...,  2.4733e-03,\n",
       "           -2.0226e-02,  8.6775e-03],\n",
       "          [ 1.5052e-02,  6.1072e-04,  2.8037e-03,  ..., -1.7447e-03,\n",
       "            1.3364e-02,  2.0226e-02]],\n",
       "\n",
       "         [[-2.7191e-05,  1.8365e-02,  1.4075e-02,  ...,  2.5499e-02,\n",
       "            1.8047e-02, -5.6787e-03],\n",
       "          [-6.7694e-04, -1.6240e-02,  2.5843e-03,  ...,  1.9512e-02,\n",
       "            3.1967e-03, -4.1077e-03],\n",
       "          [-1.3714e-02, -1.4311e-02, -4.6235e-03,  ...,  1.5254e-02,\n",
       "            9.8610e-03, -2.0043e-02],\n",
       "          ...,\n",
       "          [ 2.6195e-03, -1.7069e-02, -1.8519e-02,  ..., -1.5082e-03,\n",
       "            5.9289e-03,  5.5273e-03],\n",
       "          [ 5.4256e-03, -1.7532e-02, -1.7084e-02,  ...,  3.6538e-03,\n",
       "            4.8026e-03,  1.8552e-02],\n",
       "          [ 3.6020e-03, -1.7281e-02, -8.9791e-03,  ...,  8.8170e-03,\n",
       "            1.1070e-02,  3.1502e-02]],\n",
       "\n",
       "         [[-2.7206e-03, -9.0520e-03, -9.8984e-03,  ..., -1.5548e-02,\n",
       "           -1.5866e-02, -3.3004e-02],\n",
       "          [ 3.9180e-04, -2.9974e-03, -4.2314e-04,  ...,  1.0098e-02,\n",
       "            5.4588e-03, -1.1154e-03],\n",
       "          [-1.8454e-08, -1.0700e-02,  4.3877e-05,  ..., -4.6169e-03,\n",
       "           -6.1261e-03, -8.8224e-03],\n",
       "          ...,\n",
       "          [-5.8466e-03,  1.5198e-03,  1.3911e-02,  ..., -3.4246e-03,\n",
       "           -5.9980e-03,  1.4860e-03],\n",
       "          [-1.1698e-02, -1.1467e-02, -3.9878e-03,  ..., -8.8812e-03,\n",
       "           -1.3751e-02, -1.3092e-02],\n",
       "          [ 7.3028e-03, -6.0014e-03,  3.3613e-03,  ..., -4.9166e-03,\n",
       "           -5.7980e-03, -1.0196e-02]]],\n",
       "\n",
       "\n",
       "        [[[-5.6369e-02, -2.0339e-02, -1.8206e-03,  ...,  9.1869e-03,\n",
       "           -3.1187e-03, -2.1960e-02],\n",
       "          [-1.7573e-02, -3.0900e-03,  1.1912e-02,  ...,  5.4374e-03,\n",
       "            1.8295e-02, -1.7464e-02],\n",
       "          [-2.0985e-02,  6.0260e-03, -1.9553e-04,  ...,  6.2554e-03,\n",
       "            4.4281e-03, -9.9288e-03],\n",
       "          ...,\n",
       "          [-5.0052e-03, -3.9588e-03,  1.3879e-02,  ...,  8.2604e-03,\n",
       "            1.0297e-02, -1.3777e-02],\n",
       "          [-9.3988e-03, -8.6542e-03, -5.4163e-03,  ...,  8.6734e-03,\n",
       "           -5.1898e-03, -2.8451e-02],\n",
       "          [-3.1158e-02, -1.7521e-02, -1.8301e-02,  ..., -2.4730e-02,\n",
       "           -9.3808e-03, -5.3543e-02]],\n",
       "\n",
       "         [[-2.4253e-02,  1.0586e-02,  1.1609e-02,  ...,  3.3294e-03,\n",
       "           -6.5357e-03, -3.7174e-02],\n",
       "          [-6.4122e-03,  8.4386e-03,  8.9309e-03,  ..., -9.6140e-03,\n",
       "            3.1916e-03, -1.9950e-02],\n",
       "          [-1.6338e-02,  4.5494e-03, -3.5927e-03,  ...,  3.7137e-03,\n",
       "            7.0567e-03, -2.1830e-02],\n",
       "          ...,\n",
       "          [-1.0653e-03, -1.8386e-03, -3.5350e-03,  ..., -5.4164e-03,\n",
       "           -2.6267e-03, -4.4441e-03],\n",
       "          [ 6.5674e-03,  1.1108e-02,  1.2143e-02,  ...,  2.5274e-02,\n",
       "            5.6464e-03, -4.8137e-03],\n",
       "          [-2.2687e-02,  3.6463e-03, -1.0669e-02,  ...,  1.0246e-02,\n",
       "            7.0708e-03, -3.7112e-02]],\n",
       "\n",
       "         [[-2.3151e-02, -1.3009e-02, -4.5753e-03,  ...,  1.2987e-03,\n",
       "            7.0042e-03,  1.4447e-04],\n",
       "          [-1.6390e-02, -7.7392e-03,  3.4921e-03,  ..., -5.0195e-03,\n",
       "            1.6509e-02,  4.0060e-03],\n",
       "          [-2.1959e-02, -8.4960e-03,  8.8951e-03,  ...,  1.1870e-02,\n",
       "            6.8408e-03,  6.9934e-03],\n",
       "          ...,\n",
       "          [ 2.8663e-03,  1.2172e-02,  1.5085e-02,  ..., -9.6537e-03,\n",
       "           -1.0455e-02, -1.0020e-02],\n",
       "          [ 1.5448e-02,  2.8164e-02,  2.7674e-02,  ..., -3.9715e-03,\n",
       "            1.0800e-02,  1.8092e-03],\n",
       "          [-4.9081e-04,  1.8554e-03,  1.4893e-02,  ...,  5.8958e-03,\n",
       "            9.4650e-03, -1.4915e-02]]],\n",
       "\n",
       "\n",
       "        [[[ 4.2163e-02,  9.8421e-03,  1.1600e-03,  ..., -1.1298e-02,\n",
       "           -4.3879e-03, -1.6984e-02],\n",
       "          [ 1.4223e-02,  1.0466e-02, -4.6461e-03,  ...,  2.8399e-03,\n",
       "            1.4013e-02, -1.4130e-02],\n",
       "          [ 2.6958e-02,  7.3568e-03,  2.3375e-02,  ..., -4.8396e-03,\n",
       "            5.2907e-03,  1.4851e-03],\n",
       "          ...,\n",
       "          [ 2.9336e-02, -7.6310e-03,  1.6566e-02,  ...,  1.6319e-02,\n",
       "            8.2140e-03, -8.3320e-03],\n",
       "          [ 2.2527e-02,  1.1121e-02,  3.2731e-03,  ...,  2.1413e-02,\n",
       "            4.4372e-04,  3.7864e-03],\n",
       "          [ 6.0880e-02,  3.1406e-02,  1.1957e-02,  ...,  2.6131e-02,\n",
       "            3.4713e-02,  3.2125e-02]],\n",
       "\n",
       "         [[ 2.7617e-02, -9.5717e-04,  1.0436e-02,  ..., -3.9106e-02,\n",
       "           -3.9881e-02, -5.8466e-02],\n",
       "          [ 1.9549e-02, -9.7002e-03,  7.2042e-03,  ..., -9.8380e-03,\n",
       "           -1.4418e-02, -3.2824e-02],\n",
       "          [-5.3383e-03,  6.2535e-03,  5.2307e-03,  ...,  5.5576e-03,\n",
       "           -1.2931e-02, -3.2452e-02],\n",
       "          ...,\n",
       "          [-2.2640e-02, -1.4485e-02, -1.9590e-02,  ...,  1.9741e-02,\n",
       "           -4.0201e-03, -1.6684e-02],\n",
       "          [-8.8626e-03, -4.0042e-02, -3.0265e-02,  ...,  1.2512e-02,\n",
       "            6.5346e-03, -5.9104e-03],\n",
       "          [ 7.4171e-03, -8.4369e-03, -1.0971e-02,  ...,  3.0915e-02,\n",
       "            1.1481e-02,  2.0327e-02]],\n",
       "\n",
       "         [[ 4.7620e-02,  2.9889e-02,  1.9026e-02,  ...,  2.0687e-02,\n",
       "            8.5543e-03,  5.1564e-03],\n",
       "          [ 2.1148e-02,  1.2461e-02,  2.7940e-02,  ...,  2.6929e-02,\n",
       "            1.6682e-02,  2.2944e-02],\n",
       "          [ 1.0519e-02,  2.1077e-02,  1.6344e-02,  ...,  1.0938e-02,\n",
       "            2.1433e-02,  6.6280e-03],\n",
       "          ...,\n",
       "          [ 1.1332e-02, -3.0864e-03,  1.6537e-02,  ..., -1.1134e-02,\n",
       "           -5.5670e-03, -4.8816e-03],\n",
       "          [ 3.7845e-03, -1.4064e-02, -6.5626e-05,  ..., -4.9004e-03,\n",
       "            4.0844e-03, -1.1032e-02],\n",
       "          [ 2.5259e-02,  2.7116e-03,  6.7014e-03,  ...,  1.2981e-03,\n",
       "            9.3923e-03,  1.8300e-02]]]], device='cuda:0', requires_grad=True)"
      ]
     },
     "execution_count": 102,
     "metadata": {},
     "output_type": "execute_result"
    }
   ],
   "source": [
    "next(iter(regressor.vit.patch_embed.num_patches))"
   ]
  },
  {
   "cell_type": "code",
   "execution_count": 111,
   "id": "0c863416",
   "metadata": {
    "hidden": true
   },
   "outputs": [
    {
     "data": {
      "text/plain": [
       "16"
      ]
     },
     "execution_count": 111,
     "metadata": {},
     "output_type": "execute_result"
    }
   ],
   "source": [
    "regressor.vit.patch_embed.proj.kernel_size[0]"
   ]
  },
  {
   "cell_type": "code",
   "execution_count": 108,
   "id": "1b8ebd23",
   "metadata": {
    "hidden": true
   },
   "outputs": [
    {
     "data": {
      "text/plain": [
       "384"
      ]
     },
     "execution_count": 108,
     "metadata": {},
     "output_type": "execute_result"
    }
   ],
   "source": [
    "regressor.vit."
   ]
  },
  {
   "cell_type": "code",
   "execution_count": 112,
   "id": "d3fa6f0d",
   "metadata": {
    "hidden": true
   },
   "outputs": [
    {
     "data": {
      "text/plain": [
       "14.0"
      ]
     },
     "execution_count": 112,
     "metadata": {},
     "output_type": "execute_result"
    }
   ],
   "source": [
    "224 / 16"
   ]
  },
  {
   "cell_type": "code",
   "execution_count": 113,
   "id": "81060c01",
   "metadata": {
    "hidden": true
   },
   "outputs": [
    {
     "data": {
      "text/plain": [
       "16.0"
      ]
     },
     "execution_count": 113,
     "metadata": {},
     "output_type": "execute_result"
    }
   ],
   "source": [
    "224 / 14"
   ]
  },
  {
   "cell_type": "code",
   "execution_count": 114,
   "id": "727ca3c2",
   "metadata": {
    "hidden": true
   },
   "outputs": [
    {
     "data": {
      "text/plain": [
       "196"
      ]
     },
     "execution_count": 114,
     "metadata": {},
     "output_type": "execute_result"
    }
   ],
   "source": [
    "14 * 14"
   ]
  },
  {
   "cell_type": "code",
   "execution_count": null,
   "id": "662f24e4",
   "metadata": {
    "hidden": true
   },
   "outputs": [],
   "source": [
    "num_patches = (img_size // patch_size) * (img_size // patch_size)"
   ]
  },
  {
   "cell_type": "code",
   "execution_count": 115,
   "id": "47f3564c",
   "metadata": {
    "hidden": true
   },
   "outputs": [
    {
     "data": {
      "text/plain": [
       "14"
      ]
     },
     "execution_count": 115,
     "metadata": {},
     "output_type": "execute_result"
    }
   ],
   "source": [
    "224 // 16"
   ]
  },
  {
   "cell_type": "code",
   "execution_count": 116,
   "id": "7420b8df",
   "metadata": {
    "hidden": true
   },
   "outputs": [],
   "source": [
    "import pprint"
   ]
  },
  {
   "cell_type": "code",
   "execution_count": null,
   "id": "858a0f95",
   "metadata": {
    "hidden": true
   },
   "outputs": [],
   "source": []
  }
 ],
 "metadata": {
  "kernelspec": {
   "display_name": "Python 3",
   "language": "python",
   "name": "python3"
  },
  "language_info": {
   "codemirror_mode": {
    "name": "ipython",
    "version": 3
   },
   "file_extension": ".py",
   "mimetype": "text/x-python",
   "name": "python",
   "nbconvert_exporter": "python",
   "pygments_lexer": "ipython3",
   "version": "3.8.10"
  }
 },
 "nbformat": 4,
 "nbformat_minor": 5
}
