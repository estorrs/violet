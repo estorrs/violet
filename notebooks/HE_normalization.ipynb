{
 "cells": [
  {
   "cell_type": "code",
   "execution_count": null,
   "id": "edff679e",
   "metadata": {},
   "outputs": [],
   "source": [
    "import os\n",
    "from pathlib import Path\n",
    "\n",
    "import numpy as np\n",
    "from openslide import OpenSlide\n",
    "from PIL import Image\n",
    "from torchvision.datasets.folder import default_loader"
   ]
  },
  {
   "cell_type": "code",
   "execution_count": null,
   "id": "2c5dd653",
   "metadata": {},
   "outputs": [],
   "source": [
    "import staintools"
   ]
  },
  {
   "cell_type": "code",
   "execution_count": null,
   "id": "e687c4c8",
   "metadata": {},
   "outputs": [],
   "source": [
    "%load_ext autoreload"
   ]
  },
  {
   "cell_type": "code",
   "execution_count": null,
   "id": "ccf55764",
   "metadata": {},
   "outputs": [],
   "source": [
    "%autoreload 2"
   ]
  },
  {
   "cell_type": "code",
   "execution_count": null,
   "id": "f73706b8",
   "metadata": {},
   "outputs": [],
   "source": [
    "from violet.utils.preprocessing import extract_svs_tiles, get_he_image, extract_tif_tiles, get_svs_array, normalize_he_image\n",
    "from violet.utils.dataloaders import listfiles"
   ]
  },
  {
   "cell_type": "code",
   "execution_count": null,
   "id": "8a4fa488",
   "metadata": {},
   "outputs": [],
   "source": [
    "fps = [\n",
    "    '/home/estorrs/violet/data/he/ffpe/tcia_pda/train/C3L-00017-21/C3L-00017-21_100_104.jpeg',\n",
    "    '/home/estorrs/violet/data/he/ffpe/tcia_pda/train/C3L-00277-26/C3L-00277-26_100_120.jpeg',\n",
    "    '/home/estorrs/violet/data/he/ffpe/tcia_pda/train/C3L-00189-22/C3L-00189-22_100_539.jpeg',\n",
    "    '/home/estorrs/violet/data/he/ffpe/tcia_ccrcc/train/C3L-00011-21/C3L-00011-21_100_37.jpeg',\n",
    "    '/home/estorrs/violet/data/he/ffpe/tcia_ccrcc/train/C3L-00165-22/C3L-00165-22_105_66.jpeg',\n",
    "    '/home/estorrs/violet/data/st/ccrcc_ffpe_08032021/train/HT282N1_S1H3Fs4U1/HT282N1_S1H3Fs4U1_AAACTCGTGATATAAG-1.jpeg',\n",
    "    '/home/estorrs/violet/data/st/ccrcc_ffpe_08032021/train/HT293N1_S1H3Fs1U1/HT293N1_S1H3Fs1U1_AACAATACATTGTCGA-1.jpeg',\n",
    "    '/home/estorrs/violet/data/st/pdac_ffpe_07292021/train/HT270P1_S1H1Fs5U1/HT270P1_S1H1Fs5U1_AAACTCGGTTCGCAAT-1.jpeg',\n",
    "    '/home/estorrs/violet/data/st/pdac_ffpe_07292021/train/HT270P1_S1H1Fs5U1/HT270P1_S1H1Fs5U1_AGACAGGCATCTCAGC-1.jpeg'\n",
    "]"
   ]
  },
  {
   "cell_type": "code",
   "execution_count": null,
   "id": "8e0d77ea",
   "metadata": {},
   "outputs": [],
   "source": [
    "for fp in fps:\n",
    "    print(fp)\n",
    "    im = default_loader(fp)\n",
    "    im.show()"
   ]
  },
  {
   "cell_type": "code",
   "execution_count": null,
   "id": "69da09b7",
   "metadata": {},
   "outputs": [],
   "source": [
    "ref = '/home/estorrs/violet/data/he/ffpe/tcia_ccrcc/train/C3L-00165-22/C3L-00165-22_105_66.jpeg'\n",
    "# ref = '/home/estorrs/violet/data/he/ffpe/tcia_pda/train/C3L-00017-21/C3L-00017-21_100_104.jpeg'\n",
    "target = staintools.read_image(ref)\n",
    "# Standardize brightness (optional, can improve the tissue mask calculation)\n",
    "target = staintools.LuminosityStandardizer.standardize(target)\n",
    "\n",
    "# Stain normalize\n",
    "normalizer = staintools.StainNormalizer(method='vahadane')\n",
    "normalizer.fit(target)"
   ]
  },
  {
   "cell_type": "code",
   "execution_count": null,
   "id": "0f389298",
   "metadata": {},
   "outputs": [],
   "source": [
    "import matplotlib.pyplot as plt\n",
    "for fp in fps:\n",
    "    print(fp)\n",
    "    im = default_loader(fp)\n",
    "    im.show()\n",
    "    \n",
    "    to_transform = staintools.read_image(fp)\n",
    "    to_transform = staintools.LuminosityStandardizer.standardize(to_transform)\n",
    "    transformed = normalizer.transform(to_transform)\n",
    "    plt.imshow(transformed)\n",
    "    plt.show()\n",
    "\n"
   ]
  },
  {
   "cell_type": "code",
   "execution_count": null,
   "id": "be1a9ee2",
   "metadata": {},
   "outputs": [],
   "source": [
    "import matplotlib.pyplot as plt\n",
    "for fp in fps:\n",
    "    print(fp)\n",
    "    im = default_loader(fp)\n",
    "    im.show()\n",
    "    \n",
    "    to_transform = staintools.read_image(fp)\n",
    "    to_transform = staintools.LuminosityStandardizer.standardize(to_transform)\n",
    "    transformed = normalizer.transform(to_transform)\n",
    "    plt.imshow(transformed)\n",
    "    plt.show()\n",
    "\n"
   ]
  },
  {
   "cell_type": "code",
   "execution_count": null,
   "id": "c6590f3f",
   "metadata": {},
   "outputs": [],
   "source": [
    "%%time\n",
    "for fp in fps:\n",
    "    print('a')\n",
    "    to_transform = staintools.read_image(fp)\n",
    "    print('b')\n",
    "    to_transform = staintools.LuminosityStandardizer.standardize(to_transform)\n",
    "    print('c')\n",
    "    transformed = normalizer.transform(to_transform)\n",
    "    print('d')\n",
    "    \n",
    "\n"
   ]
  },
  {
   "cell_type": "code",
   "execution_count": null,
   "id": "696a47f3",
   "metadata": {},
   "outputs": [],
   "source": [
    "scaled = get_svs_array('/data/tcia/PDA/C3L-00102-22.svs', scale=.1)\n",
    "plt.imshow(scaled)"
   ]
  },
  {
   "cell_type": "code",
   "execution_count": null,
   "id": "ae7795ec",
   "metadata": {},
   "outputs": [],
   "source": [
    "img = get_svs_array('/data/tcia/PDA/C3L-00102-22.svs', scale=1.)\n",
    "img.shape"
   ]
  },
  {
   "cell_type": "code",
   "execution_count": null,
   "id": "65e9a795",
   "metadata": {},
   "outputs": [],
   "source": [
    "img"
   ]
  },
  {
   "cell_type": "code",
   "execution_count": null,
   "id": "9b519d08",
   "metadata": {},
   "outputs": [],
   "source": [
    "s = img[14000:18000, 14000:18000]"
   ]
  },
  {
   "cell_type": "code",
   "execution_count": null,
   "id": "11a96eb2",
   "metadata": {},
   "outputs": [],
   "source": [
    "plt.imshow(s)"
   ]
  },
  {
   "cell_type": "code",
   "execution_count": null,
   "id": "8d648c1f",
   "metadata": {},
   "outputs": [],
   "source": [
    "# ref = '/home/estorrs/violet/data/he/ffpe/tcia_ccrcc/train/C3L-00165-22/C3L-00165-22_105_66.jpeg'\n",
    "# # ref = '/home/estorrs/violet/data/he/ffpe/tcia_pda/train/C3L-00017-21/C3L-00017-21_100_104.jpeg'\n",
    "# target = staintools.read_image(ref)\n",
    "# Standardize brightness (optional, can improve the tissue mask calculation)\n",
    "target = staintools.LuminosityStandardizer.standardize(s)\n",
    "\n",
    "# Stain normalize\n",
    "normalizer = staintools.StainNormalizer(method='vahadane')\n",
    "normalizer.fit(target)"
   ]
  },
  {
   "cell_type": "code",
   "execution_count": null,
   "id": "f756ffb1",
   "metadata": {},
   "outputs": [],
   "source": [
    "%%time\n",
    "# to_transform = staintools.read_image(fp)\n",
    "to_transform = img\n",
    "to_transform = staintools.LuminosityStandardizer.standardize(to_transform)\n",
    "transformed = normalizer.transform(to_transform)"
   ]
  },
  {
   "cell_type": "code",
   "execution_count": null,
   "id": "ffc98c35",
   "metadata": {},
   "outputs": [],
   "source": [
    "%%time\n",
    "# to_transform = staintools.read_image(fp)\n",
    "to_transform = s\n",
    "to_transform = staintools.LuminosityStandardizer.standardize(to_transform)\n",
    "transformed = normalizer.transform(to_transform)"
   ]
  },
  {
   "cell_type": "code",
   "execution_count": null,
   "id": "5bcf7a89",
   "metadata": {},
   "outputs": [],
   "source": [
    "%%time\n",
    "# to_transform = staintools.read_image(fp)\n",
    "to_transform = s[:150, :150]\n",
    "augmentor = staintools.StainAugmentor(method='vahadane', sigma1=0.2, sigma2=0.2)\n",
    "augmentor.fit(to_transform)\n",
    "augmented_images = []\n",
    "for _ in range(100):\n",
    "    augmented_image = augmentor.pop().astype(np.uint8)\n",
    "    print(np.max(augmented_image))\n",
    "    plt.imshow(augmented_image)\n",
    "    plt.show()\n",
    "    augmented_images.append(augmented_image)"
   ]
  },
  {
   "cell_type": "code",
   "execution_count": null,
   "id": "a6300a1e",
   "metadata": {},
   "outputs": [],
   "source": [
    "transformed.shape"
   ]
  },
  {
   "cell_type": "code",
   "execution_count": null,
   "id": "1b435377",
   "metadata": {},
   "outputs": [],
   "source": [
    "im = Image.fromarray(s)\n",
    "im.save('/home/estorrs/violet/violet/data/stain_reference.jpeg')"
   ]
  },
  {
   "cell_type": "code",
   "execution_count": null,
   "id": "f8e878a9",
   "metadata": {},
   "outputs": [],
   "source": [
    "from skimage.transform import rescale\n",
    "plt.imshow(transformed)"
   ]
  },
  {
   "cell_type": "code",
   "execution_count": null,
   "id": "faef1dae",
   "metadata": {},
   "outputs": [],
   "source": [
    "from skimage.transform import rescale\n",
    "plt.imshow(transformed[14000:14100, 14000:14100])"
   ]
  },
  {
   "cell_type": "code",
   "execution_count": null,
   "id": "f9153f18",
   "metadata": {},
   "outputs": [],
   "source": [
    "from skimage.transform import rescale\n",
    "plt.imshow(transformed[:100, :100])"
   ]
  },
  {
   "cell_type": "code",
   "execution_count": null,
   "id": "0e3ebf8d",
   "metadata": {},
   "outputs": [],
   "source": [
    "from skimage.transform import rescale\n",
    "plt.imshow(img[14000:14100, 14000:14100])"
   ]
  },
  {
   "cell_type": "code",
   "execution_count": null,
   "id": "cb7dd299",
   "metadata": {},
   "outputs": [],
   "source": []
  },
  {
   "cell_type": "code",
   "execution_count": null,
   "id": "cd201e1f",
   "metadata": {},
   "outputs": [],
   "source": []
  },
  {
   "cell_type": "code",
   "execution_count": null,
   "id": "0cafc2d2",
   "metadata": {},
   "outputs": [],
   "source": []
  },
  {
   "cell_type": "code",
   "execution_count": null,
   "id": "7eba8751",
   "metadata": {},
   "outputs": [],
   "source": []
  },
  {
   "cell_type": "code",
   "execution_count": null,
   "id": "453b2390",
   "metadata": {},
   "outputs": [],
   "source": []
  },
  {
   "cell_type": "code",
   "execution_count": null,
   "id": "3574bbf4",
   "metadata": {},
   "outputs": [],
   "source": [
    "plt.imshow(transformed[:100, :100])"
   ]
  },
  {
   "cell_type": "code",
   "execution_count": null,
   "id": "8ea60992",
   "metadata": {},
   "outputs": [],
   "source": [
    "%%time\n",
    "t_imgs, t_ids = extract_tif_tiles(['/data/spatial_transcriptomics/highres_images/pdac/B1-HT264P1-S1H2Fc2U1.tif'])"
   ]
  },
  {
   "cell_type": "code",
   "execution_count": null,
   "id": "30371808",
   "metadata": {},
   "outputs": [],
   "source": [
    "import matplotlib.pyplot as plt\n",
    "for img in t_imgs[:100]:\n",
    "    plt.imshow(img)\n",
    "    plt.show()"
   ]
  },
  {
   "cell_type": "code",
   "execution_count": null,
   "id": "71d1a37a",
   "metadata": {
    "scrolled": true
   },
   "outputs": [],
   "source": [
    "%%time\n",
    "s_imgs, s_ids = extract_svs_tiles({'s1': '/data/tcia/PDA/C3L-00017-22.svs'})"
   ]
  },
  {
   "cell_type": "code",
   "execution_count": null,
   "id": "165c3a93",
   "metadata": {},
   "outputs": [],
   "source": [
    "import matplotlib.pyplot as plt\n",
    "for img in s_imgs[:100]:\n",
    "    plt.imshow(img)\n",
    "    plt.show()"
   ]
  },
  {
   "cell_type": "code",
   "execution_count": null,
   "id": "0f7ca477",
   "metadata": {},
   "outputs": [],
   "source": [
    "for fp in fps:\n",
    "    img = np.array(default_loader(fp))\n",
    "    plt.imshow(img)\n",
    "    plt.show()\n",
    "\n",
    "    n = normalize_he_image(img)\n",
    "    plt.imshow(n)\n",
    "    plt.show()"
   ]
  },
  {
   "cell_type": "code",
   "execution_count": null,
   "id": "2b8d67ad",
   "metadata": {},
   "outputs": [],
   "source": []
  }
 ],
 "metadata": {
  "kernelspec": {
   "display_name": "Python 3",
   "language": "python",
   "name": "python3"
  },
  "language_info": {
   "codemirror_mode": {
    "name": "ipython",
    "version": 3
   },
   "file_extension": ".py",
   "mimetype": "text/x-python",
   "name": "python",
   "nbconvert_exporter": "python",
   "pygments_lexer": "ipython3",
   "version": "3.8.10"
  }
 },
 "nbformat": 4,
 "nbformat_minor": 5
}
