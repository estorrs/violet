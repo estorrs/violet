{
 "cells": [
  {
   "cell_type": "code",
   "execution_count": 21,
   "id": "fe572c1e",
   "metadata": {},
   "outputs": [],
   "source": [
    "import os\n",
    "import json\n",
    "\n",
    "import numpy as np\n",
    "import pandas as pd\n",
    "import torch"
   ]
  },
  {
   "cell_type": "code",
   "execution_count": 13,
   "id": "439cd316",
   "metadata": {},
   "outputs": [
    {
     "name": "stdout",
     "output_type": "stream",
     "text": [
      "The autoreload extension is already loaded. To reload it, use:\n",
      "  %reload_ext autoreload\n"
     ]
    }
   ],
   "source": [
    "%load_ext autoreload"
   ]
  },
  {
   "cell_type": "code",
   "execution_count": 14,
   "id": "b4e1edbe",
   "metadata": {},
   "outputs": [],
   "source": [
    "%autoreload 2"
   ]
  },
  {
   "cell_type": "code",
   "execution_count": 25,
   "id": "3c5567d3",
   "metadata": {},
   "outputs": [],
   "source": [
    "from violet.utils.dataloaders import listfiles\n",
    "from violet.models.st import STRegressor\n",
    "from violet.models.vit import vit_small\n",
    "from violet.utils.model import load_trained_st_regressor"
   ]
  },
  {
   "cell_type": "code",
   "execution_count": 16,
   "id": "744b1374",
   "metadata": {},
   "outputs": [],
   "source": [
    "img_dir = '/home/estorrs/spatial-analysis/data/breast/model_inputs_06092021/he_imgs_v2'\n",
    "weights = '/home/estorrs/violet/sandbox/runs/test_run_brca_06242021/checkpoints/final.pt'\n",
    "summary = '/home/estorrs/violet/sandbox/runs/test_run_brca_06242021/summary.json'"
   ]
  },
  {
   "cell_type": "code",
   "execution_count": 18,
   "id": "93e77352",
   "metadata": {},
   "outputs": [
    {
     "data": {
      "text/plain": [
       "{'run_directory': '/home/estorrs/violet/sandbox/runs/test_run_brca_06242021',\n",
       " 'dataset': {'image_directory': '/home/estorrs/spatial-analysis/data/breast/model_inputs_06092021/he_imgs_v2',\n",
       "  'targets': ['ESR1',\n",
       "   'PGR',\n",
       "   'ERBB2',\n",
       "   'MKI67',\n",
       "   'TOP2A',\n",
       "   'CD3G',\n",
       "   'CD4',\n",
       "   'CD8A',\n",
       "   'KIT',\n",
       "   'EPCAM',\n",
       "   'CDH1',\n",
       "   'BGN',\n",
       "   'FAP',\n",
       "   'SPARC',\n",
       "   'ITGAX',\n",
       "   'LYZ',\n",
       "   'CD68',\n",
       "   'CD14',\n",
       "   'SDC1',\n",
       "   'PECAM1',\n",
       "   'IL7R'],\n",
       "  'min_counts': 2500,\n",
       "  'train_dataset': {'samples': ['HT206B1_H8_U3'], 'num_spots': 4258},\n",
       "  'val_dataset': {'samples': ['HT206B1_H8_U2'], 'num_spots': 3859}},\n",
       " 'vit': {'pretrained_weights': '/home/estorrs/dino/outputs/test_run_5_brca_good_only/checkpoint0480.pth',\n",
       "  'patch_size': 16,\n",
       "  'img_size': 224,\n",
       "  'total_patches': 196,\n",
       "  'embed_dim': 384},\n",
       " 'head': {'type': 'linear'},\n",
       " 'hyperparams': {'batch_size': 64,\n",
       "  'loss': 'torch.nn.MSELoss',\n",
       "  'max_lr': 0.0001,\n",
       "  'scheduler': 'torch.optim.lr_scheduler.OneCycleLR',\n",
       "  'opt': 'torch.optim.Adam',\n",
       "  'gpu': True},\n",
       " 'training': {'1.finetune_frozen_vit': {'1': {'train_loss': 1.095909833908081,\n",
       "    'val_loss': 1.1879799365997314},\n",
       "   '2': {'train_loss': 1.0163261890411377, 'val_loss': 1.1086480617523193}},\n",
       "  '2.finetune_unfrozen_vit': {'1': {'train_loss': 0.4412817060947418,\n",
       "    'val_loss': 0.3144541382789612},\n",
       "   '2': {'train_loss': 0.2627328634262085, 'val_loss': 0.2734273672103882},\n",
       "   '3': {'train_loss': 0.23691384494304657, 'val_loss': 0.2555241584777832}}}}"
      ]
     },
     "execution_count": 18,
     "metadata": {},
     "output_type": "execute_result"
    }
   ],
   "source": [
    "d = json.load(open(summary))\n",
    "d"
   ]
  },
  {
   "cell_type": "code",
   "execution_count": 26,
   "id": "f5693f4a",
   "metadata": {},
   "outputs": [],
   "source": [
    "regressor = load_trained_st_regressor(weights, d)"
   ]
  },
  {
   "cell_type": "code",
   "execution_count": null,
   "id": "b3a4b105",
   "metadata": {},
   "outputs": [],
   "source": []
  }
 ],
 "metadata": {
  "kernelspec": {
   "display_name": "Python 3",
   "language": "python",
   "name": "python3"
  },
  "language_info": {
   "codemirror_mode": {
    "name": "ipython",
    "version": 3
   },
   "file_extension": ".py",
   "mimetype": "text/x-python",
   "name": "python",
   "nbconvert_exporter": "python",
   "pygments_lexer": "ipython3",
   "version": "3.8.10"
  }
 },
 "nbformat": 4,
 "nbformat_minor": 5
}
