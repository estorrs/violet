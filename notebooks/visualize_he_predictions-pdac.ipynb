{
 "cells": [
  {
   "cell_type": "code",
   "execution_count": null,
   "id": "d8c9cc7b",
   "metadata": {},
   "outputs": [],
   "source": [
    "import os\n",
    "import json\n",
    "import re\n",
    "\n",
    "import numpy as np\n",
    "import pandas as pd\n",
    "import torch\n",
    "import scanpy as sc"
   ]
  },
  {
   "cell_type": "code",
   "execution_count": null,
   "id": "3152cd11",
   "metadata": {},
   "outputs": [],
   "source": [
    "%load_ext autoreload"
   ]
  },
  {
   "cell_type": "code",
   "execution_count": null,
   "id": "4db8b300",
   "metadata": {},
   "outputs": [],
   "source": [
    "%autoreload 2"
   ]
  },
  {
   "cell_type": "code",
   "execution_count": null,
   "id": "75e952d3",
   "metadata": {},
   "outputs": [],
   "source": [
    "from violet.utils.dataloaders import listfiles\n",
    "from violet.utils.st import predict_he_tiles, predict_visium, predict_svs\n",
    "from violet.utils.preprocessing import normalize_counts, get_svs_tile_shape, get_svs_array\n",
    "from violet.utils.analysis import display_predictions, display_2d_scatter"
   ]
  },
  {
   "cell_type": "code",
   "execution_count": null,
   "id": "453456c0",
   "metadata": {},
   "outputs": [],
   "source": [
    "import matplotlib as mpl\n",
    "mpl.rcParams['figure.dpi'] = 300"
   ]
  },
  {
   "cell_type": "code",
   "execution_count": null,
   "id": "ab87f6e9",
   "metadata": {},
   "outputs": [],
   "source": [
    "img_dir = '/home/estorrs/violet/data/st/pdac_ffpe_normalized/'\n",
    "weights = '/home/estorrs/violet/sandbox/runs/he_ffpe_pda_xcit_p8_normalized/checkpoints/final.pth'\n",
    "summary = '/home/estorrs/violet/sandbox/runs/he_ffpe_pda_xcit_p8_normalized/summary.json'"
   ]
  },
  {
   "cell_type": "markdown",
   "id": "873f97a0",
   "metadata": {},
   "source": [
    "###### for visium"
   ]
  },
  {
   "cell_type": "code",
   "execution_count": null,
   "id": "4402923f",
   "metadata": {},
   "outputs": [],
   "source": [
    "filemap = pd.read_csv('/home/estorrs/spatial-analysis/data/sample_map.txt', sep='\\t')\n",
    "filemap = filemap[~pd.isnull(filemap['highres_image'])]\n",
    "filemap = filemap.set_index('sample_id')\n",
    "filemap"
   ]
  },
  {
   "cell_type": "code",
   "execution_count": null,
   "id": "2d35d8b7",
   "metadata": {},
   "outputs": [],
   "source": [
    "tups = [(i, row['spaceranger_output'], row['highres_image'])\n",
    "        for i, row in filemap.iterrows()\n",
    "        if row['disease'] == 'pdac' and row['tissue_type'] == 'ffpe']\n",
    "tups"
   ]
  },
  {
   "cell_type": "code",
   "execution_count": null,
   "id": "9acd84e1",
   "metadata": {},
   "outputs": [],
   "source": [
    "adata_map = {}\n",
    "for s_id, s, h in tups:\n",
    "    a = predict_visium(s, h, weights, summary, tmp_dir='../sandbox/tmp')\n",
    "#     a = normalize_counts(a)\n",
    "    adata_map[s_id] = a\n",
    "adata_map.keys()"
   ]
  },
  {
   "cell_type": "code",
   "execution_count": null,
   "id": "e74f2477",
   "metadata": {},
   "outputs": [],
   "source": [
    "import json\n",
    "summ = json.load(open(summary))\n",
    "summ"
   ]
  },
  {
   "cell_type": "code",
   "execution_count": null,
   "id": "383e3863",
   "metadata": {},
   "outputs": [],
   "source": [
    "sample = 'HT270P1_S1H1Fs5U1'\n",
    "adata = adata_map[sample]\n",
    "sample"
   ]
  },
  {
   "cell_type": "code",
   "execution_count": null,
   "id": "f7c7d246",
   "metadata": {},
   "outputs": [],
   "source": [
    "adata"
   ]
  },
  {
   "cell_type": "code",
   "execution_count": null,
   "id": "4cf3210b",
   "metadata": {},
   "outputs": [],
   "source": [
    "adata.obs"
   ]
  },
  {
   "cell_type": "code",
   "execution_count": null,
   "id": "736fbb6b",
   "metadata": {},
   "outputs": [],
   "source": [
    "adata.X"
   ]
  },
  {
   "cell_type": "code",
   "execution_count": null,
   "id": "b6fe7316",
   "metadata": {},
   "outputs": [],
   "source": [
    "sc.pl.spatial(adata)"
   ]
  },
  {
   "cell_type": "code",
   "execution_count": null,
   "id": "5047668f",
   "metadata": {},
   "outputs": [],
   "source": [
    "sc.pl.spatial(adata, color=['KRT18', 'predicted_KRT18'])"
   ]
  },
  {
   "cell_type": "code",
   "execution_count": null,
   "id": "136f4060",
   "metadata": {},
   "outputs": [],
   "source": [
    "sc.pl.spatial(adata, color=['EPCAM', 'predicted_EPCAM'])"
   ]
  },
  {
   "cell_type": "code",
   "execution_count": null,
   "id": "7aeb3bae",
   "metadata": {},
   "outputs": [],
   "source": [
    "sc.pl.spatial(adata, color=['CDH1', 'predicted_CDH1'])"
   ]
  },
  {
   "cell_type": "code",
   "execution_count": null,
   "id": "31a4dd3d",
   "metadata": {},
   "outputs": [],
   "source": [
    "sc.pl.spatial(adata, color=['PTPRC', 'predicted_PTPRC'])"
   ]
  },
  {
   "cell_type": "code",
   "execution_count": null,
   "id": "d0fdcbc2",
   "metadata": {},
   "outputs": [],
   "source": [
    "sc.pl.spatial(adata, color=['CD8A', 'predicted_CD8A'])"
   ]
  },
  {
   "cell_type": "code",
   "execution_count": null,
   "id": "861836d3",
   "metadata": {},
   "outputs": [],
   "source": [
    "sc.pl.spatial(adata, color=['CD3E', 'predicted_CD3E'])"
   ]
  },
  {
   "cell_type": "code",
   "execution_count": null,
   "id": "1b1cefbc",
   "metadata": {},
   "outputs": [],
   "source": [
    "sc.pl.spatial(adata, color=['CD3G', 'predicted_CD3G'])"
   ]
  },
  {
   "cell_type": "code",
   "execution_count": null,
   "id": "2039cbf1",
   "metadata": {},
   "outputs": [],
   "source": []
  },
  {
   "cell_type": "code",
   "execution_count": null,
   "id": "17f99680",
   "metadata": {},
   "outputs": [],
   "source": [
    "sample = 'HT264P1_S1H2Fs1_U1'\n",
    "adata = adata_map[sample]\n",
    "sample"
   ]
  },
  {
   "cell_type": "code",
   "execution_count": null,
   "id": "731914ca",
   "metadata": {},
   "outputs": [],
   "source": [
    "sc.pl.spatial(adata)"
   ]
  },
  {
   "cell_type": "code",
   "execution_count": null,
   "id": "2f071135",
   "metadata": {},
   "outputs": [],
   "source": [
    "sc.pl.spatial(adata, color=['KRT18', 'predicted_KRT18'])"
   ]
  },
  {
   "cell_type": "code",
   "execution_count": null,
   "id": "5d4ebfcb",
   "metadata": {},
   "outputs": [],
   "source": [
    "sc.pl.spatial(adata, color=['EPCAM', 'predicted_EPCAM'])"
   ]
  },
  {
   "cell_type": "code",
   "execution_count": null,
   "id": "e47c245a",
   "metadata": {},
   "outputs": [],
   "source": [
    "sc.pl.spatial(adata, color=['PTPRC', 'predicted_PTPRC'])"
   ]
  },
  {
   "cell_type": "code",
   "execution_count": null,
   "id": "feb1e14d",
   "metadata": {},
   "outputs": [],
   "source": [
    "sc.pl.spatial(adata, color=['CD8A', 'predicted_CD8A'])"
   ]
  },
  {
   "cell_type": "code",
   "execution_count": null,
   "id": "0853a1ec",
   "metadata": {},
   "outputs": [],
   "source": []
  },
  {
   "cell_type": "code",
   "execution_count": null,
   "id": "eec22760",
   "metadata": {},
   "outputs": [],
   "source": []
  },
  {
   "cell_type": "code",
   "execution_count": null,
   "id": "6b506b63",
   "metadata": {},
   "outputs": [],
   "source": []
  },
  {
   "cell_type": "markdown",
   "id": "423ac4ad",
   "metadata": {},
   "source": [
    "###### for svs"
   ]
  },
  {
   "cell_type": "code",
   "execution_count": null,
   "id": "c4f799a7",
   "metadata": {},
   "outputs": [],
   "source": [
    "svs_fp = '/data/tcia/PDA/C3L-00102-21.svs'"
   ]
  },
  {
   "cell_type": "code",
   "execution_count": null,
   "id": "bb048c72",
   "metadata": {
    "scrolled": true
   },
   "outputs": [],
   "source": [
    "df = predict_svs(svs_fp, weights, summary, tmp_dir='../sandbox/tmp')\n",
    "df"
   ]
  },
  {
   "cell_type": "code",
   "execution_count": null,
   "id": "8a442ce5",
   "metadata": {},
   "outputs": [],
   "source": [
    "# scale = .1\n",
    "\n",
    "# img = get_svs_array(svs_fp, scale=scale)\n",
    "\n",
    "# (n_rows, n_cols), tile_size = get_svs_tile_shape(svs_fp, resolution=res)\n",
    "# row_offset = img.shape[0] % n_rows\n",
    "# col_offset = img.shape[1] % n_cols"
   ]
  },
  {
   "cell_type": "code",
   "execution_count": null,
   "id": "4e76a77c",
   "metadata": {},
   "outputs": [],
   "source": [
    "# import matplotlib as mpl\n",
    "# import matplotlib.pyplot as plt\n",
    "# mpl.rcParams['figure.dpi'] = 300"
   ]
  },
  {
   "cell_type": "code",
   "execution_count": null,
   "id": "26efc530",
   "metadata": {},
   "outputs": [],
   "source": [
    "# display_predictions(img, df, tile_size, 'CA9', scale,\n",
    "# #                    row_offset=row_offset, col_offset=col_offset,\n",
    "#                    alpha=1., s=.05)"
   ]
  },
  {
   "cell_type": "code",
   "execution_count": null,
   "id": "00702806",
   "metadata": {},
   "outputs": [],
   "source": [
    "scale = .1\n",
    "img = get_svs_array(svs_fp, scale=scale)\n",
    "plt.imshow(img)"
   ]
  },
  {
   "cell_type": "code",
   "execution_count": null,
   "id": "bddc8597",
   "metadata": {},
   "outputs": [],
   "source": [
    "from matplotlib import cm\n",
    "display_2d_scatter(df, 'KRT18')"
   ]
  },
  {
   "cell_type": "code",
   "execution_count": null,
   "id": "f09dcd8a",
   "metadata": {},
   "outputs": [],
   "source": [
    "import matplotlib.pyplot as plt\n",
    "for c in df.columns:\n",
    "    print(c)\n",
    "    display_2d_scatter(df, c)\n",
    "    plt.show()"
   ]
  },
  {
   "cell_type": "code",
   "execution_count": null,
   "id": "b676992b",
   "metadata": {},
   "outputs": [],
   "source": []
  }
 ],
 "metadata": {
  "kernelspec": {
   "display_name": "Python 3",
   "language": "python",
   "name": "python3"
  },
  "language_info": {
   "codemirror_mode": {
    "name": "ipython",
    "version": 3
   },
   "file_extension": ".py",
   "mimetype": "text/x-python",
   "name": "python",
   "nbconvert_exporter": "python",
   "pygments_lexer": "ipython3",
   "version": "3.8.10"
  }
 },
 "nbformat": 4,
 "nbformat_minor": 5
}
