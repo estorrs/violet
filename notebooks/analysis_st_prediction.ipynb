{
 "cells": [
  {
   "cell_type": "code",
   "execution_count": null,
   "id": "2b8eb063",
   "metadata": {},
   "outputs": [],
   "source": [
    "import os\n",
    "import json\n",
    "import re\n",
    "\n",
    "import numpy as np\n",
    "import pandas as pd\n",
    "import torch\n",
    "import scanpy as sc\n",
    "import matplotlib.pyplot as plt\n",
    "import matplotlib as mpl\n",
    "\n",
    "from torchvision.datasets.folder import default_loader"
   ]
  },
  {
   "cell_type": "code",
   "execution_count": null,
   "id": "1341d8f3",
   "metadata": {},
   "outputs": [],
   "source": [
    "plt.rcParams['figure.dpi'] = 200\n",
    "mpl.rcParams['pdf.fonttype'] = 42\n",
    "mpl.rcParams['ps.fonttype'] = 42"
   ]
  },
  {
   "cell_type": "code",
   "execution_count": null,
   "id": "572e7772",
   "metadata": {},
   "outputs": [],
   "source": [
    "((7000000 / 10000) * 40) / 60 / 60"
   ]
  },
  {
   "cell_type": "code",
   "execution_count": null,
   "id": "d9be8eea",
   "metadata": {},
   "outputs": [],
   "source": [
    "%load_ext autoreload"
   ]
  },
  {
   "cell_type": "code",
   "execution_count": null,
   "id": "3eb68386",
   "metadata": {},
   "outputs": [],
   "source": [
    "%autoreload 2"
   ]
  },
  {
   "cell_type": "code",
   "execution_count": null,
   "id": "6cdcb5c2",
   "metadata": {},
   "outputs": [],
   "source": [
    "from violet.utils.dataloaders import listfiles\n",
    "from violet.utils.st import predict_he_tiles, predict_visium, predict_svs, load_trained_st_regressor\n",
    "from violet.utils.preprocessing import normalize_counts, get_svs_tile_shape, get_svs_array\n",
    "from violet.utils.analysis import display_predictions\n",
    "from violet.utils.attention import plot_attention_rollup"
   ]
  },
  {
   "cell_type": "code",
   "execution_count": null,
   "id": "ff1667a3",
   "metadata": {},
   "outputs": [],
   "source": [
    "img_dir = '/home/estorrs/violet/data/st/human_he_06252021'\n",
    "weights = '/home/estorrs/violet/sandbox/runs/test_run_on_human_he_06252021/checkpoints/final.pth'\n",
    "summary = '/home/estorrs/violet/sandbox/runs/test_run_on_human_he_06252021/summary.json'"
   ]
  },
  {
   "cell_type": "code",
   "execution_count": null,
   "id": "e77f0cea",
   "metadata": {},
   "outputs": [],
   "source": [
    "filemap = pd.read_csv('/home/estorrs/spatial-analysis/data/sample_map.txt', sep='\\t')\n",
    "filemap = filemap[~pd.isnull(filemap['highres_image'])]\n",
    "filemap = filemap.set_index('sample_id')\n",
    "filemap"
   ]
  },
  {
   "cell_type": "code",
   "execution_count": null,
   "id": "8bbb9f22",
   "metadata": {},
   "outputs": [],
   "source": [
    "s = json.load(open(summary))\n",
    "s"
   ]
  },
  {
   "cell_type": "code",
   "execution_count": null,
   "id": "15f6b0f4",
   "metadata": {},
   "outputs": [],
   "source": [
    "# do only validation samples\n",
    "samples = s['dataset']['val_dataset']['samples']"
   ]
  },
  {
   "cell_type": "code",
   "execution_count": null,
   "id": "fec4919e",
   "metadata": {},
   "outputs": [],
   "source": []
  },
  {
   "cell_type": "code",
   "execution_count": null,
   "id": "05701497",
   "metadata": {},
   "outputs": [],
   "source": [
    "xs = np.random.rand(5, 10)\n",
    "ys = np.random.rand(1, 10)\n",
    "xs / ys"
   ]
  },
  {
   "cell_type": "code",
   "execution_count": null,
   "id": "658b7203",
   "metadata": {},
   "outputs": [],
   "source": [
    "xs.shape, ys.shape"
   ]
  },
  {
   "cell_type": "code",
   "execution_count": null,
   "id": "1bacbaa9",
   "metadata": {},
   "outputs": [],
   "source": [
    "def standardize_predictions(adata):\n",
    "    # scale adata predictions and adata spot expression to between 0-1\n",
    "    # make sure predictions are cut at zero\n",
    "    for c in adata.obs.columns:\n",
    "        if 'predicted_' in c:\n",
    "            adata.obs[c] = [0. if x < 0. else x for x in adata.obs[c]]\n",
    "            m = np.max(adata.obs[c])\n",
    "            adata.obs[c] = [x / m for x in adata.obs[c]]\n",
    "    adata.X = adata.X.toarray() / np.max(adata.X.toarray(), axis=0)\n",
    "    \n",
    "    return adata\n",
    "    \n",
    "    "
   ]
  },
  {
   "cell_type": "code",
   "execution_count": null,
   "id": "3e2ed54f",
   "metadata": {},
   "outputs": [],
   "source": [
    "adata_map = {}\n",
    "for i, row in filemap.iterrows():\n",
    "    if i in samples:\n",
    "        print(i)\n",
    "        adata = predict_visium(row['spaceranger_output'], row['highres_image'],\n",
    "                               weights, summary, tmp_dir='../sandbox/tmp')\n",
    "        adata = normalize_counts(adata)\n",
    "        adata = standardize_predictions(adata)\n",
    "        adata_map[i] = adata"
   ]
  },
  {
   "cell_type": "code",
   "execution_count": null,
   "id": "116c41d9",
   "metadata": {},
   "outputs": [],
   "source": [
    "for sample, adata in adata_map.items():\n",
    "    sc.pl.spatial(adata)\n",
    "    plt.show()"
   ]
  },
  {
   "cell_type": "code",
   "execution_count": null,
   "id": "2094ec93",
   "metadata": {},
   "outputs": [],
   "source": [
    "for sample, adata in adata_map.items():\n",
    "    print(sample)\n",
    "    markers = ['ESR1', 'PGR', 'ERBB2', 'MKI67']\n",
    "    markers += [f'predicted_{m}' for m in markers]\n",
    "    sc.pl.spatial(adata, color=markers, ncols=4, return_fig=True, vmin=0.)\n",
    "    plt.show()"
   ]
  },
  {
   "cell_type": "code",
   "execution_count": null,
   "id": "bb249e0b",
   "metadata": {},
   "outputs": [],
   "source": [
    "for sample, adata in adata_map.items():\n",
    "    print(sample)\n",
    "    markers = ['EPCAM', 'CDH1']\n",
    "    markers += [f'predicted_{m}' for m in markers]\n",
    "    sc.pl.spatial(adata, color=markers, ncols=2, return_fig=True, vmin=0.)\n",
    "    plt.show()"
   ]
  },
  {
   "cell_type": "code",
   "execution_count": null,
   "id": "42b44637",
   "metadata": {},
   "outputs": [],
   "source": [
    "for sample, adata in adata_map.items():\n",
    "    print(sample)\n",
    "    markers = ['CD3G', 'CD4', 'IL7R', 'CD8A']\n",
    "    markers += [f'predicted_{m}' for m in markers]\n",
    "    sc.pl.spatial(adata, color=markers, ncols=4, return_fig=True, vmin=0.)\n",
    "    plt.show()"
   ]
  },
  {
   "cell_type": "code",
   "execution_count": null,
   "id": "7a752a6b",
   "metadata": {},
   "outputs": [],
   "source": [
    "for sample, adata in adata_map.items():\n",
    "    print(sample)\n",
    "    markers = ['BGN', 'FAP', 'SPARC']\n",
    "    markers += [f'predicted_{m}' for m in markers]\n",
    "    sc.pl.spatial(adata, color=markers, ncols=3, return_fig=True, vmin=0.)\n",
    "    plt.show()"
   ]
  },
  {
   "cell_type": "code",
   "execution_count": null,
   "id": "7d9fc3ca",
   "metadata": {},
   "outputs": [],
   "source": [
    "for sample, adata in adata_map.items():\n",
    "    print(sample)\n",
    "    markers = ['ITGAX', 'LYZ', 'CD68', 'CD14']\n",
    "    markers += [f'predicted_{m}' for m in markers]\n",
    "    sc.pl.spatial(adata, color=markers, ncols=4, return_fig=True, vmin=0.)\n",
    "    plt.show()"
   ]
  },
  {
   "cell_type": "code",
   "execution_count": null,
   "id": "2145978a",
   "metadata": {},
   "outputs": [],
   "source": [
    "for sample, adata in adata_map.items():\n",
    "    print(sample)\n",
    "    markers = ['SDC1', 'PECAM1']\n",
    "    markers += [f'predicted_{m}' for m in markers]\n",
    "    sc.pl.spatial(adata, color=markers, ncols=2, return_fig=True, vmin=0.)\n",
    "    plt.show()"
   ]
  },
  {
   "cell_type": "code",
   "execution_count": null,
   "id": "12fbec0e",
   "metadata": {},
   "outputs": [],
   "source": []
  },
  {
   "cell_type": "code",
   "execution_count": null,
   "id": "4d3537b3",
   "metadata": {},
   "outputs": [],
   "source": [
    "a = adata_map['HT206B1_H8_U2']\n",
    "adata.obs.sort_values('predicted_EPCAM')"
   ]
  },
  {
   "cell_type": "code",
   "execution_count": null,
   "id": "3857c6da",
   "metadata": {},
   "outputs": [],
   "source": []
  },
  {
   "cell_type": "code",
   "execution_count": null,
   "id": "ba86ca33",
   "metadata": {},
   "outputs": [],
   "source": []
  },
  {
   "cell_type": "code",
   "execution_count": null,
   "id": "ff9f9c38",
   "metadata": {},
   "outputs": [],
   "source": [
    "meta = json.load(open(summary))\n",
    "regressor = load_trained_st_regressor(weights, meta)"
   ]
  },
  {
   "cell_type": "code",
   "execution_count": null,
   "id": "1135f3ee",
   "metadata": {},
   "outputs": [],
   "source": [
    "tile_fps = sorted(listfiles(img_dir, regex='HT206B1_H8_U2'))\n",
    "tile_fps"
   ]
  },
  {
   "cell_type": "code",
   "execution_count": null,
   "id": "43abd871",
   "metadata": {},
   "outputs": [],
   "source": [
    "barcode = 'AAACCCGAACGAAATC-1'\n",
    "fp = [fp for fp in tile_fps if barcode in fp][0]\n",
    "fp"
   ]
  },
  {
   "cell_type": "code",
   "execution_count": null,
   "id": "bf86f9e9",
   "metadata": {},
   "outputs": [],
   "source": [
    "default_loader(fp)"
   ]
  },
  {
   "cell_type": "code",
   "execution_count": null,
   "id": "39f1d4b7",
   "metadata": {
    "scrolled": false
   },
   "outputs": [],
   "source": [
    "plot_attention_rollup(fp, regressor.vit)"
   ]
  },
  {
   "cell_type": "code",
   "execution_count": null,
   "id": "99793a55",
   "metadata": {},
   "outputs": [],
   "source": []
  }
 ],
 "metadata": {
  "kernelspec": {
   "display_name": "Python 3",
   "language": "python",
   "name": "python3"
  },
  "language_info": {
   "codemirror_mode": {
    "name": "ipython",
    "version": 3
   },
   "file_extension": ".py",
   "mimetype": "text/x-python",
   "name": "python",
   "nbconvert_exporter": "python",
   "pygments_lexer": "ipython3",
   "version": "3.8.10"
  }
 },
 "nbformat": 4,
 "nbformat_minor": 5
}
