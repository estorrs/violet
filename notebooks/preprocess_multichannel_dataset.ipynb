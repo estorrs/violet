{
 "cells": [
  {
   "cell_type": "code",
   "execution_count": 1,
   "id": "7a680520",
   "metadata": {},
   "outputs": [],
   "source": [
    "import os\n",
    "import re\n",
    "from pathlib import Path\n",
    "\n",
    "import numpy as np\n",
    "from PIL import Image"
   ]
  },
  {
   "cell_type": "code",
   "execution_count": 2,
   "id": "f43cad0d",
   "metadata": {},
   "outputs": [],
   "source": [
    "%load_ext autoreload"
   ]
  },
  {
   "cell_type": "code",
   "execution_count": 3,
   "id": "43acd1fe",
   "metadata": {},
   "outputs": [],
   "source": [
    "%autoreload 2"
   ]
  },
  {
   "cell_type": "code",
   "execution_count": 4,
   "id": "56069884",
   "metadata": {},
   "outputs": [],
   "source": [
    "from violet.utils.preprocessing import extract_and_write_multichannel\n",
    "from violet.utils.dataloaders import listfiles"
   ]
  },
  {
   "cell_type": "markdown",
   "id": "33413bc3",
   "metadata": {
    "heading_collapsed": true
   },
   "source": [
    "###### linking"
   ]
  },
  {
   "cell_type": "code",
   "execution_count": 11,
   "id": "09e3398d",
   "metadata": {
    "hidden": true,
    "scrolled": true
   },
   "outputs": [
    {
     "data": {
      "text/plain": [
       "['/home/estorrs/imaging/data/codex/codex_processed_hu_pancreas_TrisEDTA/codex_processed/codex_processed_hu_pancreas_TrisEDTA_2020-10-08/stitched/reg001_cyc001_ch001_DAPI1.tif',\n",
       " '/home/estorrs/imaging/data/codex/codex_processed_hu_pancreas_TrisEDTA/codex_processed/codex_processed_hu_pancreas_TrisEDTA_2020-10-08/stitched/reg001_cyc002_ch001_DAPI2.tif',\n",
       " '/home/estorrs/imaging/data/codex/codex_processed_hu_pancreas_TrisEDTA/codex_processed/codex_processed_hu_pancreas_TrisEDTA_2020-10-08/stitched/reg001_cyc002_ch002_Ki67.tif',\n",
       " '/home/estorrs/imaging/data/codex/codex_processed_hu_pancreas_TrisEDTA/codex_processed/codex_processed_hu_pancreas_TrisEDTA_2020-10-08/stitched/reg001_cyc002_ch003_CD3e.tif',\n",
       " '/home/estorrs/imaging/data/codex/codex_processed_hu_pancreas_TrisEDTA/codex_processed/codex_processed_hu_pancreas_TrisEDTA_2020-10-08/stitched/reg001_cyc002_ch004_CD20.tif',\n",
       " '/home/estorrs/imaging/data/codex/codex_processed_hu_pancreas_TrisEDTA/codex_processed/codex_processed_hu_pancreas_TrisEDTA_2020-10-08/stitched/reg001_cyc003_ch001_DAPI3.tif',\n",
       " '/home/estorrs/imaging/data/codex/codex_processed_hu_pancreas_TrisEDTA/codex_processed/codex_processed_hu_pancreas_TrisEDTA_2020-10-08/stitched/reg001_cyc003_ch002_CD44.tif',\n",
       " '/home/estorrs/imaging/data/codex/codex_processed_hu_pancreas_TrisEDTA/codex_processed/codex_processed_hu_pancreas_TrisEDTA_2020-10-08/stitched/reg001_cyc003_ch003_CD4.tif',\n",
       " '/home/estorrs/imaging/data/codex/codex_processed_hu_pancreas_TrisEDTA/codex_processed/codex_processed_hu_pancreas_TrisEDTA_2020-10-08/stitched/reg001_cyc003_ch004_CD31.tif',\n",
       " '/home/estorrs/imaging/data/codex/codex_processed_hu_pancreas_TrisEDTA/codex_processed/codex_processed_hu_pancreas_TrisEDTA_2020-10-08/stitched/reg001_cyc004_ch001_DAPI4.tif',\n",
       " '/home/estorrs/imaging/data/codex/codex_processed_hu_pancreas_TrisEDTA/codex_processed/codex_processed_hu_pancreas_TrisEDTA_2020-10-08/stitched/reg001_cyc004_ch002_CD45RO.tif',\n",
       " '/home/estorrs/imaging/data/codex/codex_processed_hu_pancreas_TrisEDTA/codex_processed/codex_processed_hu_pancreas_TrisEDTA_2020-10-08/stitched/reg001_cyc004_ch003_CD11c.tif',\n",
       " '/home/estorrs/imaging/data/codex/codex_processed_hu_pancreas_TrisEDTA/codex_processed/codex_processed_hu_pancreas_TrisEDTA_2020-10-08/stitched/reg001_cyc004_ch004_pancytok.tif',\n",
       " '/home/estorrs/imaging/data/codex/codex_processed_hu_pancreas_TrisEDTA/codex_processed/codex_processed_hu_pancreas_TrisEDTA_2020-10-08/stitched/reg001_cyc005_ch001_DAPI5.tif',\n",
       " '/home/estorrs/imaging/data/codex/codex_processed_hu_pancreas_TrisEDTA/codex_processed/codex_processed_hu_pancreas_TrisEDTA_2020-10-08/stitched/reg001_cyc005_ch002_ecadherin.tif',\n",
       " '/home/estorrs/imaging/data/codex/codex_processed_hu_pancreas_TrisEDTA/codex_processed/codex_processed_hu_pancreas_TrisEDTA_2020-10-08/stitched/reg001_cyc005_ch003_CD45.tif',\n",
       " '/home/estorrs/imaging/data/codex/codex_processed_hu_pancreas_TrisEDTA/codex_processed/codex_processed_hu_pancreas_TrisEDTA_2020-10-08/stitched/reg001_cyc006_ch001_DAPI6.tif',\n",
       " '/home/estorrs/imaging/data/codex/codex_processed_hu_pancreas_TrisEDTA/codex_processed/codex_processed_hu_pancreas_TrisEDTA_2020-10-08/stitched/reg001_cyc006_ch002_CD8.tif',\n",
       " '/home/estorrs/imaging/data/codex/codex_processed_hu_pancreas_TrisEDTA/codex_processed/codex_processed_hu_pancreas_TrisEDTA_2020-10-08/stitched/reg001_cyc006_ch003_CD68.tif',\n",
       " '/home/estorrs/imaging/data/codex/codex_processed_hu_pancreas_TrisEDTA/codex_processed/codex_processed_hu_pancreas_TrisEDTA_2020-10-08/stitched/reg001_cyc006_ch004_actin.tif',\n",
       " '/home/estorrs/imaging/data/codex/codex_processed_hu_pancreas_TrisEDTA/codex_processed/codex_processed_hu_pancreas_TrisEDTA_2020-10-08/stitched/reg001_cyc007_ch001_DAPI7.tif',\n",
       " '/home/estorrs/imaging/data/codex/codex_processed_hu_pancreas_TrisEDTA/codex_processed/codex_processed_hu_pancreas_TrisEDTA_2020-10-08/stitched/reg001_cyc007_ch002_CD21.tif',\n",
       " '/home/estorrs/imaging/data/codex/codex_processed_hu_pancreas_TrisEDTA/codex_processed/codex_processed_hu_pancreas_TrisEDTA_2020-10-08/stitched/reg001_cyc007_ch003_HLADR.tif',\n",
       " '/home/estorrs/imaging/data/codex/codex_processed_hu_pancreas_TrisEDTA/codex_processed/codex_processed_hu_pancreas_TrisEDTA_2020-10-08/stitched/reg001_cyc008_ch001_DAPI8.tif',\n",
       " '/home/estorrs/imaging/data/codex/codex_processed_hu_pancreas_TrisEDTA/codex_processed/codex_processed_hu_pancreas_TrisEDTA_2020-10-08/stitched/reg001_cyc008_ch002_Mac2.tif',\n",
       " '/home/estorrs/imaging/data/codex/codex_processed_hu_pancreas_TrisEDTA/codex_processed/codex_processed_hu_pancreas_TrisEDTA_2020-10-08/stitched/reg001_cyc008_ch003_CD107a.tif',\n",
       " '/home/estorrs/imaging/data/codex/codex_processed_hu_pancreas_TrisEDTA/codex_processed/codex_processed_hu_pancreas_TrisEDTA_2020-10-08/stitched/reg001_cyc009_ch001_DAPI9.tif']"
      ]
     },
     "execution_count": 11,
     "metadata": {},
     "output_type": "execute_result"
    }
   ],
   "source": [
    "fps = sorted(listfiles('/home/estorrs/imaging/data/codex/codex_processed_hu_pancreas_TrisEDTA/codex_processed/codex_processed_hu_pancreas_TrisEDTA_2020-10-08/stitched/', regex=r'.tif$'))\n",
    "fps"
   ]
  },
  {
   "cell_type": "code",
   "execution_count": 12,
   "id": "cfa6b7ae",
   "metadata": {
    "hidden": true
   },
   "outputs": [],
   "source": [
    "d = '../data/codex/test/hu_pancreas_TrisEDTA/'"
   ]
  },
  {
   "cell_type": "code",
   "execution_count": 15,
   "id": "70a89f28",
   "metadata": {
    "hidden": true
   },
   "outputs": [],
   "source": [
    "# temporarily remap\n",
    "import subprocess\n",
    "for fp in fps:\n",
    "    identifier = fp.split('/')[-1]\n",
    "    identifier = re.sub(r'^.*_.*_.*_(.*).tif$', r'\\1', identifier)\n",
    "    new = os.path.join(d, f'{identifier}.tif')\n",
    "    c = f'ln -s {fp} {new}'\n",
    "    subprocess.check_output(c, shell=True)"
   ]
  },
  {
   "cell_type": "markdown",
   "id": "06d89789",
   "metadata": {},
   "source": [
    "###### main"
   ]
  },
  {
   "cell_type": "code",
   "execution_count": 5,
   "id": "67a65d0b",
   "metadata": {},
   "outputs": [
    {
     "data": {
      "text/plain": [
       "['../data/codex/test/hu_pancreas_TrisEDTA/CD107a.tif',\n",
       " '../data/codex/test/hu_pancreas_TrisEDTA/CD11c.tif',\n",
       " '../data/codex/test/hu_pancreas_TrisEDTA/CD20.tif',\n",
       " '../data/codex/test/hu_pancreas_TrisEDTA/CD21.tif',\n",
       " '../data/codex/test/hu_pancreas_TrisEDTA/CD31.tif',\n",
       " '../data/codex/test/hu_pancreas_TrisEDTA/CD3e.tif',\n",
       " '../data/codex/test/hu_pancreas_TrisEDTA/CD4.tif',\n",
       " '../data/codex/test/hu_pancreas_TrisEDTA/CD44.tif',\n",
       " '../data/codex/test/hu_pancreas_TrisEDTA/CD45.tif',\n",
       " '../data/codex/test/hu_pancreas_TrisEDTA/CD45RO.tif',\n",
       " '../data/codex/test/hu_pancreas_TrisEDTA/CD68.tif',\n",
       " '../data/codex/test/hu_pancreas_TrisEDTA/CD8.tif',\n",
       " '../data/codex/test/hu_pancreas_TrisEDTA/DAPI1.tif',\n",
       " '../data/codex/test/hu_pancreas_TrisEDTA/DAPI2.tif',\n",
       " '../data/codex/test/hu_pancreas_TrisEDTA/DAPI3.tif',\n",
       " '../data/codex/test/hu_pancreas_TrisEDTA/DAPI4.tif',\n",
       " '../data/codex/test/hu_pancreas_TrisEDTA/DAPI5.tif',\n",
       " '../data/codex/test/hu_pancreas_TrisEDTA/DAPI6.tif',\n",
       " '../data/codex/test/hu_pancreas_TrisEDTA/DAPI7.tif',\n",
       " '../data/codex/test/hu_pancreas_TrisEDTA/DAPI8.tif',\n",
       " '../data/codex/test/hu_pancreas_TrisEDTA/DAPI9.tif',\n",
       " '../data/codex/test/hu_pancreas_TrisEDTA/HLADR.tif',\n",
       " '../data/codex/test/hu_pancreas_TrisEDTA/Ki67.tif',\n",
       " '../data/codex/test/hu_pancreas_TrisEDTA/Mac2.tif',\n",
       " '../data/codex/test/hu_pancreas_TrisEDTA/actin.tif',\n",
       " '../data/codex/test/hu_pancreas_TrisEDTA/ecadherin.tif',\n",
       " '../data/codex/test/hu_pancreas_TrisEDTA/pancytok.tif']"
      ]
     },
     "execution_count": 5,
     "metadata": {},
     "output_type": "execute_result"
    }
   ],
   "source": [
    "# gather files\n",
    "fps = sorted(listfiles('../data/codex/test/', regex=r'.tif$'))\n",
    "fps"
   ]
  },
  {
   "cell_type": "code",
   "execution_count": 6,
   "id": "eb15dc7d",
   "metadata": {},
   "outputs": [
    {
     "data": {
      "text/plain": [
       "1"
      ]
     },
     "execution_count": 6,
     "metadata": {},
     "output_type": "execute_result"
    }
   ],
   "source": [
    "data_map = {}\n",
    "for fp in fps:\n",
    "    sample = fp.split('/')[-2]\n",
    "    if sample not in data_map:\n",
    "        data_map[sample] = {}\n",
    "    \n",
    "    channel = fp.split('/')[-1].replace('.tif', '')\n",
    "    data_map[sample][channel] = fp\n",
    "len(data_map)"
   ]
  },
  {
   "cell_type": "code",
   "execution_count": 7,
   "id": "4656e08d",
   "metadata": {},
   "outputs": [],
   "source": [
    "# convert dapi\n",
    "for s, d in data_map.items():\n",
    "    rem = [k for k in d.keys() if 'DAPI' in k]\n",
    "    d['DAPI'] = str(d['DAPI1'])\n",
    "    for k in rem:\n",
    "        d.pop(k)"
   ]
  },
  {
   "cell_type": "code",
   "execution_count": 8,
   "id": "b79d5f0c",
   "metadata": {},
   "outputs": [
    {
     "data": {
      "text/plain": [
       "[('CD107a', 1),\n",
       " ('CD11c', 1),\n",
       " ('CD20', 1),\n",
       " ('CD21', 1),\n",
       " ('CD31', 1),\n",
       " ('CD3e', 1),\n",
       " ('CD4', 1),\n",
       " ('CD44', 1),\n",
       " ('CD45', 1),\n",
       " ('CD45RO', 1),\n",
       " ('CD68', 1),\n",
       " ('CD8', 1),\n",
       " ('HLADR', 1),\n",
       " ('Ki67', 1),\n",
       " ('Mac2', 1),\n",
       " ('actin', 1),\n",
       " ('ecadherin', 1),\n",
       " ('pancytok', 1),\n",
       " ('DAPI', 1)]"
      ]
     },
     "execution_count": 8,
     "metadata": {},
     "output_type": "execute_result"
    }
   ],
   "source": [
    "from collections import Counter\n",
    "ks = [k for s, d in data_map.items() for k in d]\n",
    "Counter(ks).most_common()"
   ]
  },
  {
   "cell_type": "code",
   "execution_count": 9,
   "id": "0539f26e",
   "metadata": {},
   "outputs": [
    {
     "data": {
      "text/plain": [
       "['CD107a',\n",
       " 'CD11c',\n",
       " 'CD20',\n",
       " 'CD21',\n",
       " 'CD31',\n",
       " 'CD3e',\n",
       " 'CD4',\n",
       " 'CD44',\n",
       " 'CD45',\n",
       " 'CD45RO',\n",
       " 'CD68',\n",
       " 'CD8',\n",
       " 'DAPI',\n",
       " 'HLADR',\n",
       " 'Ki67',\n",
       " 'Mac2',\n",
       " 'actin',\n",
       " 'ecadherin',\n",
       " 'pancytok']"
      ]
     },
     "execution_count": 9,
     "metadata": {},
     "output_type": "execute_result"
    }
   ],
   "source": [
    "sorted(set(ks))"
   ]
  },
  {
   "cell_type": "code",
   "execution_count": 10,
   "id": "d808d2a7",
   "metadata": {},
   "outputs": [
    {
     "name": "stdout",
     "output_type": "stream",
     "text": [
      "CD107a\n",
      "CD11c\n",
      "CD20\n",
      "CD21\n",
      "CD31\n",
      "CD3e\n",
      "CD4\n",
      "CD44\n",
      "CD45\n",
      "CD45RO\n",
      "CD68\n",
      "CD8\n",
      "DAPI\n",
      "HLADR\n",
      "Ki67\n",
      "Mac2\n",
      "actin\n",
      "ecadherin\n",
      "pancytok\n"
     ]
    }
   ],
   "source": [
    "output_dir = '/home/estorrs/violet/data/codex/tile_test_panc_07062021_256res'\n",
    "extract_and_write_multichannel(data_map, output_dir, resolution=256.)"
   ]
  },
  {
   "cell_type": "code",
   "execution_count": null,
   "id": "d65622b6",
   "metadata": {},
   "outputs": [],
   "source": []
  }
 ],
 "metadata": {
  "kernelspec": {
   "display_name": "Python 3",
   "language": "python",
   "name": "python3"
  },
  "language_info": {
   "codemirror_mode": {
    "name": "ipython",
    "version": 3
   },
   "file_extension": ".py",
   "mimetype": "text/x-python",
   "name": "python",
   "nbconvert_exporter": "python",
   "pygments_lexer": "ipython3",
   "version": "3.8.10"
  }
 },
 "nbformat": 4,
 "nbformat_minor": 5
}
