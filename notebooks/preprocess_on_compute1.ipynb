{
 "cells": [
  {
   "cell_type": "code",
   "execution_count": 4,
   "id": "24a98366",
   "metadata": {},
   "outputs": [],
   "source": [
    "import os\n",
    "\n",
    "from mgitools.os_helpers import listfiles\n",
    "from mgitools.bsub import generate_bsub_bash_script, generate_bsub_command"
   ]
  },
  {
   "cell_type": "code",
   "execution_count": 9,
   "id": "8e557364",
   "metadata": {},
   "outputs": [],
   "source": [
    "local_in = '/data/tcia/PDA/'\n",
    "compute1_in = '/storage1/fs1/dinglab/Active/Projects/estorrs/violet_data/tcia/PDA'\n",
    "compute1_out = '/storage1/fs1/dinglab/Active/Projects/estorrs/violet/data/he/tcia/pda'\n",
    "compute1_script = '/storage1/fs1/dinglab/Active/Projects/estorrs/violet/violet/violet_preprocess.py'\n",
    "\n",
    "ref = 'pancreas'"
   ]
  },
  {
   "cell_type": "code",
   "execution_count": null,
   "id": "4a88dc3a",
   "metadata": {},
   "outputs": [],
   "source": []
  },
  {
   "cell_type": "code",
   "execution_count": 5,
   "id": "6a381386",
   "metadata": {},
   "outputs": [
    {
     "data": {
      "text/plain": [
       "(557, ['/data/tcia/PDA/C3L-00017-21.svs', '/data/tcia/PDA/C3L-00017-22.svs'])"
      ]
     },
     "execution_count": 5,
     "metadata": {},
     "output_type": "execute_result"
    }
   ],
   "source": [
    "fps = sorted(listfiles(local_in, regex='.svs$'))\n",
    "len(fps), fps[:2]"
   ]
  },
  {
   "cell_type": "code",
   "execution_count": 7,
   "id": "d2fbf0fd",
   "metadata": {},
   "outputs": [],
   "source": [
    "def get_svs_command(fp):\n",
    "    command = f'python {compute1_script} svs {fp} {compute1_out} --reference {ref}'"
   ]
  },
  {
   "cell_type": "code",
   "execution_count": 11,
   "id": "aea10eeb",
   "metadata": {},
   "outputs": [],
   "source": [
    "commands = [get_svs_command(fp) for fp in fps]\n",
    "log_fps = ['log/' + fp.split('/')[-1].replace('.svs', '.log') for fp in fps]"
   ]
  },
  {
   "cell_type": "code",
   "execution_count": 2,
   "id": "fc21f468",
   "metadata": {},
   "outputs": [
    {
     "data": {
      "text/plain": [
       "\"bsub -R 'select[mem>10000] rusage[mem=10000] span[hosts=1]' -M 10000000 -q dinglab -G compute-dinglab -o job.output -oo job.log -a 'docker(python:3.7)' 'echo hello'\""
      ]
     },
     "execution_count": 2,
     "metadata": {},
     "output_type": "execute_result"
    }
   ],
   "source": [
    "generate_bsub_command('echo hello', 'python:3.7', )"
   ]
  },
  {
   "cell_type": "code",
   "execution_count": null,
   "id": "574f8847",
   "metadata": {},
   "outputs": [],
   "source": [
    "generate_bsub_bash_script(commands, '')"
   ]
  }
 ],
 "metadata": {
  "kernelspec": {
   "display_name": "Python 3",
   "language": "python",
   "name": "python3"
  },
  "language_info": {
   "codemirror_mode": {
    "name": "ipython",
    "version": 3
   },
   "file_extension": ".py",
   "mimetype": "text/x-python",
   "name": "python",
   "nbconvert_exporter": "python",
   "pygments_lexer": "ipython3",
   "version": "3.8.10"
  }
 },
 "nbformat": 4,
 "nbformat_minor": 5
}
