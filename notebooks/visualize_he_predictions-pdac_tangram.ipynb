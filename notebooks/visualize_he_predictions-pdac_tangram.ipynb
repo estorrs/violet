{
 "cells": [
  {
   "cell_type": "code",
   "execution_count": null,
   "id": "d8c9cc7b",
   "metadata": {},
   "outputs": [],
   "source": [
    "import os\n",
    "import json\n",
    "import re\n",
    "\n",
    "import numpy as np\n",
    "import pandas as pd\n",
    "import torch\n",
    "import scanpy as sc"
   ]
  },
  {
   "cell_type": "code",
   "execution_count": null,
   "id": "3152cd11",
   "metadata": {},
   "outputs": [],
   "source": [
    "%load_ext autoreload"
   ]
  },
  {
   "cell_type": "code",
   "execution_count": null,
   "id": "4db8b300",
   "metadata": {},
   "outputs": [],
   "source": [
    "%autoreload 2"
   ]
  },
  {
   "cell_type": "code",
   "execution_count": null,
   "id": "75e952d3",
   "metadata": {},
   "outputs": [],
   "source": [
    "from violet.utils.dataloaders import listfiles\n",
    "from violet.utils.st import predict_he_tiles, predict_visium, predict_svs\n",
    "from violet.utils.preprocessing import normalize_counts, get_svs_tile_shape, get_svs_array\n",
    "from violet.utils.analysis import display_predictions, display_2d_scatter"
   ]
  },
  {
   "cell_type": "code",
   "execution_count": null,
   "id": "453456c0",
   "metadata": {},
   "outputs": [],
   "source": [
    "import matplotlib as mpl\n",
    "mpl.rcParams['figure.dpi'] = 180"
   ]
  },
  {
   "cell_type": "code",
   "execution_count": null,
   "id": "ab87f6e9",
   "metadata": {},
   "outputs": [],
   "source": [
    "img_dir = '/data/tcia/PDA_preprocessed_small_raw/'\n",
    "weights = '/home/estorrs/violet/sandbox/runs/pdac_ffpe_tcia_raw_augmented_20samples/checkpoints/final.pth'\n",
    "summary = '/home/estorrs/violet/sandbox/runs/pdac_ffpe_tcia_raw_augmented_20samples/summary.json'"
   ]
  },
  {
   "cell_type": "markdown",
   "id": "873f97a0",
   "metadata": {},
   "source": [
    "###### for visium"
   ]
  },
  {
   "cell_type": "code",
   "execution_count": null,
   "id": "0b7e3702",
   "metadata": {},
   "outputs": [],
   "source": [
    "def get_target_df(folder):\n",
    "    target_df = None\n",
    "    fps = listfiles(folder, regex=r'_sp.h5ad$')\n",
    "    for fp in fps:\n",
    "        a = sc.read_h5ad(fp)\n",
    "        sample = fp.split('/')[-1].split('.')[0].split('_sp')[0]\n",
    "        df = a.obsm['tangram_ct_pred']\n",
    "        df = pd.DataFrame(data=df.values / np.max(df.values, axis=0),\n",
    "                         columns=df.columns, index=df.index)\n",
    "        df.index = [f'{sample}_{x}' for x in df.index]\n",
    "        \n",
    "        if target_df is None:\n",
    "            target_df = df\n",
    "        else:\n",
    "            target_df = pd.concat((target_df, df))\n",
    "    return target_df"
   ]
  },
  {
   "cell_type": "code",
   "execution_count": null,
   "id": "3a636f2f",
   "metadata": {},
   "outputs": [],
   "source": [
    "target_df = get_target_df('/home/estorrs/tangram_annotation/results/pdac_ffpe/')\n",
    "target_df.columns = [f'tangram_{c}' for c in target_df.columns]\n",
    "target_df"
   ]
  },
  {
   "cell_type": "code",
   "execution_count": null,
   "id": "4402923f",
   "metadata": {},
   "outputs": [],
   "source": [
    "filemap = pd.read_csv('/home/estorrs/spatial-analysis/data/sample_map.txt', sep='\\t')\n",
    "filemap = filemap[~pd.isnull(filemap['highres_image'])]\n",
    "filemap = filemap.set_index('sample_id')\n",
    "filemap"
   ]
  },
  {
   "cell_type": "code",
   "execution_count": null,
   "id": "2d35d8b7",
   "metadata": {},
   "outputs": [],
   "source": [
    "tups = [(i, row['spaceranger_output'], row['highres_image'])\n",
    "        for i, row in filemap.iterrows()\n",
    "        if row['disease'] == 'pdac' and row['tissue_type'] == 'ffpe']\n",
    "tups"
   ]
  },
  {
   "cell_type": "code",
   "execution_count": null,
   "id": "b3df77fb",
   "metadata": {},
   "outputs": [],
   "source": [
    "# ??predict_visium"
   ]
  },
  {
   "cell_type": "code",
   "execution_count": null,
   "id": "9acd84e1",
   "metadata": {},
   "outputs": [],
   "source": [
    "adata_map = {}\n",
    "for s_id, s, h in tups:\n",
    "    a = predict_visium(s, h, weights, summary, tmp_dir='../sandbox/tmp', )\n",
    "    adata_map[s_id] = a\n",
    "adata_map.keys()"
   ]
  },
  {
   "cell_type": "code",
   "execution_count": null,
   "id": "e74f2477",
   "metadata": {
    "scrolled": true
   },
   "outputs": [],
   "source": [
    "import json\n",
    "summ = json.load(open(summary))\n",
    "summ"
   ]
  },
  {
   "cell_type": "code",
   "execution_count": null,
   "id": "383e3863",
   "metadata": {},
   "outputs": [],
   "source": [
    "sample = 'HT270P1_S1H1Fs5U1'\n",
    "adata = adata_map[sample]\n",
    "sample"
   ]
  },
  {
   "cell_type": "code",
   "execution_count": null,
   "id": "f7c7d246",
   "metadata": {},
   "outputs": [],
   "source": [
    "adata"
   ]
  },
  {
   "cell_type": "code",
   "execution_count": null,
   "id": "9bdfddb0",
   "metadata": {},
   "outputs": [],
   "source": [
    "t = target_df[[True if sample in x else False for x in target_df.index]].copy()\n",
    "t.index = [x.split('_')[-1] for x in t.index]\n",
    "adata.obs = pd.merge(adata.obs, t, left_index=True, right_index=True)"
   ]
  },
  {
   "cell_type": "code",
   "execution_count": null,
   "id": "4cf3210b",
   "metadata": {},
   "outputs": [],
   "source": [
    "adata.obs"
   ]
  },
  {
   "cell_type": "code",
   "execution_count": null,
   "id": "736fbb6b",
   "metadata": {},
   "outputs": [],
   "source": [
    "adata.X"
   ]
  },
  {
   "cell_type": "code",
   "execution_count": null,
   "id": "b6fe7316",
   "metadata": {},
   "outputs": [],
   "source": [
    "sc.pl.spatial(adata)"
   ]
  },
  {
   "cell_type": "code",
   "execution_count": null,
   "id": "5047668f",
   "metadata": {},
   "outputs": [],
   "source": [
    "sc.pl.spatial(adata, color=['KRT18', 'CDH1', 'EPCAM', 'predicted_Malignant'], vmin=0., wspace=.0)"
   ]
  },
  {
   "cell_type": "code",
   "execution_count": null,
   "id": "ca04fa6e",
   "metadata": {},
   "outputs": [],
   "source": [
    "sc.pl.spatial(adata, color=['PTPRC', 'CD3E', 'CD8A', 'CD4'], vmin=0., wspace=.0)"
   ]
  },
  {
   "cell_type": "code",
   "execution_count": null,
   "id": "31a4dd3d",
   "metadata": {},
   "outputs": [],
   "source": [
    "sc.pl.spatial(adata, color=['predicted_CD8 T cell', 'predicted_CD4 T cell', 'predicted_Treg', 'predicted_B cell'],\n",
    "             wspace=0)"
   ]
  },
  {
   "cell_type": "code",
   "execution_count": null,
   "id": "7dd1a16f",
   "metadata": {},
   "outputs": [],
   "source": [
    "sc.pl.spatial(adata, color=['tangram_CD8 T cell', 'tangram_CD4 T cell', 'tangram_Treg', 'tangram_B cell'], wspace=0)"
   ]
  },
  {
   "cell_type": "code",
   "execution_count": null,
   "id": "17f99680",
   "metadata": {},
   "outputs": [],
   "source": [
    "sample = 'HT264P1_S1H2Fs1_U1'\n",
    "adata = adata_map[sample]\n",
    "sample"
   ]
  },
  {
   "cell_type": "code",
   "execution_count": null,
   "id": "731914ca",
   "metadata": {},
   "outputs": [],
   "source": [
    "sc.pl.spatial(adata)"
   ]
  },
  {
   "cell_type": "code",
   "execution_count": null,
   "id": "2f071135",
   "metadata": {},
   "outputs": [],
   "source": [
    "sc.pl.spatial(adata, color=['KRT18', 'CDH1', 'EPCAM', 'predicted_Malignant'], vmin=0., )"
   ]
  },
  {
   "cell_type": "code",
   "execution_count": null,
   "id": "5d4ebfcb",
   "metadata": {},
   "outputs": [],
   "source": [
    "sc.pl.spatial(adata, color=['PTPRC', 'CD3E', 'CD8A', 'CD4'], vmin=0., wspace=.001)"
   ]
  },
  {
   "cell_type": "code",
   "execution_count": null,
   "id": "e47c245a",
   "metadata": {},
   "outputs": [],
   "source": [
    "sc.pl.spatial(adata, color=['predicted_CD8 T cell', 'predicted_CD4 T cell', 'predicted_Treg', 'predicted_B cell'])"
   ]
  },
  {
   "cell_type": "code",
   "execution_count": null,
   "id": "0853a1ec",
   "metadata": {},
   "outputs": [],
   "source": []
  },
  {
   "cell_type": "code",
   "execution_count": null,
   "id": "eec22760",
   "metadata": {},
   "outputs": [],
   "source": []
  },
  {
   "cell_type": "code",
   "execution_count": null,
   "id": "6b506b63",
   "metadata": {},
   "outputs": [],
   "source": []
  },
  {
   "cell_type": "markdown",
   "id": "423ac4ad",
   "metadata": {},
   "source": [
    "###### for svs"
   ]
  },
  {
   "cell_type": "code",
   "execution_count": null,
   "id": "c4f799a7",
   "metadata": {},
   "outputs": [],
   "source": [
    "svs_fp = '/data/tcia/PDA/C3L-00401-22.svs'"
   ]
  },
  {
   "cell_type": "code",
   "execution_count": null,
   "id": "bb048c72",
   "metadata": {
    "scrolled": true
   },
   "outputs": [],
   "source": [
    "df, imgs, img_ids = predict_svs(svs_fp, weights, summary, tmp_dir='../sandbox/tmp', return_tiles=True)\n",
    "df"
   ]
  },
  {
   "cell_type": "code",
   "execution_count": null,
   "id": "8a442ce5",
   "metadata": {},
   "outputs": [],
   "source": [
    "# scale = .1\n",
    "\n",
    "# img = get_svs_array(svs_fp, scale=scale)\n",
    "\n",
    "# (n_rows, n_cols), tile_size = get_svs_tile_shape(svs_fp, resolution=res)\n",
    "# row_offset = img.shape[0] % n_rows\n",
    "# col_offset = img.shape[1] % n_cols"
   ]
  },
  {
   "cell_type": "code",
   "execution_count": null,
   "id": "26efc530",
   "metadata": {},
   "outputs": [],
   "source": [
    "# display_predictions(img, df, tile_size, 'CA9', scale,\n",
    "# #                    row_offset=row_offset, col_offset=col_offset,\n",
    "#                    alpha=1., s=.05)"
   ]
  },
  {
   "cell_type": "code",
   "execution_count": null,
   "id": "43e4cb53",
   "metadata": {},
   "outputs": [],
   "source": [
    "import matplotlib.pyplot as plt"
   ]
  },
  {
   "cell_type": "code",
   "execution_count": null,
   "id": "00702806",
   "metadata": {},
   "outputs": [],
   "source": [
    "scale = .1\n",
    "img = get_svs_array(svs_fp, scale=scale)\n",
    "plt.imshow(img)"
   ]
  },
  {
   "cell_type": "code",
   "execution_count": null,
   "id": "bddc8597",
   "metadata": {},
   "outputs": [],
   "source": [
    "from matplotlib import cm\n",
    "display_2d_scatter(df, 'Malignant')"
   ]
  },
  {
   "cell_type": "code",
   "execution_count": null,
   "id": "f09dcd8a",
   "metadata": {},
   "outputs": [],
   "source": [
    "import matplotlib.pyplot as plt\n",
    "for c in df.columns:\n",
    "    print(c)\n",
    "    display_2d_scatter(df, c, legend=True)\n",
    "    plt.show()"
   ]
  },
  {
   "cell_type": "code",
   "execution_count": null,
   "id": "09f2fd4e",
   "metadata": {},
   "outputs": [],
   "source": [
    "idxs = np.argsort(df['Malignant'].to_numpy())[-n:]\n",
    "df.iloc[idxs]"
   ]
  },
  {
   "cell_type": "code",
   "execution_count": null,
   "id": "8eecbb5f",
   "metadata": {},
   "outputs": [],
   "source": [
    "def plot_top_tiles(pred_df, cell_type, n=10):\n",
    "    m = pred_df.iloc[np.flip(np.argsort(pred_df[cell_type].to_numpy())[-n:])]\n",
    "    for img_id in m.index:\n",
    "        print(img_id, df.loc[img_id, cell_type])\n",
    "        plt.imshow(imgs[img_ids.index(img_id)])\n",
    "        plt.show()"
   ]
  },
  {
   "cell_type": "code",
   "execution_count": null,
   "id": "7e1587a3",
   "metadata": {},
   "outputs": [],
   "source": [
    "plot_top_tiles(df, 'Malignant')"
   ]
  },
  {
   "cell_type": "code",
   "execution_count": null,
   "id": "20bea902",
   "metadata": {},
   "outputs": [],
   "source": [
    "plot_top_tiles(df, 'CD4 T cell')"
   ]
  },
  {
   "cell_type": "code",
   "execution_count": null,
   "id": "b676992b",
   "metadata": {},
   "outputs": [],
   "source": [
    "df"
   ]
  }
 ],
 "metadata": {
  "kernelspec": {
   "display_name": "Python 3",
   "language": "python",
   "name": "python3"
  },
  "language_info": {
   "codemirror_mode": {
    "name": "ipython",
    "version": 3
   },
   "file_extension": ".py",
   "mimetype": "text/x-python",
   "name": "python",
   "nbconvert_exporter": "python",
   "pygments_lexer": "ipython3",
   "version": "3.8.10"
  }
 },
 "nbformat": 4,
 "nbformat_minor": 5
}
