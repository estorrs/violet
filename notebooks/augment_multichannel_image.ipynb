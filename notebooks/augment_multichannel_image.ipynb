{
 "cells": [
  {
   "cell_type": "code",
   "execution_count": null,
   "id": "8cf0f07b",
   "metadata": {},
   "outputs": [],
   "source": [
    "import os\n",
    "import re\n",
    "from pathlib import Path\n",
    "\n",
    "from einops import rearrange\n",
    "import numpy as np\n",
    "from PIL import Image"
   ]
  },
  {
   "cell_type": "code",
   "execution_count": null,
   "id": "3d8467be",
   "metadata": {},
   "outputs": [],
   "source": [
    "import torch"
   ]
  },
  {
   "cell_type": "code",
   "execution_count": null,
   "id": "366f67cc",
   "metadata": {},
   "outputs": [],
   "source": [
    "%load_ext autoreload"
   ]
  },
  {
   "cell_type": "code",
   "execution_count": null,
   "id": "d319a4a1",
   "metadata": {},
   "outputs": [],
   "source": [
    "%autoreload 2"
   ]
  },
  {
   "cell_type": "code",
   "execution_count": null,
   "id": "20c01033",
   "metadata": {},
   "outputs": [],
   "source": [
    "from violet.utils.dataloaders import listfiles, MultichannelImageDataset, multichannel_image_dataloader\n",
    "from violet.utils.dino_utils import DataAugmentationDINOMultichannel\n",
    "from violet.utils.multichannel import create_pseudocolor_image"
   ]
  },
  {
   "cell_type": "code",
   "execution_count": null,
   "id": "780bc9fb",
   "metadata": {},
   "outputs": [],
   "source": []
  },
  {
   "cell_type": "code",
   "execution_count": null,
   "id": "7416310a",
   "metadata": {},
   "outputs": [],
   "source": [
    "img_dir = '/home/estorrs/violet/data/codex/tile_test_panc_07062021_256res'\n",
    "img_dir = '/home/estorrs/violet/data/imc/bodenmiller_2019_128res/'\n"
   ]
  },
  {
   "cell_type": "code",
   "execution_count": null,
   "id": "6e53fe63",
   "metadata": {},
   "outputs": [],
   "source": [
    "\n",
    "transform = DataAugmentationDINOMultichannel(\n",
    "        (0.4, 1.),\n",
    "        (0.05, 0.4),\n",
    "        8\n",
    ")\n",
    "d1 = MultichannelImageDataset(img_dir, transform=transform, pad=False)\n",
    "d2 = MultichannelImageDataset(img_dir, transform=None, pad=False)\n",
    "\n",
    "\n",
    "# sampler = torch.utils.data.DistributedSampler(dataset, shuffle=True)\n",
    "# data_loader = torch.utils.data.DataLoader(\n",
    "#     dataset,\n",
    "#     sampler=sampler,\n",
    "#     batch_size=64,\n",
    "# )"
   ]
  },
  {
   "cell_type": "code",
   "execution_count": null,
   "id": "054b5194",
   "metadata": {},
   "outputs": [],
   "source": [
    "d1.samples, d1.channels"
   ]
  },
  {
   "cell_type": "code",
   "execution_count": null,
   "id": "a5ab975c",
   "metadata": {},
   "outputs": [],
   "source": [
    "for i in range(2000, 3000, 1):\n",
    "    print(i)\n",
    "    x = rearrange(d2[i], 'c h w -> h w c').numpy()\n",
    "    pseudo = create_pseudocolor_image(x, d1, ['pan Cytokeratin', 'EGFR', 'Ki-67'])\n",
    "    plt.imshow(pseudo)\n",
    "    plt.show()"
   ]
  },
  {
   "cell_type": "code",
   "execution_count": null,
   "id": "3c1a9e5c",
   "metadata": {},
   "outputs": [],
   "source": [
    "xs1 = d1[41]\n",
    "raw = d2[41]"
   ]
  },
  {
   "cell_type": "code",
   "execution_count": null,
   "id": "4e124f47",
   "metadata": {},
   "outputs": [],
   "source": [
    "import matplotlib.pyplot as plt\n",
    "for i, x in enumerate(xs1):\n",
    "    print(i)\n",
    "    x = rearrange(x, 'c h w -> h w c').numpy()\n",
    "    pseudo = create_pseudocolor_image(x, d1, ['DAPI', 'Ki67', 'CD20', 'CD8', 'pancytok'])\n",
    "    plt.imshow(pseudo)\n",
    "    plt.show()"
   ]
  },
  {
   "cell_type": "code",
   "execution_count": null,
   "id": "e943a146",
   "metadata": {},
   "outputs": [],
   "source": [
    "x = rearrange(raw, 'c h w -> h w c').numpy()\n",
    "pseudo = create_pseudocolor_image(x, d1, ['DAPI', 'Ki67', 'CD20', 'CD8', 'pancytok'])\n",
    "plt.imshow(pseudo)\n",
    "plt.show()"
   ]
  },
  {
   "cell_type": "code",
   "execution_count": null,
   "id": "1c2997d0",
   "metadata": {},
   "outputs": [],
   "source": []
  },
  {
   "cell_type": "code",
   "execution_count": null,
   "id": "7b8119b3",
   "metadata": {},
   "outputs": [],
   "source": []
  },
  {
   "cell_type": "code",
   "execution_count": null,
   "id": "d9ba2e81",
   "metadata": {},
   "outputs": [],
   "source": []
  },
  {
   "cell_type": "code",
   "execution_count": null,
   "id": "1712bb82",
   "metadata": {},
   "outputs": [],
   "source": []
  },
  {
   "cell_type": "code",
   "execution_count": null,
   "id": "26538069",
   "metadata": {},
   "outputs": [],
   "source": []
  },
  {
   "cell_type": "code",
   "execution_count": null,
   "id": "feb28b6b",
   "metadata": {},
   "outputs": [],
   "source": []
  },
  {
   "cell_type": "code",
   "execution_count": null,
   "id": "5eae111e",
   "metadata": {},
   "outputs": [],
   "source": []
  },
  {
   "cell_type": "code",
   "execution_count": null,
   "id": "b07d8061",
   "metadata": {},
   "outputs": [],
   "source": []
  },
  {
   "cell_type": "code",
   "execution_count": null,
   "id": "aa07b191",
   "metadata": {},
   "outputs": [],
   "source": [
    "dataloader = multichannel_image_dataloader(img_dir, shuffle=True, pad=False)"
   ]
  },
  {
   "cell_type": "code",
   "execution_count": null,
   "id": "b840e2b2",
   "metadata": {},
   "outputs": [],
   "source": [
    "dataloader.dataset.samples, dataloader.dataset.channels"
   ]
  },
  {
   "cell_type": "code",
   "execution_count": null,
   "id": "138b1b7f",
   "metadata": {},
   "outputs": [],
   "source": [
    "[dataloader.dataset.channels.index(c) for c in ['DAPI', 'Ki67', 'CD20', 'CD8', 'pancytok']]"
   ]
  },
  {
   "cell_type": "code",
   "execution_count": null,
   "id": "024c7ad9",
   "metadata": {},
   "outputs": [],
   "source": [
    "import seaborn as sns\n",
    "from einops import rearrange\n",
    "def create_pseudocolor_image(img, channels, colors=None):\n",
    "    if colors is None:\n",
    "        colors = sns.color_palette()\n",
    "    \n",
    "    new = np.zeros((img.shape[0], img.shape[1], 3))\n",
    "    for i, c in enumerate(channels):\n",
    "        new += np.repeat(np.expand_dims(img[:, :, c], axis=-1), 3, axis=-1) * np.asarray(colors[i])\n",
    "    \n",
    "    new = (new / np.max(new)) * 255.\n",
    "    return new.astype(np.uint8)\n",
    "\n",
    "    "
   ]
  },
  {
   "cell_type": "code",
   "execution_count": null,
   "id": "39940477",
   "metadata": {},
   "outputs": [],
   "source": [
    "b = next(iter(dataloader))\n",
    "b.shape"
   ]
  },
  {
   "cell_type": "code",
   "execution_count": null,
   "id": "881b850b",
   "metadata": {},
   "outputs": [],
   "source": [
    "for i, x in enumerate(b):\n",
    "    print(i)\n",
    "    x = rearrange(x, 'c h w -> h w c').numpy()\n",
    "    pseudo = create_pseudocolor_image(x, [12, 14, 2, 11, 18])\n",
    "    plt.imshow(pseudo)\n",
    "    plt.show()"
   ]
  },
  {
   "cell_type": "code",
   "execution_count": null,
   "id": "40d032f6",
   "metadata": {},
   "outputs": [],
   "source": [
    "test = b[39]"
   ]
  },
  {
   "cell_type": "code",
   "execution_count": null,
   "id": "7b3f075c",
   "metadata": {},
   "outputs": [],
   "source": [
    "transform = DataAugmentationDINOMultichannel((0.4, 1.), (0.05, 0.4), 8)"
   ]
  },
  {
   "cell_type": "code",
   "execution_count": null,
   "id": "cc39284e",
   "metadata": {},
   "outputs": [],
   "source": []
  },
  {
   "cell_type": "code",
   "execution_count": null,
   "id": "329ab751",
   "metadata": {},
   "outputs": [],
   "source": [
    "new = transform(test)"
   ]
  },
  {
   "cell_type": "code",
   "execution_count": null,
   "id": "c77d5add",
   "metadata": {},
   "outputs": [],
   "source": [
    "for x in new:\n",
    "    x = rearrange(x, 'c h w -> h w c').numpy()\n",
    "    pseudo = create_pseudocolor_image(x, [12, 14, 2, 11, 18])\n",
    "    plt.imshow(pseudo)\n",
    "    plt.show()"
   ]
  },
  {
   "cell_type": "code",
   "execution_count": null,
   "id": "6f9489e5",
   "metadata": {},
   "outputs": [],
   "source": []
  },
  {
   "cell_type": "code",
   "execution_count": null,
   "id": "ee49c6e6",
   "metadata": {},
   "outputs": [],
   "source": []
  },
  {
   "cell_type": "code",
   "execution_count": null,
   "id": "3fc3a86d",
   "metadata": {},
   "outputs": [],
   "source": []
  },
  {
   "cell_type": "code",
   "execution_count": null,
   "id": "f6ad3f51",
   "metadata": {},
   "outputs": [],
   "source": []
  },
  {
   "cell_type": "code",
   "execution_count": null,
   "id": "1d679d38",
   "metadata": {},
   "outputs": [],
   "source": []
  },
  {
   "cell_type": "code",
   "execution_count": null,
   "id": "a677e16b",
   "metadata": {},
   "outputs": [],
   "source": [
    "transform = DataAugmentationDINOMultichannel(\n",
    "        (0.4, 1.), (0.05, 0.4), 8\n",
    ")\n",
    "dataset = MultichannelImageDataset(\n",
    "    img_dir, transform=transform, pad=False)"
   ]
  },
  {
   "cell_type": "code",
   "execution_count": null,
   "id": "ae023374",
   "metadata": {},
   "outputs": [],
   "source": [
    "import torch\n",
    "dataloader = torch.utils.data.DataLoader(\n",
    "    dataset,\n",
    "    batch_size=64,\n",
    "    shuffle=True,\n",
    "    drop_last=True,\n",
    ")"
   ]
  },
  {
   "cell_type": "code",
   "execution_count": null,
   "id": "e602896b",
   "metadata": {
    "scrolled": true
   },
   "outputs": [],
   "source": [
    "b = next(iter(dataloader))\n",
    "len(b)"
   ]
  },
  {
   "cell_type": "code",
   "execution_count": null,
   "id": "99b8d87f",
   "metadata": {},
   "outputs": [],
   "source": [
    "b[0].shape"
   ]
  },
  {
   "cell_type": "code",
   "execution_count": null,
   "id": "2367cb8a",
   "metadata": {},
   "outputs": [],
   "source": []
  }
 ],
 "metadata": {
  "kernelspec": {
   "display_name": "Python 3",
   "language": "python",
   "name": "python3"
  },
  "language_info": {
   "codemirror_mode": {
    "name": "ipython",
    "version": 3
   },
   "file_extension": ".py",
   "mimetype": "text/x-python",
   "name": "python",
   "nbconvert_exporter": "python",
   "pygments_lexer": "ipython3",
   "version": "3.8.10"
  }
 },
 "nbformat": 4,
 "nbformat_minor": 5
}
